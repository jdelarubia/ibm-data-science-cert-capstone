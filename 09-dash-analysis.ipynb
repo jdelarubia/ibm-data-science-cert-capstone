{
 "cells": [
  {
   "cell_type": "markdown",
   "id": "4b25b82e",
   "metadata": {},
   "source": [
    "# 9. Dash analysis\n",
    "\n",
    "Run `python3 09-dashboard.py` fro your command line to start the dash server.\n",
    "\n",
    "This Notebook brings some numbers in the form of tables to answer the following questions.\n",
    "\n",
    "1. Launch site with a largest success launch rate and number of successes: **KSC LC-39A**\n",
    "2. Launch site with a lowest success launch rate and number of failures: **CCAFS LC-40 76.92%**\n",
    "3. Payload range with highest success rate: **2000 - 5000 kg**\n",
    "4. Payload range with lowest success rate: **(0-2000 kg) & (5000-7000 kg)**\n",
    "5. Booster with highest number of launch success: **F9 FT with 66.69%**\n"
   ]
  },
  {
   "cell_type": "markdown",
   "id": "ce04ed1c",
   "metadata": {},
   "source": [
    "## Imports\n"
   ]
  },
  {
   "cell_type": "code",
   "execution_count": 45,
   "id": "3b39b4f4",
   "metadata": {},
   "outputs": [],
   "source": [
    "import pandas as pd\n",
    "from pathlib import Path\n",
    "\n",
    "import helpers as hlp  # helper functions"
   ]
  },
  {
   "cell_type": "markdown",
   "id": "6587ffb7",
   "metadata": {},
   "source": [
    "## Setup\n"
   ]
  },
  {
   "cell_type": "code",
   "execution_count": 46,
   "id": "5378e070",
   "metadata": {},
   "outputs": [],
   "source": [
    "INPUT_FILE = hlp.DATA_DIR / Path(\"spacex_launch_dash.csv\")\n",
    "PAYLOAD_BINS = list(range(0, 10001, 1000))"
   ]
  },
  {
   "cell_type": "markdown",
   "id": "d4e6ce71",
   "metadata": {},
   "source": [
    "## Load data\n"
   ]
  },
  {
   "cell_type": "code",
   "execution_count": 47,
   "id": "020c8baa",
   "metadata": {},
   "outputs": [
    {
     "data": {
      "application/vnd.microsoft.datawrangler.viewer.v0+json": {
       "columns": [
        {
         "name": "index",
         "rawType": "int64",
         "type": "integer"
        },
        {
         "name": "flight_number",
         "rawType": "int64",
         "type": "integer"
        },
        {
         "name": "launch_site",
         "rawType": "object",
         "type": "string"
        },
        {
         "name": "class",
         "rawType": "int64",
         "type": "integer"
        },
        {
         "name": "payload_mass_kg",
         "rawType": "float64",
         "type": "float"
        },
        {
         "name": "booster_version",
         "rawType": "object",
         "type": "string"
        },
        {
         "name": "booster_version_category",
         "rawType": "object",
         "type": "string"
        }
       ],
       "ref": "f27cec4f-14dd-4c2d-94ca-bb58ab76505e",
       "rows": [
        [
         "0",
         "1",
         "CCAFS LC-40",
         "0",
         "0.0",
         "F9 v1.0  B0003",
         "v1.0"
        ],
        [
         "1",
         "2",
         "CCAFS LC-40",
         "0",
         "0.0",
         "F9 v1.0  B0004",
         "v1.0"
        ],
        [
         "2",
         "3",
         "CCAFS LC-40",
         "0",
         "525.0",
         "F9 v1.0  B0005",
         "v1.0"
        ],
        [
         "3",
         "4",
         "CCAFS LC-40",
         "0",
         "500.0",
         "F9 v1.0  B0006",
         "v1.0"
        ],
        [
         "4",
         "5",
         "CCAFS LC-40",
         "0",
         "677.0",
         "F9 v1.0  B0007",
         "v1.0"
        ]
       ],
       "shape": {
        "columns": 6,
        "rows": 5
       }
      },
      "text/html": [
       "<div>\n",
       "<style scoped>\n",
       "    .dataframe tbody tr th:only-of-type {\n",
       "        vertical-align: middle;\n",
       "    }\n",
       "\n",
       "    .dataframe tbody tr th {\n",
       "        vertical-align: top;\n",
       "    }\n",
       "\n",
       "    .dataframe thead th {\n",
       "        text-align: right;\n",
       "    }\n",
       "</style>\n",
       "<table border=\"1\" class=\"dataframe\">\n",
       "  <thead>\n",
       "    <tr style=\"text-align: right;\">\n",
       "      <th></th>\n",
       "      <th>flight_number</th>\n",
       "      <th>launch_site</th>\n",
       "      <th>class</th>\n",
       "      <th>payload_mass_kg</th>\n",
       "      <th>booster_version</th>\n",
       "      <th>booster_version_category</th>\n",
       "    </tr>\n",
       "  </thead>\n",
       "  <tbody>\n",
       "    <tr>\n",
       "      <th>0</th>\n",
       "      <td>1</td>\n",
       "      <td>CCAFS LC-40</td>\n",
       "      <td>0</td>\n",
       "      <td>0.0</td>\n",
       "      <td>F9 v1.0  B0003</td>\n",
       "      <td>v1.0</td>\n",
       "    </tr>\n",
       "    <tr>\n",
       "      <th>1</th>\n",
       "      <td>2</td>\n",
       "      <td>CCAFS LC-40</td>\n",
       "      <td>0</td>\n",
       "      <td>0.0</td>\n",
       "      <td>F9 v1.0  B0004</td>\n",
       "      <td>v1.0</td>\n",
       "    </tr>\n",
       "    <tr>\n",
       "      <th>2</th>\n",
       "      <td>3</td>\n",
       "      <td>CCAFS LC-40</td>\n",
       "      <td>0</td>\n",
       "      <td>525.0</td>\n",
       "      <td>F9 v1.0  B0005</td>\n",
       "      <td>v1.0</td>\n",
       "    </tr>\n",
       "    <tr>\n",
       "      <th>3</th>\n",
       "      <td>4</td>\n",
       "      <td>CCAFS LC-40</td>\n",
       "      <td>0</td>\n",
       "      <td>500.0</td>\n",
       "      <td>F9 v1.0  B0006</td>\n",
       "      <td>v1.0</td>\n",
       "    </tr>\n",
       "    <tr>\n",
       "      <th>4</th>\n",
       "      <td>5</td>\n",
       "      <td>CCAFS LC-40</td>\n",
       "      <td>0</td>\n",
       "      <td>677.0</td>\n",
       "      <td>F9 v1.0  B0007</td>\n",
       "      <td>v1.0</td>\n",
       "    </tr>\n",
       "  </tbody>\n",
       "</table>\n",
       "</div>"
      ],
      "text/plain": [
       "   flight_number  launch_site  class  payload_mass_kg booster_version  \\\n",
       "0              1  CCAFS LC-40      0              0.0  F9 v1.0  B0003   \n",
       "1              2  CCAFS LC-40      0              0.0  F9 v1.0  B0004   \n",
       "2              3  CCAFS LC-40      0            525.0  F9 v1.0  B0005   \n",
       "3              4  CCAFS LC-40      0            500.0  F9 v1.0  B0006   \n",
       "4              5  CCAFS LC-40      0            677.0  F9 v1.0  B0007   \n",
       "\n",
       "  booster_version_category  \n",
       "0                     v1.0  \n",
       "1                     v1.0  \n",
       "2                     v1.0  \n",
       "3                     v1.0  \n",
       "4                     v1.0  "
      ]
     },
     "execution_count": 47,
     "metadata": {},
     "output_type": "execute_result"
    }
   ],
   "source": [
    "df = pd.read_csv(INPUT_FILE, encoding=\"utf-8\", header=0, index_col=False)\n",
    "\n",
    "# normalize column names\n",
    "df.columns = [hlp.normalize_column_name(col) for col in df.columns]\n",
    "df = df.drop(\"unnamed:_0\", axis=1)\n",
    "df.head()"
   ]
  },
  {
   "cell_type": "markdown",
   "id": "fce3a912",
   "metadata": {},
   "source": [
    "## Common code\n"
   ]
  },
  {
   "cell_type": "code",
   "execution_count": 48,
   "id": "8ea9ed04",
   "metadata": {},
   "outputs": [],
   "source": [
    "unique_sites = list(df[\"launch_site\"].unique())\n",
    "unique_booster_versions = df[\"booster_version\"].apply(lambda x: x.split()[1]).unique()"
   ]
  },
  {
   "cell_type": "markdown",
   "id": "5053b7a4",
   "metadata": {},
   "source": [
    "## 1. Launch site with largest / lowest success launch rate\n"
   ]
  },
  {
   "cell_type": "code",
   "execution_count": 49,
   "id": "d824806f",
   "metadata": {},
   "outputs": [
    {
     "data": {
      "application/vnd.microsoft.datawrangler.viewer.v0+json": {
       "columns": [
        {
         "name": "index",
         "rawType": "int64",
         "type": "integer"
        },
        {
         "name": "site",
         "rawType": "object",
         "type": "string"
        },
        {
         "name": "launches",
         "rawType": "int64",
         "type": "integer"
        },
        {
         "name": "success",
         "rawType": "int64",
         "type": "integer"
        },
        {
         "name": "failure",
         "rawType": "int64",
         "type": "integer"
        },
        {
         "name": "success_ratio",
         "rawType": "float64",
         "type": "float"
        },
        {
         "name": "failure_ratio",
         "rawType": "float64",
         "type": "float"
        }
       ],
       "ref": "90da171a-07e0-46f1-aca1-e77d04d0a867",
       "rows": [
        [
         "0",
         "CCAFS LC-40",
         "26",
         "7",
         "19",
         "0.2692",
         "0.7308"
        ],
        [
         "1",
         "VAFB SLC-4E",
         "10",
         "4",
         "6",
         "0.4",
         "0.6"
        ],
        [
         "2",
         "KSC LC-39A",
         "13",
         "10",
         "3",
         "0.7692",
         "0.2308"
        ],
        [
         "3",
         "CCAFS SLC-40",
         "7",
         "3",
         "4",
         "0.4286",
         "0.5714"
        ]
       ],
       "shape": {
        "columns": 6,
        "rows": 4
       }
      },
      "text/html": [
       "<div>\n",
       "<style scoped>\n",
       "    .dataframe tbody tr th:only-of-type {\n",
       "        vertical-align: middle;\n",
       "    }\n",
       "\n",
       "    .dataframe tbody tr th {\n",
       "        vertical-align: top;\n",
       "    }\n",
       "\n",
       "    .dataframe thead th {\n",
       "        text-align: right;\n",
       "    }\n",
       "</style>\n",
       "<table border=\"1\" class=\"dataframe\">\n",
       "  <thead>\n",
       "    <tr style=\"text-align: right;\">\n",
       "      <th></th>\n",
       "      <th>site</th>\n",
       "      <th>launches</th>\n",
       "      <th>success</th>\n",
       "      <th>failure</th>\n",
       "      <th>success_ratio</th>\n",
       "      <th>failure_ratio</th>\n",
       "    </tr>\n",
       "  </thead>\n",
       "  <tbody>\n",
       "    <tr>\n",
       "      <th>0</th>\n",
       "      <td>CCAFS LC-40</td>\n",
       "      <td>26</td>\n",
       "      <td>7</td>\n",
       "      <td>19</td>\n",
       "      <td>0.2692</td>\n",
       "      <td>0.7308</td>\n",
       "    </tr>\n",
       "    <tr>\n",
       "      <th>1</th>\n",
       "      <td>VAFB SLC-4E</td>\n",
       "      <td>10</td>\n",
       "      <td>4</td>\n",
       "      <td>6</td>\n",
       "      <td>0.4000</td>\n",
       "      <td>0.6000</td>\n",
       "    </tr>\n",
       "    <tr>\n",
       "      <th>2</th>\n",
       "      <td>KSC LC-39A</td>\n",
       "      <td>13</td>\n",
       "      <td>10</td>\n",
       "      <td>3</td>\n",
       "      <td>0.7692</td>\n",
       "      <td>0.2308</td>\n",
       "    </tr>\n",
       "    <tr>\n",
       "      <th>3</th>\n",
       "      <td>CCAFS SLC-40</td>\n",
       "      <td>7</td>\n",
       "      <td>3</td>\n",
       "      <td>4</td>\n",
       "      <td>0.4286</td>\n",
       "      <td>0.5714</td>\n",
       "    </tr>\n",
       "  </tbody>\n",
       "</table>\n",
       "</div>"
      ],
      "text/plain": [
       "           site  launches  success  failure  success_ratio  failure_ratio\n",
       "0   CCAFS LC-40        26        7       19         0.2692         0.7308\n",
       "1   VAFB SLC-4E        10        4        6         0.4000         0.6000\n",
       "2    KSC LC-39A        13       10        3         0.7692         0.2308\n",
       "3  CCAFS SLC-40         7        3        4         0.4286         0.5714"
      ]
     },
     "execution_count": 49,
     "metadata": {},
     "output_type": "execute_result"
    }
   ],
   "source": [
    "# intermediary lists\n",
    "launches = []\n",
    "succeeded = []\n",
    "failed = []\n",
    "\n",
    "# populate intermediary lists\n",
    "for booster_version in unique_sites:\n",
    "    launches.append(df.loc[(df[\"launch_site\"] == booster_version)][\"class\"].count())\n",
    "    succeeded.append(\n",
    "        df.loc[(df[\"launch_site\"] == booster_version) & (df[\"class\"] == 1)][\n",
    "            \"class\"\n",
    "        ].count()\n",
    "    )\n",
    "    failed.append(\n",
    "        df.loc[(df[\"launch_site\"] == booster_version) & (df[\"class\"] == 0)][\n",
    "            \"class\"\n",
    "        ].count()\n",
    "    )\n",
    "\n",
    "# create a new DataFrame to host launches, succeeded and failed launches\n",
    "success_df = pd.DataFrame(\n",
    "    data={\n",
    "        \"site\": unique_sites,\n",
    "        \"launches\": launches,\n",
    "        \"success\": succeeded,\n",
    "        \"failure\": failed,\n",
    "    }\n",
    ")\n",
    "success_df[\"success_ratio\"] = round(success_df[\"success\"] / success_df[\"launches\"], 4)\n",
    "success_df[\"failure_ratio\"] = round(success_df[\"failure\"] / success_df[\"launches\"], 4)\n",
    "success_df"
   ]
  },
  {
   "cell_type": "markdown",
   "id": "403ed28c",
   "metadata": {},
   "source": [
    "## 3. Payload success / failure rate\n"
   ]
  },
  {
   "cell_type": "code",
   "execution_count": 50,
   "id": "10177004",
   "metadata": {},
   "outputs": [
    {
     "data": {
      "application/vnd.microsoft.datawrangler.viewer.v0+json": {
       "columns": [
        {
         "name": "index",
         "rawType": "int64",
         "type": "integer"
        },
        {
         "name": "payload_mass_kg",
         "rawType": "category",
         "type": "unknown"
        },
        {
         "name": "count",
         "rawType": "int64",
         "type": "integer"
        }
       ],
       "ref": "c6386ba4-3d88-4ddd-85ad-5b7bdfc2662a",
       "rows": [
        [
         "0",
         "(0, 1000]",
         "8"
        ],
        [
         "1",
         "(1000, 2000]",
         "3"
        ],
        [
         "2",
         "(2000, 3000]",
         "10"
        ],
        [
         "3",
         "(3000, 4000]",
         "11"
        ],
        [
         "4",
         "(4000, 5000]",
         "8"
        ],
        [
         "5",
         "(5000, 6000]",
         "5"
        ],
        [
         "6",
         "(6000, 7000]",
         "4"
        ],
        [
         "7",
         "(7000, 8000]",
         "0"
        ],
        [
         "8",
         "(8000, 9000]",
         "0"
        ],
        [
         "9",
         "(9000, 10000]",
         "5"
        ]
       ],
       "shape": {
        "columns": 2,
        "rows": 10
       }
      },
      "text/html": [
       "<div>\n",
       "<style scoped>\n",
       "    .dataframe tbody tr th:only-of-type {\n",
       "        vertical-align: middle;\n",
       "    }\n",
       "\n",
       "    .dataframe tbody tr th {\n",
       "        vertical-align: top;\n",
       "    }\n",
       "\n",
       "    .dataframe thead th {\n",
       "        text-align: right;\n",
       "    }\n",
       "</style>\n",
       "<table border=\"1\" class=\"dataframe\">\n",
       "  <thead>\n",
       "    <tr style=\"text-align: right;\">\n",
       "      <th></th>\n",
       "      <th>payload_mass_kg</th>\n",
       "      <th>count</th>\n",
       "    </tr>\n",
       "  </thead>\n",
       "  <tbody>\n",
       "    <tr>\n",
       "      <th>0</th>\n",
       "      <td>(0, 1000]</td>\n",
       "      <td>8</td>\n",
       "    </tr>\n",
       "    <tr>\n",
       "      <th>1</th>\n",
       "      <td>(1000, 2000]</td>\n",
       "      <td>3</td>\n",
       "    </tr>\n",
       "    <tr>\n",
       "      <th>2</th>\n",
       "      <td>(2000, 3000]</td>\n",
       "      <td>10</td>\n",
       "    </tr>\n",
       "    <tr>\n",
       "      <th>3</th>\n",
       "      <td>(3000, 4000]</td>\n",
       "      <td>11</td>\n",
       "    </tr>\n",
       "    <tr>\n",
       "      <th>4</th>\n",
       "      <td>(4000, 5000]</td>\n",
       "      <td>8</td>\n",
       "    </tr>\n",
       "    <tr>\n",
       "      <th>5</th>\n",
       "      <td>(5000, 6000]</td>\n",
       "      <td>5</td>\n",
       "    </tr>\n",
       "    <tr>\n",
       "      <th>6</th>\n",
       "      <td>(6000, 7000]</td>\n",
       "      <td>4</td>\n",
       "    </tr>\n",
       "    <tr>\n",
       "      <th>7</th>\n",
       "      <td>(7000, 8000]</td>\n",
       "      <td>0</td>\n",
       "    </tr>\n",
       "    <tr>\n",
       "      <th>8</th>\n",
       "      <td>(8000, 9000]</td>\n",
       "      <td>0</td>\n",
       "    </tr>\n",
       "    <tr>\n",
       "      <th>9</th>\n",
       "      <td>(9000, 10000]</td>\n",
       "      <td>5</td>\n",
       "    </tr>\n",
       "  </tbody>\n",
       "</table>\n",
       "</div>"
      ],
      "text/plain": [
       "  payload_mass_kg  count\n",
       "0       (0, 1000]      8\n",
       "1    (1000, 2000]      3\n",
       "2    (2000, 3000]     10\n",
       "3    (3000, 4000]     11\n",
       "4    (4000, 5000]      8\n",
       "5    (5000, 6000]      5\n",
       "6    (6000, 7000]      4\n",
       "7    (7000, 8000]      0\n",
       "8    (8000, 9000]      0\n",
       "9   (9000, 10000]      5"
      ]
     },
     "execution_count": 50,
     "metadata": {},
     "output_type": "execute_result"
    }
   ],
   "source": [
    "intervals_df = (\n",
    "    pd.cut(df[\"payload_mass_kg\"], PAYLOAD_BINS, right=True).value_counts().sort_index()\n",
    ")\n",
    "intervals_df = intervals_df.reset_index()\n",
    "intervals_df"
   ]
  },
  {
   "cell_type": "code",
   "execution_count": null,
   "id": "6228bf1f",
   "metadata": {},
   "outputs": [
    {
     "data": {
      "application/vnd.microsoft.datawrangler.viewer.v0+json": {
       "columns": [
        {
         "name": "index",
         "rawType": "int64",
         "type": "integer"
        },
        {
         "name": "interval",
         "rawType": "object",
         "type": "unknown"
        },
        {
         "name": "min",
         "rawType": "int64",
         "type": "integer"
        },
        {
         "name": "max",
         "rawType": "int64",
         "type": "integer"
        },
        {
         "name": "launches",
         "rawType": "int64",
         "type": "integer"
        },
        {
         "name": "success",
         "rawType": "int64",
         "type": "integer"
        },
        {
         "name": "failure",
         "rawType": "int64",
         "type": "integer"
        },
        {
         "name": "success_ratio",
         "rawType": "float64",
         "type": "float"
        },
        {
         "name": "failure_ratio",
         "rawType": "float64",
         "type": "float"
        }
       ],
       "ref": "8e2b8cd1-b8a6-4447-929e-368528f5f64e",
       "rows": [
        [
         "0",
         "[np.int64(0), np.int64(1000)]",
         "0",
         "1000",
         "10",
         "2",
         "8",
         "0.2",
         "0.8"
        ],
        [
         "1",
         "[np.int64(1000), np.int64(2000)]",
         "1000",
         "2000",
         "3",
         "1",
         "2",
         "0.3333",
         "0.6667"
        ],
        [
         "2",
         "[np.int64(2000), np.int64(3000)]",
         "2000",
         "3000",
         "10",
         "5",
         "5",
         "0.5",
         "0.5"
        ],
        [
         "3",
         "[np.int64(3000), np.int64(4000)]",
         "3000",
         "4000",
         "11",
         "8",
         "3",
         "0.7273",
         "0.2727"
        ],
        [
         "4",
         "[np.int64(4000), np.int64(5000)]",
         "4000",
         "5000",
         "8",
         "3",
         "5",
         "0.375",
         "0.625"
        ],
        [
         "5",
         "[np.int64(5000), np.int64(6000)]",
         "5000",
         "6000",
         "5",
         "2",
         "3",
         "0.4",
         "0.6"
        ],
        [
         "6",
         "[np.int64(6000), np.int64(7000)]",
         "6000",
         "7000",
         "4",
         "0",
         "4",
         "0.0",
         "1.0"
        ],
        [
         "7",
         "[np.int64(7000), np.int64(8000)]",
         "7000",
         "8000",
         "0",
         "0",
         "0",
         "0.0",
         "0.0"
        ],
        [
         "8",
         "[np.int64(8000), np.int64(9000)]",
         "8000",
         "9000",
         "0",
         "0",
         "0",
         "0.0",
         "0.0"
        ],
        [
         "9",
         "[np.int64(9000), np.int64(10000)]",
         "9000",
         "10000",
         "5",
         "3",
         "2",
         "0.6",
         "0.4"
        ]
       ],
       "shape": {
        "columns": 8,
        "rows": 10
       }
      },
      "text/html": [
       "<div>\n",
       "<style scoped>\n",
       "    .dataframe tbody tr th:only-of-type {\n",
       "        vertical-align: middle;\n",
       "    }\n",
       "\n",
       "    .dataframe tbody tr th {\n",
       "        vertical-align: top;\n",
       "    }\n",
       "\n",
       "    .dataframe thead th {\n",
       "        text-align: right;\n",
       "    }\n",
       "</style>\n",
       "<table border=\"1\" class=\"dataframe\">\n",
       "  <thead>\n",
       "    <tr style=\"text-align: right;\">\n",
       "      <th></th>\n",
       "      <th>interval</th>\n",
       "      <th>min</th>\n",
       "      <th>max</th>\n",
       "      <th>launches</th>\n",
       "      <th>success</th>\n",
       "      <th>failure</th>\n",
       "      <th>success_ratio</th>\n",
       "      <th>failure_ratio</th>\n",
       "    </tr>\n",
       "  </thead>\n",
       "  <tbody>\n",
       "    <tr>\n",
       "      <th>0</th>\n",
       "      <td>[0, 1000]</td>\n",
       "      <td>0</td>\n",
       "      <td>1000</td>\n",
       "      <td>10</td>\n",
       "      <td>2</td>\n",
       "      <td>8</td>\n",
       "      <td>0.2000</td>\n",
       "      <td>0.8000</td>\n",
       "    </tr>\n",
       "    <tr>\n",
       "      <th>1</th>\n",
       "      <td>[1000, 2000]</td>\n",
       "      <td>1000</td>\n",
       "      <td>2000</td>\n",
       "      <td>3</td>\n",
       "      <td>1</td>\n",
       "      <td>2</td>\n",
       "      <td>0.3333</td>\n",
       "      <td>0.6667</td>\n",
       "    </tr>\n",
       "    <tr>\n",
       "      <th>2</th>\n",
       "      <td>[2000, 3000]</td>\n",
       "      <td>2000</td>\n",
       "      <td>3000</td>\n",
       "      <td>10</td>\n",
       "      <td>5</td>\n",
       "      <td>5</td>\n",
       "      <td>0.5000</td>\n",
       "      <td>0.5000</td>\n",
       "    </tr>\n",
       "    <tr>\n",
       "      <th>3</th>\n",
       "      <td>[3000, 4000]</td>\n",
       "      <td>3000</td>\n",
       "      <td>4000</td>\n",
       "      <td>11</td>\n",
       "      <td>8</td>\n",
       "      <td>3</td>\n",
       "      <td>0.7273</td>\n",
       "      <td>0.2727</td>\n",
       "    </tr>\n",
       "    <tr>\n",
       "      <th>4</th>\n",
       "      <td>[4000, 5000]</td>\n",
       "      <td>4000</td>\n",
       "      <td>5000</td>\n",
       "      <td>8</td>\n",
       "      <td>3</td>\n",
       "      <td>5</td>\n",
       "      <td>0.3750</td>\n",
       "      <td>0.6250</td>\n",
       "    </tr>\n",
       "    <tr>\n",
       "      <th>5</th>\n",
       "      <td>[5000, 6000]</td>\n",
       "      <td>5000</td>\n",
       "      <td>6000</td>\n",
       "      <td>5</td>\n",
       "      <td>2</td>\n",
       "      <td>3</td>\n",
       "      <td>0.4000</td>\n",
       "      <td>0.6000</td>\n",
       "    </tr>\n",
       "    <tr>\n",
       "      <th>6</th>\n",
       "      <td>[6000, 7000]</td>\n",
       "      <td>6000</td>\n",
       "      <td>7000</td>\n",
       "      <td>4</td>\n",
       "      <td>0</td>\n",
       "      <td>4</td>\n",
       "      <td>0.0000</td>\n",
       "      <td>1.0000</td>\n",
       "    </tr>\n",
       "    <tr>\n",
       "      <th>7</th>\n",
       "      <td>[7000, 8000]</td>\n",
       "      <td>7000</td>\n",
       "      <td>8000</td>\n",
       "      <td>0</td>\n",
       "      <td>0</td>\n",
       "      <td>0</td>\n",
       "      <td>0.0000</td>\n",
       "      <td>0.0000</td>\n",
       "    </tr>\n",
       "    <tr>\n",
       "      <th>8</th>\n",
       "      <td>[8000, 9000]</td>\n",
       "      <td>8000</td>\n",
       "      <td>9000</td>\n",
       "      <td>0</td>\n",
       "      <td>0</td>\n",
       "      <td>0</td>\n",
       "      <td>0.0000</td>\n",
       "      <td>0.0000</td>\n",
       "    </tr>\n",
       "    <tr>\n",
       "      <th>9</th>\n",
       "      <td>[9000, 10000]</td>\n",
       "      <td>9000</td>\n",
       "      <td>10000</td>\n",
       "      <td>5</td>\n",
       "      <td>3</td>\n",
       "      <td>2</td>\n",
       "      <td>0.6000</td>\n",
       "      <td>0.4000</td>\n",
       "    </tr>\n",
       "  </tbody>\n",
       "</table>\n",
       "</div>"
      ],
      "text/plain": [
       "        interval   min    max  launches  success  failure  success_ratio  \\\n",
       "0      [0, 1000]     0   1000        10        2        8         0.2000   \n",
       "1   [1000, 2000]  1000   2000         3        1        2         0.3333   \n",
       "2   [2000, 3000]  2000   3000        10        5        5         0.5000   \n",
       "3   [3000, 4000]  3000   4000        11        8        3         0.7273   \n",
       "4   [4000, 5000]  4000   5000         8        3        5         0.3750   \n",
       "5   [5000, 6000]  5000   6000         5        2        3         0.4000   \n",
       "6   [6000, 7000]  6000   7000         4        0        4         0.0000   \n",
       "7   [7000, 8000]  7000   8000         0        0        0         0.0000   \n",
       "8   [8000, 9000]  8000   9000         0        0        0         0.0000   \n",
       "9  [9000, 10000]  9000  10000         5        3        2         0.6000   \n",
       "\n",
       "   failure_ratio  \n",
       "0         0.8000  \n",
       "1         0.6667  \n",
       "2         0.5000  \n",
       "3         0.2727  \n",
       "4         0.6250  \n",
       "5         0.6000  \n",
       "6         1.0000  \n",
       "7         0.0000  \n",
       "8         0.0000  \n",
       "9         0.4000  "
      ]
     },
     "execution_count": 51,
     "metadata": {},
     "output_type": "execute_result"
    }
   ],
   "source": [
    "# intermediary lists\n",
    "unique_intervals = []\n",
    "launches = []\n",
    "succeeded = []\n",
    "failed = []\n",
    "mins = []\n",
    "maxs = []\n",
    "\n",
    "# populate intermediary lists\n",
    "for row in intervals_df.itertuples():\n",
    "    _, interval, counts = row\n",
    "    min_, max_ = [interval.left, interval.right]\n",
    "    unique_intervals.append([min_, max_])\n",
    "    mins.append(min_)\n",
    "    maxs.append(max_)\n",
    "\n",
    "    payload_condition = (min_ <= df[\"payload_mass_kg\"]) & (df[\"payload_mass_kg\"] < max_)\n",
    "    launches.append(df.loc[payload_condition][\"class\"].count())\n",
    "    succeeded.append(df.loc[(payload_condition) & (df[\"class\"] == 1)][\"class\"].count())\n",
    "    failed.append(df.loc[(payload_condition) & (df[\"class\"] == 0)][\"class\"].count())\n",
    "\n",
    "# create a new DataFrame to host intervals, succeeded and failed launches\n",
    "success_df = pd.DataFrame(\n",
    "    data={\n",
    "        \"interval\": unique_intervals,\n",
    "        \"min\": mins,\n",
    "        \"max\": maxs,\n",
    "        \"launches\": launches,\n",
    "        \"success\": succeeded,\n",
    "        \"failure\": failed,\n",
    "    }\n",
    ")\n",
    "success_df[\"success_ratio\"] = round(success_df[\"success\"] / success_df[\"launches\"], 4)\n",
    "success_df[\"failure_ratio\"] = round(success_df[\"failure\"] / success_df[\"launches\"], 4)\n",
    "success_df = success_df.fillna(0)  # set NaNs to 0\n",
    "success_df"
   ]
  },
  {
   "cell_type": "code",
   "execution_count": 80,
   "id": "46b24cd4",
   "metadata": {},
   "outputs": [
    {
     "name": "stdout",
     "output_type": "stream",
     "text": [
      "INTERVAL       | LAUNCHES   | Success %  | Failed %   |\n",
      "-------------------------------------------------------\n",
      "(0, 2000)      |         13 |       0.23 |       0.77\n",
      "(2000, 4000)   |         21 |       0.62 |       0.38\n",
      "(5000, 7000)   |          9 |       0.22 |       0.78\n",
      "(7000, 9000)   |          0 |       0.00 |       0.00\n",
      "(9000, 11000)  |          5 |       0.60 |       0.40\n"
     ]
    }
   ],
   "source": [
    "study_intervals = [(0, 2000), (2000, 4000), (5000, 7000), (7000, 9000), (9000, 11000)]\n",
    "print(f\"{'INTERVAL':14} | {'LAUNCHES':10} | {'Success %':10} | {'Failed %':10} |\")\n",
    "print(\"-\" * (14 + 10 + 10 + 10 + 11))\n",
    "for interval in study_intervals:\n",
    "    min_, max_ = interval\n",
    "    cond = (success_df[\"min\"] >= min_) & (success_df[\"max\"] <= max_)\n",
    "    temp_df = success_df.loc[cond]\n",
    "    launches = temp_df[\"launches\"].sum()\n",
    "    succeeded = temp_df[\"success\"].sum()\n",
    "    failed = temp_df[\"failure\"].sum()\n",
    "    succeeded_pct = 0\n",
    "    failed_pct = 0\n",
    "    if launches > 0:\n",
    "        succeeded_pct = round(succeeded / launches, 2)\n",
    "        failed_pct = round(failed / launches, 2)\n",
    "\n",
    "    print(\n",
    "        f\"{str(interval):14} | {launches:10d} | {succeeded_pct:10.2f} | {failed_pct:10.2f}\"\n",
    "    )"
   ]
  },
  {
   "cell_type": "markdown",
   "id": "21bb9368",
   "metadata": {},
   "source": [
    "## 5. Booster with highest number of launches\n"
   ]
  },
  {
   "cell_type": "code",
   "execution_count": null,
   "id": "72ca6d8d",
   "metadata": {},
   "outputs": [],
   "source": [
    "# add new column to host booster versions\n",
    "df[\"version\"] = df[\"booster_version\"].apply(lambda x: x.split()[1])"
   ]
  },
  {
   "cell_type": "code",
   "execution_count": null,
   "id": "b7489155",
   "metadata": {},
   "outputs": [
    {
     "data": {
      "application/vnd.microsoft.datawrangler.viewer.v0+json": {
       "columns": [
        {
         "name": "index",
         "rawType": "int64",
         "type": "integer"
        },
        {
         "name": "booster",
         "rawType": "object",
         "type": "string"
        },
        {
         "name": "launches",
         "rawType": "int64",
         "type": "integer"
        },
        {
         "name": "success",
         "rawType": "int64",
         "type": "integer"
        },
        {
         "name": "failure",
         "rawType": "int64",
         "type": "integer"
        },
        {
         "name": "success_ratio",
         "rawType": "float64",
         "type": "float"
        },
        {
         "name": "failure_ratio",
         "rawType": "float64",
         "type": "float"
        }
       ],
       "ref": "b6b01699-fed9-4899-a9bf-18e4f67e9aa2",
       "rows": [
        [
         "0",
         "v1.0",
         "5",
         "0",
         "5",
         "0.0",
         "1.0"
        ],
        [
         "1",
         "v1.1",
         "15",
         "1",
         "14",
         "0.0667",
         "0.9333"
        ],
        [
         "2",
         "FT",
         "24",
         "16",
         "8",
         "0.6667",
         "0.3333"
        ],
        [
         "3",
         "B4",
         "11",
         "6",
         "5",
         "0.5455",
         "0.4545"
        ],
        [
         "4",
         "B5",
         "1",
         "1",
         "0",
         "1.0",
         "0.0"
        ]
       ],
       "shape": {
        "columns": 6,
        "rows": 5
       }
      },
      "text/html": [
       "<div>\n",
       "<style scoped>\n",
       "    .dataframe tbody tr th:only-of-type {\n",
       "        vertical-align: middle;\n",
       "    }\n",
       "\n",
       "    .dataframe tbody tr th {\n",
       "        vertical-align: top;\n",
       "    }\n",
       "\n",
       "    .dataframe thead th {\n",
       "        text-align: right;\n",
       "    }\n",
       "</style>\n",
       "<table border=\"1\" class=\"dataframe\">\n",
       "  <thead>\n",
       "    <tr style=\"text-align: right;\">\n",
       "      <th></th>\n",
       "      <th>booster</th>\n",
       "      <th>launches</th>\n",
       "      <th>success</th>\n",
       "      <th>failure</th>\n",
       "      <th>success_ratio</th>\n",
       "      <th>failure_ratio</th>\n",
       "    </tr>\n",
       "  </thead>\n",
       "  <tbody>\n",
       "    <tr>\n",
       "      <th>0</th>\n",
       "      <td>v1.0</td>\n",
       "      <td>5</td>\n",
       "      <td>0</td>\n",
       "      <td>5</td>\n",
       "      <td>0.0000</td>\n",
       "      <td>1.0000</td>\n",
       "    </tr>\n",
       "    <tr>\n",
       "      <th>1</th>\n",
       "      <td>v1.1</td>\n",
       "      <td>15</td>\n",
       "      <td>1</td>\n",
       "      <td>14</td>\n",
       "      <td>0.0667</td>\n",
       "      <td>0.9333</td>\n",
       "    </tr>\n",
       "    <tr>\n",
       "      <th>2</th>\n",
       "      <td>FT</td>\n",
       "      <td>24</td>\n",
       "      <td>16</td>\n",
       "      <td>8</td>\n",
       "      <td>0.6667</td>\n",
       "      <td>0.3333</td>\n",
       "    </tr>\n",
       "    <tr>\n",
       "      <th>3</th>\n",
       "      <td>B4</td>\n",
       "      <td>11</td>\n",
       "      <td>6</td>\n",
       "      <td>5</td>\n",
       "      <td>0.5455</td>\n",
       "      <td>0.4545</td>\n",
       "    </tr>\n",
       "    <tr>\n",
       "      <th>4</th>\n",
       "      <td>B5</td>\n",
       "      <td>1</td>\n",
       "      <td>1</td>\n",
       "      <td>0</td>\n",
       "      <td>1.0000</td>\n",
       "      <td>0.0000</td>\n",
       "    </tr>\n",
       "  </tbody>\n",
       "</table>\n",
       "</div>"
      ],
      "text/plain": [
       "  booster  launches  success  failure  success_ratio  failure_ratio\n",
       "0    v1.0         5        0        5         0.0000         1.0000\n",
       "1    v1.1        15        1       14         0.0667         0.9333\n",
       "2      FT        24       16        8         0.6667         0.3333\n",
       "3      B4        11        6        5         0.5455         0.4545\n",
       "4      B5         1        1        0         1.0000         0.0000"
      ]
     },
     "execution_count": 23,
     "metadata": {},
     "output_type": "execute_result"
    }
   ],
   "source": [
    "# intermediary lists\n",
    "launches = []\n",
    "succeeded = []\n",
    "failed = []\n",
    "\n",
    "# populate intermediary lists\n",
    "for booster_version in unique_booster_versions:\n",
    "    launches.append(df.loc[(df[\"version\"] == booster_version)][\"class\"].count())\n",
    "    succeeded.append(\n",
    "        df.loc[(df[\"version\"] == booster_version) & (df[\"class\"] == 1)][\"class\"].count()\n",
    "    )\n",
    "    failed.append(\n",
    "        df.loc[(df[\"version\"] == booster_version) & (df[\"class\"] == 0)][\"class\"].count()\n",
    "    )\n",
    "\n",
    "# create a new DataFrame to host booster versions, succeeded and failed launches\n",
    "success_df = pd.DataFrame(\n",
    "    data={\n",
    "        \"booster\": unique_booster_versions,\n",
    "        \"launches\": launches,\n",
    "        \"success\": succeeded,\n",
    "        \"failure\": failed,\n",
    "    }\n",
    ")\n",
    "success_df[\"success_ratio\"] = round(success_df[\"success\"] / success_df[\"launches\"], 4)\n",
    "success_df[\"failure_ratio\"] = round(success_df[\"failure\"] / success_df[\"launches\"], 4)\n",
    "success_df"
   ]
  }
 ],
 "metadata": {
  "kernelspec": {
   "display_name": "ibm-data-science-cert-capstone",
   "language": "python",
   "name": "python3"
  },
  "language_info": {
   "codemirror_mode": {
    "name": "ipython",
    "version": 3
   },
   "file_extension": ".py",
   "mimetype": "text/x-python",
   "name": "python",
   "nbconvert_exporter": "python",
   "pygments_lexer": "ipython3",
   "version": "3.13.0"
  }
 },
 "nbformat": 4,
 "nbformat_minor": 5
}
