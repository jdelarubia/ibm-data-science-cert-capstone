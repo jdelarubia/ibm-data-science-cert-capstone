{
 "cells": [
  {
   "cell_type": "markdown",
   "id": "02a11e5d",
   "metadata": {},
   "source": [
    "# 4. Basic Data Analysis\n",
    "\n",
    "- adds an extra column to our dataset to classify successful and unsuccessful launches\n",
    "- performs very basic numerical analysis on some of the columns\n"
   ]
  },
  {
   "cell_type": "code",
   "execution_count": 1,
   "id": "4de94f5c",
   "metadata": {},
   "outputs": [],
   "source": [
    "import pandas as pd\n",
    "from pathlib import Path\n",
    "\n",
    "import helpers as hlp"
   ]
  },
  {
   "cell_type": "markdown",
   "id": "37a54d57",
   "metadata": {},
   "source": [
    "## Setup\n"
   ]
  },
  {
   "cell_type": "code",
   "execution_count": 2,
   "id": "0a4a7cc8",
   "metadata": {},
   "outputs": [],
   "source": [
    "pd.set_option(\"display.max_columns\", None)\n",
    "pd.set_option(\"display.max_colwidth\", None)\n",
    "\n",
    "INPUT_FILE = hlp.DATA_DIR / Path(\"02_falcon9_data.csv\")  # data from step 2\n",
    "OUTPUT_FILE = hlp.DATA_DIR / Path(\"04_eda_data.csv\")\n"
   ]
  },
  {
   "cell_type": "markdown",
   "id": "b23a0b23",
   "metadata": {},
   "source": [
    "## Data Analysis\n"
   ]
  },
  {
   "cell_type": "code",
   "execution_count": 3,
   "id": "35daa0d8",
   "metadata": {},
   "outputs": [
    {
     "data": {
      "application/vnd.microsoft.datawrangler.viewer.v0+json": {
       "columns": [
        {
         "name": "index",
         "rawType": "int64",
         "type": "integer"
        },
        {
         "name": "flight_number",
         "rawType": "int64",
         "type": "integer"
        },
        {
         "name": "date",
         "rawType": "object",
         "type": "string"
        },
        {
         "name": "booster_version",
         "rawType": "object",
         "type": "string"
        },
        {
         "name": "payload_mass",
         "rawType": "float64",
         "type": "float"
        },
        {
         "name": "orbit",
         "rawType": "object",
         "type": "string"
        },
        {
         "name": "launch_site",
         "rawType": "object",
         "type": "string"
        },
        {
         "name": "outcome",
         "rawType": "object",
         "type": "string"
        },
        {
         "name": "flights",
         "rawType": "int64",
         "type": "integer"
        },
        {
         "name": "grid_fins",
         "rawType": "bool",
         "type": "boolean"
        },
        {
         "name": "reused",
         "rawType": "bool",
         "type": "boolean"
        },
        {
         "name": "legs",
         "rawType": "bool",
         "type": "boolean"
        },
        {
         "name": "landing_pad",
         "rawType": "object",
         "type": "unknown"
        },
        {
         "name": "block",
         "rawType": "float64",
         "type": "float"
        },
        {
         "name": "reused_count",
         "rawType": "int64",
         "type": "integer"
        },
        {
         "name": "serial",
         "rawType": "object",
         "type": "string"
        },
        {
         "name": "longitude",
         "rawType": "float64",
         "type": "float"
        },
        {
         "name": "latitude",
         "rawType": "float64",
         "type": "float"
        }
       ],
       "ref": "f02feb92-c4ef-4617-bf89-35478b815d79",
       "rows": [
        [
         "0",
         "6",
         "2010-06-04",
         "Falcon 9",
         "6123.547647058824",
         "LEO",
         "CCSFS SLC 40",
         "None None",
         "1",
         "False",
         "False",
         "False",
         null,
         "1.0",
         "0",
         "B0003",
         "-80.577366",
         "28.5618571"
        ],
        [
         "1",
         "8",
         "2012-05-22",
         "Falcon 9",
         "525.0",
         "LEO",
         "CCSFS SLC 40",
         "None None",
         "1",
         "False",
         "False",
         "False",
         null,
         "1.0",
         "0",
         "B0005",
         "-80.577366",
         "28.5618571"
        ],
        [
         "2",
         "10",
         "2013-03-01",
         "Falcon 9",
         "677.0",
         "ISS",
         "CCSFS SLC 40",
         "None None",
         "1",
         "False",
         "False",
         "False",
         null,
         "1.0",
         "0",
         "B0007",
         "-80.577366",
         "28.5618571"
        ],
        [
         "3",
         "11",
         "2013-09-29",
         "Falcon 9",
         "500.0",
         "PO",
         "VAFB SLC 4E",
         "False Ocean",
         "1",
         "False",
         "False",
         "False",
         null,
         "1.0",
         "0",
         "B1003",
         "-120.610829",
         "34.632093"
        ],
        [
         "4",
         "12",
         "2013-12-03",
         "Falcon 9",
         "3170.0",
         "GTO",
         "CCSFS SLC 40",
         "None None",
         "1",
         "False",
         "False",
         "False",
         null,
         "1.0",
         "0",
         "B1004",
         "-80.577366",
         "28.5618571"
        ]
       ],
       "shape": {
        "columns": 17,
        "rows": 5
       }
      },
      "text/html": [
       "<div>\n",
       "<style scoped>\n",
       "    .dataframe tbody tr th:only-of-type {\n",
       "        vertical-align: middle;\n",
       "    }\n",
       "\n",
       "    .dataframe tbody tr th {\n",
       "        vertical-align: top;\n",
       "    }\n",
       "\n",
       "    .dataframe thead th {\n",
       "        text-align: right;\n",
       "    }\n",
       "</style>\n",
       "<table border=\"1\" class=\"dataframe\">\n",
       "  <thead>\n",
       "    <tr style=\"text-align: right;\">\n",
       "      <th></th>\n",
       "      <th>flight_number</th>\n",
       "      <th>date</th>\n",
       "      <th>booster_version</th>\n",
       "      <th>payload_mass</th>\n",
       "      <th>orbit</th>\n",
       "      <th>launch_site</th>\n",
       "      <th>outcome</th>\n",
       "      <th>flights</th>\n",
       "      <th>grid_fins</th>\n",
       "      <th>reused</th>\n",
       "      <th>legs</th>\n",
       "      <th>landing_pad</th>\n",
       "      <th>block</th>\n",
       "      <th>reused_count</th>\n",
       "      <th>serial</th>\n",
       "      <th>longitude</th>\n",
       "      <th>latitude</th>\n",
       "    </tr>\n",
       "  </thead>\n",
       "  <tbody>\n",
       "    <tr>\n",
       "      <th>0</th>\n",
       "      <td>6</td>\n",
       "      <td>2010-06-04</td>\n",
       "      <td>Falcon 9</td>\n",
       "      <td>6123.547647</td>\n",
       "      <td>LEO</td>\n",
       "      <td>CCSFS SLC 40</td>\n",
       "      <td>None None</td>\n",
       "      <td>1</td>\n",
       "      <td>False</td>\n",
       "      <td>False</td>\n",
       "      <td>False</td>\n",
       "      <td>NaN</td>\n",
       "      <td>1.0</td>\n",
       "      <td>0</td>\n",
       "      <td>B0003</td>\n",
       "      <td>-80.577366</td>\n",
       "      <td>28.561857</td>\n",
       "    </tr>\n",
       "    <tr>\n",
       "      <th>1</th>\n",
       "      <td>8</td>\n",
       "      <td>2012-05-22</td>\n",
       "      <td>Falcon 9</td>\n",
       "      <td>525.000000</td>\n",
       "      <td>LEO</td>\n",
       "      <td>CCSFS SLC 40</td>\n",
       "      <td>None None</td>\n",
       "      <td>1</td>\n",
       "      <td>False</td>\n",
       "      <td>False</td>\n",
       "      <td>False</td>\n",
       "      <td>NaN</td>\n",
       "      <td>1.0</td>\n",
       "      <td>0</td>\n",
       "      <td>B0005</td>\n",
       "      <td>-80.577366</td>\n",
       "      <td>28.561857</td>\n",
       "    </tr>\n",
       "    <tr>\n",
       "      <th>2</th>\n",
       "      <td>10</td>\n",
       "      <td>2013-03-01</td>\n",
       "      <td>Falcon 9</td>\n",
       "      <td>677.000000</td>\n",
       "      <td>ISS</td>\n",
       "      <td>CCSFS SLC 40</td>\n",
       "      <td>None None</td>\n",
       "      <td>1</td>\n",
       "      <td>False</td>\n",
       "      <td>False</td>\n",
       "      <td>False</td>\n",
       "      <td>NaN</td>\n",
       "      <td>1.0</td>\n",
       "      <td>0</td>\n",
       "      <td>B0007</td>\n",
       "      <td>-80.577366</td>\n",
       "      <td>28.561857</td>\n",
       "    </tr>\n",
       "    <tr>\n",
       "      <th>3</th>\n",
       "      <td>11</td>\n",
       "      <td>2013-09-29</td>\n",
       "      <td>Falcon 9</td>\n",
       "      <td>500.000000</td>\n",
       "      <td>PO</td>\n",
       "      <td>VAFB SLC 4E</td>\n",
       "      <td>False Ocean</td>\n",
       "      <td>1</td>\n",
       "      <td>False</td>\n",
       "      <td>False</td>\n",
       "      <td>False</td>\n",
       "      <td>NaN</td>\n",
       "      <td>1.0</td>\n",
       "      <td>0</td>\n",
       "      <td>B1003</td>\n",
       "      <td>-120.610829</td>\n",
       "      <td>34.632093</td>\n",
       "    </tr>\n",
       "    <tr>\n",
       "      <th>4</th>\n",
       "      <td>12</td>\n",
       "      <td>2013-12-03</td>\n",
       "      <td>Falcon 9</td>\n",
       "      <td>3170.000000</td>\n",
       "      <td>GTO</td>\n",
       "      <td>CCSFS SLC 40</td>\n",
       "      <td>None None</td>\n",
       "      <td>1</td>\n",
       "      <td>False</td>\n",
       "      <td>False</td>\n",
       "      <td>False</td>\n",
       "      <td>NaN</td>\n",
       "      <td>1.0</td>\n",
       "      <td>0</td>\n",
       "      <td>B1004</td>\n",
       "      <td>-80.577366</td>\n",
       "      <td>28.561857</td>\n",
       "    </tr>\n",
       "  </tbody>\n",
       "</table>\n",
       "</div>"
      ],
      "text/plain": [
       "   flight_number        date booster_version  payload_mass orbit  \\\n",
       "0              6  2010-06-04        Falcon 9   6123.547647   LEO   \n",
       "1              8  2012-05-22        Falcon 9    525.000000   LEO   \n",
       "2             10  2013-03-01        Falcon 9    677.000000   ISS   \n",
       "3             11  2013-09-29        Falcon 9    500.000000    PO   \n",
       "4             12  2013-12-03        Falcon 9   3170.000000   GTO   \n",
       "\n",
       "    launch_site      outcome  flights  grid_fins  reused   legs landing_pad  \\\n",
       "0  CCSFS SLC 40    None None        1      False   False  False         NaN   \n",
       "1  CCSFS SLC 40    None None        1      False   False  False         NaN   \n",
       "2  CCSFS SLC 40    None None        1      False   False  False         NaN   \n",
       "3   VAFB SLC 4E  False Ocean        1      False   False  False         NaN   \n",
       "4  CCSFS SLC 40    None None        1      False   False  False         NaN   \n",
       "\n",
       "   block  reused_count serial   longitude   latitude  \n",
       "0    1.0             0  B0003  -80.577366  28.561857  \n",
       "1    1.0             0  B0005  -80.577366  28.561857  \n",
       "2    1.0             0  B0007  -80.577366  28.561857  \n",
       "3    1.0             0  B1003 -120.610829  34.632093  \n",
       "4    1.0             0  B1004  -80.577366  28.561857  "
      ]
     },
     "execution_count": 3,
     "metadata": {},
     "output_type": "execute_result"
    }
   ],
   "source": [
    "df = pd.read_csv(INPUT_FILE, encoding=\"utf-8\", header=0, index_col=False)\n",
    "df.astype(\n",
    "    {\n",
    "        \"date\": \"datetime64[ns]\",\n",
    "        \"booster_version\": \"object\",\n",
    "        \"payload_mass\": \"float64\",\n",
    "        \"orbit\": \"object\",\n",
    "        \"launch_site\": \"object\",\n",
    "        \"outcome\": \"object\",\n",
    "        \"flights\": \"int64\",\n",
    "        \"grid_fins\": bool,\n",
    "        \"reused\": bool,\n",
    "        \"legs\": bool,\n",
    "        \"landing_pad\": \"object\",\n",
    "        \"block\": \"float64\",\n",
    "        \"reused_count\": \"int64\",\n",
    "        \"serial\": \"object\",\n",
    "        \"longitude\": \"object\",\n",
    "        \"latitude\": \"object\",\n",
    "    }\n",
    ")\n",
    "df.head(5)"
   ]
  },
  {
   "cell_type": "code",
   "execution_count": 4,
   "id": "2fe84148",
   "metadata": {},
   "outputs": [
    {
     "data": {
      "application/vnd.microsoft.datawrangler.viewer.v0+json": {
       "columns": [
        {
         "name": "index",
         "rawType": "object",
         "type": "string"
        },
        {
         "name": "0",
         "rawType": "object",
         "type": "unknown"
        }
       ],
       "ref": "f8430678-7330-4d7a-bc04-61d632f627ae",
       "rows": [
        [
         "flight_number",
         "int64"
        ],
        [
         "date",
         "object"
        ],
        [
         "booster_version",
         "object"
        ],
        [
         "payload_mass",
         "float64"
        ],
        [
         "orbit",
         "object"
        ],
        [
         "launch_site",
         "object"
        ],
        [
         "outcome",
         "object"
        ],
        [
         "flights",
         "int64"
        ],
        [
         "grid_fins",
         "bool"
        ],
        [
         "reused",
         "bool"
        ],
        [
         "legs",
         "bool"
        ],
        [
         "landing_pad",
         "object"
        ],
        [
         "block",
         "float64"
        ],
        [
         "reused_count",
         "int64"
        ],
        [
         "serial",
         "object"
        ],
        [
         "longitude",
         "float64"
        ],
        [
         "latitude",
         "float64"
        ]
       ],
       "shape": {
        "columns": 1,
        "rows": 17
       }
      },
      "text/plain": [
       "flight_number        int64\n",
       "date                object\n",
       "booster_version     object\n",
       "payload_mass       float64\n",
       "orbit               object\n",
       "launch_site         object\n",
       "outcome             object\n",
       "flights              int64\n",
       "grid_fins             bool\n",
       "reused                bool\n",
       "legs                  bool\n",
       "landing_pad         object\n",
       "block              float64\n",
       "reused_count         int64\n",
       "serial              object\n",
       "longitude          float64\n",
       "latitude           float64\n",
       "dtype: object"
      ]
     },
     "execution_count": 4,
     "metadata": {},
     "output_type": "execute_result"
    }
   ],
   "source": [
    "df.dtypes"
   ]
  },
  {
   "cell_type": "code",
   "execution_count": 5,
   "id": "e6d105f8",
   "metadata": {},
   "outputs": [
    {
     "data": {
      "text/plain": [
       "(90, 17)"
      ]
     },
     "execution_count": 5,
     "metadata": {},
     "output_type": "execute_result"
    }
   ],
   "source": [
    "df.shape"
   ]
  },
  {
   "cell_type": "markdown",
   "id": "b2fc97ce",
   "metadata": {},
   "source": [
    "### create a new column as `landing_class`\n",
    "\n",
    "distinct successful from unsuccessful launches:\n",
    "\n",
    "- landing_class = 0 if bad_outcome\n",
    "- landing_class = 1 otherwise\n"
   ]
  },
  {
   "cell_type": "code",
   "execution_count": 6,
   "id": "4a2432dd",
   "metadata": {},
   "outputs": [
    {
     "data": {
      "text/plain": [
       "{'False ASDS', 'False Ocean', 'False RTLS', 'None ASDS', 'None None'}"
      ]
     },
     "execution_count": 6,
     "metadata": {},
     "output_type": "execute_result"
    }
   ],
   "source": [
    "# Get a set of the possible bad outcomes\n",
    "bad_outcomes = set(\n",
    "    outcome\n",
    "    for outcome in df[\"outcome\"].unique()\n",
    "    if \"none\" in outcome.lower() or \"false\" in outcome.lower()\n",
    ")\n",
    "bad_outcomes"
   ]
  },
  {
   "cell_type": "code",
   "execution_count": 7,
   "id": "3d821113",
   "metadata": {},
   "outputs": [
    {
     "data": {
      "text/plain": [
       "90"
      ]
     },
     "execution_count": 7,
     "metadata": {},
     "output_type": "execute_result"
    }
   ],
   "source": [
    "landing_class = [0 if landing in bad_outcomes else 1 for landing in df[\"outcome\"]]\n",
    "len(landing_class)"
   ]
  },
  {
   "cell_type": "code",
   "execution_count": 8,
   "id": "58e0751f",
   "metadata": {},
   "outputs": [],
   "source": [
    "df[\"class\"] = landing_class"
   ]
  },
  {
   "cell_type": "code",
   "execution_count": 9,
   "id": "b2284f75",
   "metadata": {},
   "outputs": [
    {
     "data": {
      "text/plain": [
       "(90, 18)"
      ]
     },
     "execution_count": 9,
     "metadata": {},
     "output_type": "execute_result"
    }
   ],
   "source": [
    "df.shape"
   ]
  },
  {
   "cell_type": "markdown",
   "id": "f871ee1e",
   "metadata": {},
   "source": [
    "## Simple Data Analysis\n"
   ]
  },
  {
   "cell_type": "markdown",
   "id": "e7daf8b3",
   "metadata": {},
   "source": [
    "### % of missing values\n"
   ]
  },
  {
   "cell_type": "code",
   "execution_count": 10,
   "id": "4a12e946",
   "metadata": {},
   "outputs": [
    {
     "data": {
      "application/vnd.microsoft.datawrangler.viewer.v0+json": {
       "columns": [
        {
         "name": "index",
         "rawType": "object",
         "type": "string"
        },
        {
         "name": "0",
         "rawType": "float64",
         "type": "float"
        }
       ],
       "ref": "0c21af03-ad33-486f-b507-a210cdf6cfdf",
       "rows": [
        [
         "flight_number",
         "0.0"
        ],
        [
         "date",
         "0.0"
        ],
        [
         "booster_version",
         "0.0"
        ],
        [
         "payload_mass",
         "0.0"
        ],
        [
         "orbit",
         "0.0"
        ],
        [
         "launch_site",
         "0.0"
        ],
        [
         "outcome",
         "0.0"
        ],
        [
         "flights",
         "0.0"
        ],
        [
         "grid_fins",
         "0.0"
        ],
        [
         "reused",
         "0.0"
        ],
        [
         "legs",
         "0.0"
        ],
        [
         "landing_pad",
         "28.888888888888886"
        ],
        [
         "block",
         "0.0"
        ],
        [
         "reused_count",
         "0.0"
        ],
        [
         "serial",
         "0.0"
        ],
        [
         "longitude",
         "0.0"
        ],
        [
         "latitude",
         "0.0"
        ],
        [
         "class",
         "0.0"
        ]
       ],
       "shape": {
        "columns": 1,
        "rows": 18
       }
      },
      "text/plain": [
       "flight_number       0.000000\n",
       "date                0.000000\n",
       "booster_version     0.000000\n",
       "payload_mass        0.000000\n",
       "orbit               0.000000\n",
       "launch_site         0.000000\n",
       "outcome             0.000000\n",
       "flights             0.000000\n",
       "grid_fins           0.000000\n",
       "reused              0.000000\n",
       "legs                0.000000\n",
       "landing_pad        28.888889\n",
       "block               0.000000\n",
       "reused_count        0.000000\n",
       "serial              0.000000\n",
       "longitude           0.000000\n",
       "latitude            0.000000\n",
       "class               0.000000\n",
       "dtype: float64"
      ]
     },
     "execution_count": 10,
     "metadata": {},
     "output_type": "execute_result"
    }
   ],
   "source": [
    "df.isnull().sum() / len(df) * 100"
   ]
  },
  {
   "cell_type": "markdown",
   "id": "0b28ac23",
   "metadata": {},
   "source": [
    "### # of launches from each site\n"
   ]
  },
  {
   "cell_type": "code",
   "execution_count": 11,
   "id": "a404ef8c",
   "metadata": {},
   "outputs": [
    {
     "data": {
      "application/vnd.microsoft.datawrangler.viewer.v0+json": {
       "columns": [
        {
         "name": "launch_site",
         "rawType": "object",
         "type": "string"
        },
        {
         "name": "count",
         "rawType": "int64",
         "type": "integer"
        }
       ],
       "ref": "95c11fbe-0e88-4aea-93dc-05aedfcd464f",
       "rows": [
        [
         "CCSFS SLC 40",
         "55"
        ],
        [
         "KSC LC 39A",
         "22"
        ],
        [
         "VAFB SLC 4E",
         "13"
        ]
       ],
       "shape": {
        "columns": 1,
        "rows": 3
       }
      },
      "text/plain": [
       "launch_site\n",
       "CCSFS SLC 40    55\n",
       "KSC LC 39A      22\n",
       "VAFB SLC 4E     13\n",
       "Name: count, dtype: int64"
      ]
     },
     "execution_count": 11,
     "metadata": {},
     "output_type": "execute_result"
    }
   ],
   "source": [
    "df[\"launch_site\"].value_counts()"
   ]
  },
  {
   "cell_type": "markdown",
   "id": "0fba1f02",
   "metadata": {},
   "source": [
    "### mission outcome\n"
   ]
  },
  {
   "cell_type": "code",
   "execution_count": 12,
   "id": "4f3247d5",
   "metadata": {},
   "outputs": [
    {
     "data": {
      "application/vnd.microsoft.datawrangler.viewer.v0+json": {
       "columns": [
        {
         "name": "outcome",
         "rawType": "object",
         "type": "string"
        },
        {
         "name": "count",
         "rawType": "int64",
         "type": "integer"
        }
       ],
       "ref": "bb70f1c0-8e7e-436a-aac9-bdcd0e10fd76",
       "rows": [
        [
         "True ASDS",
         "41"
        ],
        [
         "None None",
         "19"
        ],
        [
         "True RTLS",
         "14"
        ],
        [
         "False ASDS",
         "6"
        ],
        [
         "True Ocean",
         "5"
        ],
        [
         "False Ocean",
         "2"
        ],
        [
         "None ASDS",
         "2"
        ],
        [
         "False RTLS",
         "1"
        ]
       ],
       "shape": {
        "columns": 1,
        "rows": 8
       }
      },
      "text/plain": [
       "outcome\n",
       "True ASDS      41\n",
       "None None      19\n",
       "True RTLS      14\n",
       "False ASDS      6\n",
       "True Ocean      5\n",
       "False Ocean     2\n",
       "None ASDS       2\n",
       "False RTLS      1\n",
       "Name: count, dtype: int64"
      ]
     },
     "execution_count": 12,
     "metadata": {},
     "output_type": "execute_result"
    }
   ],
   "source": [
    "# itemized launch outcomes\n",
    "df[\"outcome\"].value_counts()"
   ]
  },
  {
   "cell_type": "markdown",
   "id": "c143f939",
   "metadata": {},
   "source": [
    "### # of launches to each orbit\n"
   ]
  },
  {
   "cell_type": "code",
   "execution_count": 13,
   "id": "98f89f16",
   "metadata": {},
   "outputs": [
    {
     "data": {
      "application/vnd.microsoft.datawrangler.viewer.v0+json": {
       "columns": [
        {
         "name": "orbit",
         "rawType": "object",
         "type": "string"
        },
        {
         "name": "count",
         "rawType": "int64",
         "type": "integer"
        }
       ],
       "ref": "eb1ea12b-7409-48c3-a99a-53e061debfcc",
       "rows": [
        [
         "GTO",
         "27"
        ],
        [
         "ISS",
         "21"
        ],
        [
         "VLEO",
         "14"
        ],
        [
         "PO",
         "9"
        ],
        [
         "LEO",
         "7"
        ],
        [
         "SSO",
         "5"
        ],
        [
         "MEO",
         "3"
        ],
        [
         "HEO",
         "1"
        ],
        [
         "ES-L1",
         "1"
        ],
        [
         "SO",
         "1"
        ],
        [
         "GEO",
         "1"
        ]
       ],
       "shape": {
        "columns": 1,
        "rows": 11
       }
      },
      "text/plain": [
       "orbit\n",
       "GTO      27\n",
       "ISS      21\n",
       "VLEO     14\n",
       "PO        9\n",
       "LEO       7\n",
       "SSO       5\n",
       "MEO       3\n",
       "HEO       1\n",
       "ES-L1     1\n",
       "SO        1\n",
       "GEO       1\n",
       "Name: count, dtype: int64"
      ]
     },
     "execution_count": 13,
     "metadata": {},
     "output_type": "execute_result"
    }
   ],
   "source": [
    "# number of launches to each orbit\n",
    "df[\"orbit\"].value_counts()"
   ]
  },
  {
   "cell_type": "markdown",
   "id": "03394aec",
   "metadata": {},
   "source": [
    "### obtain launch success rate\n"
   ]
  },
  {
   "cell_type": "code",
   "execution_count": 14,
   "id": "226b5da4",
   "metadata": {},
   "outputs": [
    {
     "name": "stdout",
     "output_type": "stream",
     "text": [
      "Success rate: 66.67%\n"
     ]
    }
   ],
   "source": [
    "print(f\"Success rate: {(sum(landing_class) / len(landing_class)) * 100:.2f}%\")"
   ]
  },
  {
   "cell_type": "code",
   "execution_count": 15,
   "id": "24552f2e",
   "metadata": {},
   "outputs": [
    {
     "name": "stdout",
     "output_type": "stream",
     "text": [
      "Mean of class column: 66.67%\n"
     ]
    }
   ],
   "source": [
    "# values should be the same, ~66.67%\n",
    "print(f\"Mean of class column: {df['class'].mean() * 100:.2f}%\")"
   ]
  },
  {
   "cell_type": "markdown",
   "id": "cc677d37",
   "metadata": {},
   "source": [
    "## Save dataframe\n"
   ]
  },
  {
   "cell_type": "code",
   "execution_count": 16,
   "id": "c5a5118c",
   "metadata": {},
   "outputs": [],
   "source": [
    "df.to_csv(OUTPUT_FILE, encoding=\"utf-8\", mode=\"w\", header=True, index=False)"
   ]
  }
 ],
 "metadata": {
  "kernelspec": {
   "display_name": "ibm-data-science-cert-capstone",
   "language": "python",
   "name": "python3"
  },
  "language_info": {
   "codemirror_mode": {
    "name": "ipython",
    "version": 3
   },
   "file_extension": ".py",
   "mimetype": "text/x-python",
   "name": "python",
   "nbconvert_exporter": "python",
   "pygments_lexer": "ipython3",
   "version": "3.13.0"
  }
 },
 "nbformat": 4,
 "nbformat_minor": 5
}
