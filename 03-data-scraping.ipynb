{
 "cells": [
  {
   "cell_type": "markdown",
   "id": "18fd4f6b",
   "metadata": {},
   "source": [
    "# 3. Scrap Information\n",
    "\n",
    "We'll scrap some information from Wikipedia about the Falcon 9 launches which we'll incorporate to our data.\n",
    "\n",
    "- extract information from a html table from Wikipedia\n",
    "- parse the table and convert it to a Pandas DataFrame\n",
    "- save the resulting dataframe to a `03_scrapped_data.csv` file\n"
   ]
  },
  {
   "cell_type": "code",
   "execution_count": 1,
   "id": "cd1aa828",
   "metadata": {},
   "outputs": [],
   "source": [
    "import requests\n",
    "from bs4 import BeautifulSoup\n",
    "import unicodedata\n",
    "import pandas as pd\n",
    "from pathlib import Path\n",
    "\n",
    "import helpers as hlp"
   ]
  },
  {
   "cell_type": "markdown",
   "id": "64a94820",
   "metadata": {},
   "source": [
    "## Setup\n"
   ]
  },
  {
   "cell_type": "code",
   "execution_count": 2,
   "id": "3935a94b",
   "metadata": {},
   "outputs": [],
   "source": [
    "pd.set_option(\"display.max_columns\", None)\n",
    "pd.set_option(\"display.max_colwidth\", None)\n",
    "\n",
    "STATIC_URL = \"https://en.wikipedia.org/w/index.php?title=List_of_Falcon_9_and_Falcon_Heavy_launches&oldid=1027686922\"\n",
    "\n",
    "OUTPUT_FILE = hlp.DATA_DIR / Path(\"03_scrapped_data.csv\")\n",
    "\n",
    "DATE_AND_TIME_COL = 0\n",
    "VERSION_BOOSTER_COL = 1\n",
    "LAUNCH_SITE_COL = 2\n",
    "PAYLOAD_COL = 3\n",
    "PAYLOAD_MASS_COL = 4\n",
    "ORBIT_COL = 5\n",
    "CUSTOMER_COL = 6\n",
    "LAUNCH_OUTCOME_COL = 7\n",
    "BOOSTER_LANDING_COL = 8"
   ]
  },
  {
   "cell_type": "markdown",
   "id": "cb457809",
   "metadata": {},
   "source": [
    "## Helper functions\n"
   ]
  },
  {
   "cell_type": "code",
   "execution_count": 3,
   "id": "da99756a",
   "metadata": {},
   "outputs": [],
   "source": [
    "def extract_date_and_time(table_cell):\n",
    "    \"\"\"This function returns the data and time from the HTML  table cell\n",
    "    Input: the  element of a table data cell extracts extra row\"\"\"\n",
    "    datatimelist = [data_time.strip() for data_time in list(table_cell.strings)][0:2]\n",
    "    return datatimelist[0].strip(\",\"), datatimelist[1]\n",
    "\n",
    "\n",
    "def extract_booster_version(table_cell):\n",
    "    \"\"\"This function returns the booster version from the HTML table cell\n",
    "    Input: the  element of a table data cell extracts extra row\"\"\"\n",
    "    out = list(table_cell.strings)[0]\n",
    "    return out.encode(\"ascii\", \"ignore\").decode()\n",
    "\n",
    "\n",
    "def extract_launch_site(table_cell):\n",
    "    return table_cell.a.string\n",
    "\n",
    "\n",
    "def extract_payload(table_cell):\n",
    "    return table_cell.a.string\n",
    "\n",
    "\n",
    "def extract_payload_mass(table_cell):\n",
    "    mass = unicodedata.normalize(\"NFKD\", table_cell.text).strip().lower()\n",
    "    mass = \"\".join(mass[: mass.find(\"kg\")].split(\",\"))\n",
    "    if mass:\n",
    "        try:\n",
    "            return float(mass)\n",
    "        except ValueError:\n",
    "            pass\n",
    "    return 0\n",
    "\n",
    "\n",
    "def extract_orbit(table_cell):\n",
    "    return table_cell.a.string\n",
    "\n",
    "\n",
    "def extract_customer(table_cell):\n",
    "    try:\n",
    "        return table_cell.a.string\n",
    "    except AttributeError:\n",
    "        return \"\"\n",
    "\n",
    "\n",
    "def extract_launch_outcome(table_cell) -> str:\n",
    "    return list(table_cell.strings)[0].strip().lower()\n",
    "\n",
    "\n",
    "def extract_booster_landing(table_cell) -> str:\n",
    "    return list(table_cell.strings)[0].strip().lower()\n",
    "\n",
    "\n",
    "def normalize_column_name(col_name: str) -> str:\n",
    "    \"\"\"MISC.\n",
    "    Given a string (column names), normalize it by:\n",
    "    - converting it to lowercase\n",
    "    - adding an underscore between words\n",
    "    - removing symbols such as: ['(', ')', '.']\"\"\"\n",
    "\n",
    "    def remove_symbols(col_name: str) -> str:\n",
    "        symbols = [\"(\", \")\", \".\"]\n",
    "        col_name = col_name.strip().lower()\n",
    "\n",
    "        for symbol in symbols:\n",
    "            col_name = col_name.replace(symbol, \"\")\n",
    "        return \"_\".join(col_name.split())\n",
    "\n",
    "    return remove_symbols(col_name)\n",
    "\n",
    "\n",
    "def extract_column_from_header(row) -> str | None:\n",
    "    \"\"\"This function returns the landing status from the HTML table cell\n",
    "    Input: the  element of a table data cell extracts extra row\"\"\"\n",
    "    if row.br:\n",
    "        row.br.extract()\n",
    "    if row.a:\n",
    "        row.a.extract()\n",
    "    if row.sup:\n",
    "        row.sup.extract()\n",
    "\n",
    "    colunm_name = \" \".join(row.contents)\n",
    "\n",
    "    # Filter the digit and empty names\n",
    "    if not (colunm_name.strip().isdigit()):\n",
    "        # colunm_name = colunm_name.strip()\n",
    "        return hlp.normalize_column_name(colunm_name)\n",
    "    return None\n",
    "\n",
    "\n",
    "def extract_column_names_from_table(table) -> list[str]:\n",
    "    # Apply find_all() function with `th` element on first_launch_table\n",
    "    # Iterate each th element and apply the provided extract_column_from_header() to get a column name\n",
    "    # Append the Non-empty column name (`if name is not None and len(name) > 0`) into a list called column_names\n",
    "    column_names = []\n",
    "    for th in table.find_all(\"th\"):\n",
    "        col_name = extract_column_from_header(th)\n",
    "        if col_name is not None and len(col_name) > 0:\n",
    "            column_names.append(col_name)\n",
    "    return column_names"
   ]
  },
  {
   "cell_type": "markdown",
   "id": "6332b44c",
   "metadata": {},
   "source": [
    "## Request & Parse the HTML\n"
   ]
  },
  {
   "cell_type": "code",
   "execution_count": 4,
   "id": "0db86430",
   "metadata": {},
   "outputs": [
    {
     "data": {
      "text/plain": [
       "200"
      ]
     },
     "execution_count": 4,
     "metadata": {},
     "output_type": "execute_result"
    }
   ],
   "source": [
    "response = requests.get(STATIC_URL)\n",
    "response.status_code"
   ]
  },
  {
   "cell_type": "code",
   "execution_count": 5,
   "id": "c551b2c4",
   "metadata": {},
   "outputs": [
    {
     "data": {
      "text/plain": [
       "'List of Falcon 9 and Falcon Heavy launches - Wikipedia'"
      ]
     },
     "execution_count": 5,
     "metadata": {},
     "output_type": "execute_result"
    }
   ],
   "source": [
    "soup = BeautifulSoup(response.content, \"html.parser\")\n",
    "soup.title.string"
   ]
  },
  {
   "cell_type": "code",
   "execution_count": 6,
   "id": "92358ff5",
   "metadata": {},
   "outputs": [
    {
     "data": {
      "text/plain": [
       "25"
      ]
     },
     "execution_count": 6,
     "metadata": {},
     "output_type": "execute_result"
    }
   ],
   "source": [
    "html_tables = soup.find_all(\"table\")\n",
    "len(html_tables)"
   ]
  },
  {
   "cell_type": "code",
   "execution_count": 7,
   "id": "b839759a",
   "metadata": {},
   "outputs": [],
   "source": [
    "TARGET_TABLE = 2\n",
    "first_launch_table = html_tables[TARGET_TABLE]"
   ]
  },
  {
   "cell_type": "code",
   "execution_count": 8,
   "id": "682956fd",
   "metadata": {},
   "outputs": [
    {
     "data": {
      "text/plain": [
       "['flight_number',\n",
       " 'date_and_time',\n",
       " 'launch_site',\n",
       " 'payload',\n",
       " 'payload_mass',\n",
       " 'orbit',\n",
       " 'customer',\n",
       " 'launch_outcome',\n",
       " 'version_booster',\n",
       " 'booster_landing',\n",
       " 'date',\n",
       " 'time']"
      ]
     },
     "execution_count": 8,
     "metadata": {},
     "output_type": "execute_result"
    }
   ],
   "source": [
    "column_names = [\"flight_number\"]\n",
    "column_names += extract_column_names_from_table(first_launch_table)\n",
    "column_names.remove(\"flight_no\")\n",
    "\n",
    "# Add some extra columns\n",
    "column_names += [\"version_booster\", \"booster_landing\", \"date\", \"time\"]\n",
    "\n",
    "column_names"
   ]
  },
  {
   "cell_type": "markdown",
   "id": "2e859606",
   "metadata": {},
   "source": [
    "## Create a new dataframe from the html table\n"
   ]
  },
  {
   "cell_type": "code",
   "execution_count": 9,
   "id": "c8783c0f",
   "metadata": {},
   "outputs": [
    {
     "data": {
      "text/plain": [
       "dict_keys(['flight_number', 'launch_site', 'payload', 'payload_mass', 'orbit', 'customer', 'launch_outcome', 'version_booster', 'booster_landing', 'date', 'time'])"
      ]
     },
     "execution_count": 9,
     "metadata": {},
     "output_type": "execute_result"
    }
   ],
   "source": [
    "def create_dict_from_column_names(column_names: list) -> dict[str, list]:\n",
    "    # Initializes a dict to host values\n",
    "    result = dict.fromkeys(column_names)\n",
    "    del result[\"date_and_time\"]\n",
    "    for key, _ in result.items():\n",
    "        result[key] = []\n",
    "    return result\n",
    "\n",
    "\n",
    "launch_dict = create_dict_from_column_names(column_names)\n",
    "launch_dict.keys()"
   ]
  },
  {
   "cell_type": "code",
   "execution_count": 10,
   "id": "e06a0512",
   "metadata": {},
   "outputs": [],
   "source": [
    "def retrieve_tables(table_attrs: dict):\n",
    "    return soup.find_all(\"table\", table_attrs)\n",
    "\n",
    "\n",
    "tables = retrieve_tables(table_attrs={\"class\": \"wikitable plainrowheaders collapsible\"})\n"
   ]
  },
  {
   "cell_type": "code",
   "execution_count": 11,
   "id": "ab6cc1b7",
   "metadata": {},
   "outputs": [],
   "source": [
    "def populate_launch_dict(column_names) -> dict[str, list]:\n",
    "    launch_dict = create_dict_from_column_names(column_names)\n",
    "    for table in tables:\n",
    "        rows = table.find_all(\"tr\")\n",
    "        for row in rows[1:]:\n",
    "            if row.th and row.th.string:  # if 1st column is TH, extract values\n",
    "                flight_number = row.th.string.strip()\n",
    "                flight_data = row.find_all(\"td\")\n",
    "\n",
    "                date, time = extract_date_and_time(flight_data[DATE_AND_TIME_COL])\n",
    "                version_booster = extract_booster_version(\n",
    "                    flight_data[VERSION_BOOSTER_COL]\n",
    "                )\n",
    "                launch_site = extract_launch_site(flight_data[LAUNCH_SITE_COL])\n",
    "                payload = extract_payload(flight_data[PAYLOAD_COL])\n",
    "                payload_mass = extract_payload_mass(flight_data[PAYLOAD_MASS_COL])\n",
    "                orbit = extract_orbit(flight_data[ORBIT_COL])\n",
    "                customer = extract_customer(flight_data[CUSTOMER_COL])\n",
    "                launch_outcome = extract_launch_outcome(flight_data[LAUNCH_OUTCOME_COL])\n",
    "                booster_landing = extract_booster_landing(\n",
    "                    flight_data[BOOSTER_LANDING_COL]\n",
    "                )\n",
    "\n",
    "                launch_dict[\"flight_number\"].append(flight_number)\n",
    "                launch_dict[\"date\"].append(date)\n",
    "                launch_dict[\"version_booster\"].append(version_booster)\n",
    "                launch_dict[\"payload_mass\"].append(payload_mass)\n",
    "                launch_dict[\"orbit\"].append(orbit)\n",
    "                launch_dict[\"launch_site\"].append(launch_site)\n",
    "                launch_dict[\"launch_outcome\"].append(launch_outcome)\n",
    "                launch_dict[\"time\"].append(time)\n",
    "                launch_dict[\"payload\"].append(payload)\n",
    "                launch_dict[\"customer\"].append(customer)\n",
    "                launch_dict[\"booster_landing\"].append(booster_landing)\n",
    "    return launch_dict"
   ]
  },
  {
   "cell_type": "code",
   "execution_count": 12,
   "id": "987abdeb",
   "metadata": {},
   "outputs": [],
   "source": [
    "launch_dict = populate_launch_dict(column_names)"
   ]
  },
  {
   "cell_type": "markdown",
   "id": "faf0a91b",
   "metadata": {},
   "source": [
    "## Save information to file\n"
   ]
  },
  {
   "cell_type": "code",
   "execution_count": 13,
   "id": "b540566f",
   "metadata": {},
   "outputs": [
    {
     "data": {
      "application/vnd.microsoft.datawrangler.viewer.v0+json": {
       "columns": [
        {
         "name": "index",
         "rawType": "int64",
         "type": "integer"
        },
        {
         "name": "flight_number",
         "rawType": "object",
         "type": "string"
        },
        {
         "name": "launch_site",
         "rawType": "object",
         "type": "string"
        },
        {
         "name": "payload",
         "rawType": "object",
         "type": "string"
        },
        {
         "name": "payload_mass",
         "rawType": "float64",
         "type": "float"
        },
        {
         "name": "orbit",
         "rawType": "object",
         "type": "string"
        },
        {
         "name": "customer",
         "rawType": "object",
         "type": "string"
        },
        {
         "name": "launch_outcome",
         "rawType": "object",
         "type": "string"
        },
        {
         "name": "version_booster",
         "rawType": "object",
         "type": "string"
        },
        {
         "name": "booster_landing",
         "rawType": "object",
         "type": "string"
        },
        {
         "name": "date",
         "rawType": "object",
         "type": "string"
        },
        {
         "name": "time",
         "rawType": "object",
         "type": "string"
        }
       ],
       "ref": "28921647-c641-47cb-ae36-24ee266a34d4",
       "rows": [
        [
         "0",
         "1",
         "CCAFS",
         "Dragon Spacecraft Qualification Unit",
         "0.0",
         "LEO",
         "SpaceX",
         "success",
         "F9 v1.0",
         "failure",
         "4 June 2010",
         "18:45"
        ],
        [
         "1",
         "2",
         "CCAFS",
         "Dragon",
         "0.0",
         "LEO",
         "NASA",
         "success",
         "F9 v1.0",
         "failure",
         "8 December 2010",
         "15:43"
        ],
        [
         "2",
         "3",
         "CCAFS",
         "Dragon",
         "525.0",
         "LEO",
         "NASA",
         "success",
         "F9 v1.0",
         "no attempt",
         "22 May 2012",
         "07:44"
        ],
        [
         "3",
         "4",
         "CCAFS",
         "SpaceX CRS-1",
         "4700.0",
         "LEO",
         "NASA",
         "success",
         "F9 v1.0",
         "no attempt",
         "8 October 2012",
         "00:35"
        ],
        [
         "4",
         "5",
         "CCAFS",
         "SpaceX CRS-2",
         "4877.0",
         "LEO",
         "NASA",
         "success",
         "F9 v1.0",
         "no attempt",
         "1 March 2013",
         "15:10"
        ]
       ],
       "shape": {
        "columns": 11,
        "rows": 5
       }
      },
      "text/html": [
       "<div>\n",
       "<style scoped>\n",
       "    .dataframe tbody tr th:only-of-type {\n",
       "        vertical-align: middle;\n",
       "    }\n",
       "\n",
       "    .dataframe tbody tr th {\n",
       "        vertical-align: top;\n",
       "    }\n",
       "\n",
       "    .dataframe thead th {\n",
       "        text-align: right;\n",
       "    }\n",
       "</style>\n",
       "<table border=\"1\" class=\"dataframe\">\n",
       "  <thead>\n",
       "    <tr style=\"text-align: right;\">\n",
       "      <th></th>\n",
       "      <th>flight_number</th>\n",
       "      <th>launch_site</th>\n",
       "      <th>payload</th>\n",
       "      <th>payload_mass</th>\n",
       "      <th>orbit</th>\n",
       "      <th>customer</th>\n",
       "      <th>launch_outcome</th>\n",
       "      <th>version_booster</th>\n",
       "      <th>booster_landing</th>\n",
       "      <th>date</th>\n",
       "      <th>time</th>\n",
       "    </tr>\n",
       "  </thead>\n",
       "  <tbody>\n",
       "    <tr>\n",
       "      <th>0</th>\n",
       "      <td>1</td>\n",
       "      <td>CCAFS</td>\n",
       "      <td>Dragon Spacecraft Qualification Unit</td>\n",
       "      <td>0.0</td>\n",
       "      <td>LEO</td>\n",
       "      <td>SpaceX</td>\n",
       "      <td>success</td>\n",
       "      <td>F9 v1.0</td>\n",
       "      <td>failure</td>\n",
       "      <td>4 June 2010</td>\n",
       "      <td>18:45</td>\n",
       "    </tr>\n",
       "    <tr>\n",
       "      <th>1</th>\n",
       "      <td>2</td>\n",
       "      <td>CCAFS</td>\n",
       "      <td>Dragon</td>\n",
       "      <td>0.0</td>\n",
       "      <td>LEO</td>\n",
       "      <td>NASA</td>\n",
       "      <td>success</td>\n",
       "      <td>F9 v1.0</td>\n",
       "      <td>failure</td>\n",
       "      <td>8 December 2010</td>\n",
       "      <td>15:43</td>\n",
       "    </tr>\n",
       "    <tr>\n",
       "      <th>2</th>\n",
       "      <td>3</td>\n",
       "      <td>CCAFS</td>\n",
       "      <td>Dragon</td>\n",
       "      <td>525.0</td>\n",
       "      <td>LEO</td>\n",
       "      <td>NASA</td>\n",
       "      <td>success</td>\n",
       "      <td>F9 v1.0</td>\n",
       "      <td>no attempt</td>\n",
       "      <td>22 May 2012</td>\n",
       "      <td>07:44</td>\n",
       "    </tr>\n",
       "    <tr>\n",
       "      <th>3</th>\n",
       "      <td>4</td>\n",
       "      <td>CCAFS</td>\n",
       "      <td>SpaceX CRS-1</td>\n",
       "      <td>4700.0</td>\n",
       "      <td>LEO</td>\n",
       "      <td>NASA</td>\n",
       "      <td>success</td>\n",
       "      <td>F9 v1.0</td>\n",
       "      <td>no attempt</td>\n",
       "      <td>8 October 2012</td>\n",
       "      <td>00:35</td>\n",
       "    </tr>\n",
       "    <tr>\n",
       "      <th>4</th>\n",
       "      <td>5</td>\n",
       "      <td>CCAFS</td>\n",
       "      <td>SpaceX CRS-2</td>\n",
       "      <td>4877.0</td>\n",
       "      <td>LEO</td>\n",
       "      <td>NASA</td>\n",
       "      <td>success</td>\n",
       "      <td>F9 v1.0</td>\n",
       "      <td>no attempt</td>\n",
       "      <td>1 March 2013</td>\n",
       "      <td>15:10</td>\n",
       "    </tr>\n",
       "  </tbody>\n",
       "</table>\n",
       "</div>"
      ],
      "text/plain": [
       "  flight_number launch_site                               payload  \\\n",
       "0             1       CCAFS  Dragon Spacecraft Qualification Unit   \n",
       "1             2       CCAFS                                Dragon   \n",
       "2             3       CCAFS                                Dragon   \n",
       "3             4       CCAFS                          SpaceX CRS-1   \n",
       "4             5       CCAFS                          SpaceX CRS-2   \n",
       "\n",
       "   payload_mass orbit customer launch_outcome version_booster booster_landing  \\\n",
       "0           0.0   LEO   SpaceX        success         F9 v1.0         failure   \n",
       "1           0.0   LEO     NASA        success         F9 v1.0         failure   \n",
       "2         525.0   LEO     NASA        success         F9 v1.0      no attempt   \n",
       "3        4700.0   LEO     NASA        success         F9 v1.0      no attempt   \n",
       "4        4877.0   LEO     NASA        success         F9 v1.0      no attempt   \n",
       "\n",
       "              date   time  \n",
       "0      4 June 2010  18:45  \n",
       "1  8 December 2010  15:43  \n",
       "2      22 May 2012  07:44  \n",
       "3   8 October 2012  00:35  \n",
       "4     1 March 2013  15:10  "
      ]
     },
     "execution_count": 13,
     "metadata": {},
     "output_type": "execute_result"
    }
   ],
   "source": [
    "df = pd.DataFrame({key: pd.Series(value) for key, value in launch_dict.items()})\n",
    "df.head()"
   ]
  },
  {
   "cell_type": "code",
   "execution_count": 14,
   "id": "cafd6426",
   "metadata": {},
   "outputs": [],
   "source": [
    "df.to_csv(OUTPUT_FILE, encoding=\"utf-8\", mode=\"w\", header=True, index=False)"
   ]
  },
  {
   "cell_type": "code",
   "execution_count": null,
   "id": "c8bc3ba2",
   "metadata": {},
   "outputs": [],
   "source": []
  }
 ],
 "metadata": {
  "kernelspec": {
   "display_name": "ibm-data-science-cert-capstone",
   "language": "python",
   "name": "python3"
  },
  "language_info": {
   "codemirror_mode": {
    "name": "ipython",
    "version": 3
   },
   "file_extension": ".py",
   "mimetype": "text/x-python",
   "name": "python",
   "nbconvert_exporter": "python",
   "pygments_lexer": "ipython3",
   "version": "3.13.0"
  }
 },
 "nbformat": 4,
 "nbformat_minor": 5
}
