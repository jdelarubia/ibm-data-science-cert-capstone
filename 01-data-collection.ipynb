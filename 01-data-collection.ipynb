{
 "cells": [
  {
   "cell_type": "markdown",
   "id": "646dd3d4",
   "metadata": {},
   "source": [
    "# 1. Data collection\n",
    "\n",
    "Optimized code from SpaceX Capstone, module 1.\n",
    "\n",
    "Highlights:\n",
    "\n",
    "- Optimized functions using the API to make fewer calls to the _spacex_ server.\n",
    "- Save the data to a `.csv` file for later use\n"
   ]
  },
  {
   "cell_type": "markdown",
   "id": "7e7d6cad",
   "metadata": {},
   "source": [
    "## Imports\n"
   ]
  },
  {
   "cell_type": "code",
   "execution_count": 16,
   "id": "65f6672e",
   "metadata": {},
   "outputs": [],
   "source": [
    "import requests\n",
    "import pandas as pd\n",
    "import datetime\n",
    "from pathlib import Path\n",
    "\n",
    "import helpers as hlp"
   ]
  },
  {
   "cell_type": "markdown",
   "id": "715c2fb4",
   "metadata": {},
   "source": [
    "## Setup\n"
   ]
  },
  {
   "cell_type": "code",
   "execution_count": 17,
   "id": "8f01d97b",
   "metadata": {},
   "outputs": [],
   "source": [
    "pd.set_option(\"display.max_columns\", None)\n",
    "pd.set_option(\"display.max_colwidth\", None)\n",
    "\n",
    "ROCKETS_URL = \"https://api.spacexdata.com/v4/rockets/\"\n",
    "LAUNCH_SITE_URL = \"https://api.spacexdata.com/v4/launchpads/\"\n",
    "PAYLOADS_URL = \"https://api.spacexdata.com/v4/payloads/\"\n",
    "CORES_URL = \"https://api.spacexdata.com/v4/cores/\"\n",
    "\n",
    "SPACEX_URL = \"https://api.spacexdata.com/v4/launches/past\"\n",
    "\n",
    "OUTPUT_FILE = hlp.DATA_DIR / Path(\"01_collected_data.csv\")\n"
   ]
  },
  {
   "cell_type": "markdown",
   "id": "34a48adb",
   "metadata": {},
   "source": [
    "## Get the data\n"
   ]
  },
  {
   "cell_type": "code",
   "execution_count": 18,
   "id": "26cb95b5",
   "metadata": {},
   "outputs": [],
   "source": [
    "# Request rocket launch data\n",
    "response = requests.get(SPACEX_URL)\n",
    "data = pd.json_normalize(response.json())  # convert json into a pandas DataFrame"
   ]
  },
  {
   "cell_type": "code",
   "execution_count": 19,
   "id": "c4e42ce1",
   "metadata": {},
   "outputs": [
    {
     "name": "stdout",
     "output_type": "stream",
     "text": [
      "187\n",
      "<class 'pandas.core.frame.DataFrame'>\n"
     ]
    }
   ],
   "source": [
    "print(len(data))\n",
    "print(type(data))"
   ]
  },
  {
   "cell_type": "markdown",
   "id": "b9711bfa",
   "metadata": {},
   "source": [
    "## Normalize data\n"
   ]
  },
  {
   "cell_type": "code",
   "execution_count": 20,
   "id": "5a45edad",
   "metadata": {},
   "outputs": [],
   "source": [
    "# Lets take a subset of our dataframe keeping only the features we want and the flight number, and date_utc.\n",
    "data = data[[\"rocket\", \"payloads\", \"launchpad\", \"cores\", \"flight_number\", \"date_utc\"]]\n",
    "\n",
    "# We will remove rows with multiple cores because those are falcon rockets with 2 extra rocket boosters and rows that have multiple payloads in a single rocket.\n",
    "data = data[data[\"cores\"].map(len) == 1]\n",
    "data = data[data[\"payloads\"].map(len) == 1]\n",
    "\n",
    "# Since payloads and cores are lists of size 1 we will also extract the single value in the list and replace the feature.\n",
    "data[\"cores\"] = data[\"cores\"].map(lambda x: x[0])\n",
    "data[\"payloads\"] = data[\"payloads\"].map(lambda x: x[0])\n",
    "\n",
    "# We also want to convert the date_utc to a datetime datatype and then extracting the date leaving the time\n",
    "data[\"date\"] = pd.to_datetime(data[\"date_utc\"]).dt.date\n",
    "\n",
    "# Using the date we will restrict the dates of the launches to those before December 13th, 2020\n",
    "data = data[data[\"date\"] <= datetime.date(2020, 11, 13)]"
   ]
  },
  {
   "cell_type": "code",
   "execution_count": 21,
   "id": "99183cd2",
   "metadata": {},
   "outputs": [
    {
     "data": {
      "application/vnd.microsoft.datawrangler.viewer.v0+json": {
       "columns": [
        {
         "name": "index",
         "rawType": "int64",
         "type": "integer"
        },
        {
         "name": "rocket",
         "rawType": "object",
         "type": "string"
        },
        {
         "name": "payloads",
         "rawType": "object",
         "type": "string"
        },
        {
         "name": "launchpad",
         "rawType": "object",
         "type": "string"
        },
        {
         "name": "cores",
         "rawType": "object",
         "type": "unknown"
        },
        {
         "name": "flight_number",
         "rawType": "int64",
         "type": "integer"
        },
        {
         "name": "date_utc",
         "rawType": "object",
         "type": "string"
        },
        {
         "name": "date",
         "rawType": "object",
         "type": "unknown"
        }
       ],
       "ref": "a9c80e56-a681-43b8-adf3-4bea560d3b8e",
       "rows": [
        [
         "0",
         "5e9d0d95eda69955f709d1eb",
         "5eb0e4b5b6c3bb0006eeb1e1",
         "5e9e4502f5090995de566f86",
         "{'core': '5e9e289df35918033d3b2623', 'flight': 1, 'gridfins': False, 'legs': False, 'reused': False, 'landing_attempt': False, 'landing_success': None, 'landing_type': None, 'landpad': None}",
         "1",
         "2006-03-24T22:30:00.000Z",
         "2006-03-24"
        ],
        [
         "1",
         "5e9d0d95eda69955f709d1eb",
         "5eb0e4b6b6c3bb0006eeb1e2",
         "5e9e4502f5090995de566f86",
         "{'core': '5e9e289ef35918416a3b2624', 'flight': 1, 'gridfins': False, 'legs': False, 'reused': False, 'landing_attempt': False, 'landing_success': None, 'landing_type': None, 'landpad': None}",
         "2",
         "2007-03-21T01:10:00.000Z",
         "2007-03-21"
        ],
        [
         "3",
         "5e9d0d95eda69955f709d1eb",
         "5eb0e4b7b6c3bb0006eeb1e5",
         "5e9e4502f5090995de566f86",
         "{'core': '5e9e289ef3591855dc3b2626', 'flight': 1, 'gridfins': False, 'legs': False, 'reused': False, 'landing_attempt': False, 'landing_success': None, 'landing_type': None, 'landpad': None}",
         "4",
         "2008-09-28T23:15:00.000Z",
         "2008-09-28"
        ],
        [
         "4",
         "5e9d0d95eda69955f709d1eb",
         "5eb0e4b7b6c3bb0006eeb1e6",
         "5e9e4502f5090995de566f86",
         "{'core': '5e9e289ef359184f103b2627', 'flight': 1, 'gridfins': False, 'legs': False, 'reused': False, 'landing_attempt': False, 'landing_success': None, 'landing_type': None, 'landpad': None}",
         "5",
         "2009-07-13T03:35:00.000Z",
         "2009-07-13"
        ]
       ],
       "shape": {
        "columns": 7,
        "rows": 4
       }
      },
      "text/html": [
       "<div>\n",
       "<style scoped>\n",
       "    .dataframe tbody tr th:only-of-type {\n",
       "        vertical-align: middle;\n",
       "    }\n",
       "\n",
       "    .dataframe tbody tr th {\n",
       "        vertical-align: top;\n",
       "    }\n",
       "\n",
       "    .dataframe thead th {\n",
       "        text-align: right;\n",
       "    }\n",
       "</style>\n",
       "<table border=\"1\" class=\"dataframe\">\n",
       "  <thead>\n",
       "    <tr style=\"text-align: right;\">\n",
       "      <th></th>\n",
       "      <th>rocket</th>\n",
       "      <th>payloads</th>\n",
       "      <th>launchpad</th>\n",
       "      <th>cores</th>\n",
       "      <th>flight_number</th>\n",
       "      <th>date_utc</th>\n",
       "      <th>date</th>\n",
       "    </tr>\n",
       "  </thead>\n",
       "  <tbody>\n",
       "    <tr>\n",
       "      <th>0</th>\n",
       "      <td>5e9d0d95eda69955f709d1eb</td>\n",
       "      <td>5eb0e4b5b6c3bb0006eeb1e1</td>\n",
       "      <td>5e9e4502f5090995de566f86</td>\n",
       "      <td>{'core': '5e9e289df35918033d3b2623', 'flight': 1, 'gridfins': False, 'legs': False, 'reused': False, 'landing_attempt': False, 'landing_success': None, 'landing_type': None, 'landpad': None}</td>\n",
       "      <td>1</td>\n",
       "      <td>2006-03-24T22:30:00.000Z</td>\n",
       "      <td>2006-03-24</td>\n",
       "    </tr>\n",
       "    <tr>\n",
       "      <th>1</th>\n",
       "      <td>5e9d0d95eda69955f709d1eb</td>\n",
       "      <td>5eb0e4b6b6c3bb0006eeb1e2</td>\n",
       "      <td>5e9e4502f5090995de566f86</td>\n",
       "      <td>{'core': '5e9e289ef35918416a3b2624', 'flight': 1, 'gridfins': False, 'legs': False, 'reused': False, 'landing_attempt': False, 'landing_success': None, 'landing_type': None, 'landpad': None}</td>\n",
       "      <td>2</td>\n",
       "      <td>2007-03-21T01:10:00.000Z</td>\n",
       "      <td>2007-03-21</td>\n",
       "    </tr>\n",
       "    <tr>\n",
       "      <th>3</th>\n",
       "      <td>5e9d0d95eda69955f709d1eb</td>\n",
       "      <td>5eb0e4b7b6c3bb0006eeb1e5</td>\n",
       "      <td>5e9e4502f5090995de566f86</td>\n",
       "      <td>{'core': '5e9e289ef3591855dc3b2626', 'flight': 1, 'gridfins': False, 'legs': False, 'reused': False, 'landing_attempt': False, 'landing_success': None, 'landing_type': None, 'landpad': None}</td>\n",
       "      <td>4</td>\n",
       "      <td>2008-09-28T23:15:00.000Z</td>\n",
       "      <td>2008-09-28</td>\n",
       "    </tr>\n",
       "    <tr>\n",
       "      <th>4</th>\n",
       "      <td>5e9d0d95eda69955f709d1eb</td>\n",
       "      <td>5eb0e4b7b6c3bb0006eeb1e6</td>\n",
       "      <td>5e9e4502f5090995de566f86</td>\n",
       "      <td>{'core': '5e9e289ef359184f103b2627', 'flight': 1, 'gridfins': False, 'legs': False, 'reused': False, 'landing_attempt': False, 'landing_success': None, 'landing_type': None, 'landpad': None}</td>\n",
       "      <td>5</td>\n",
       "      <td>2009-07-13T03:35:00.000Z</td>\n",
       "      <td>2009-07-13</td>\n",
       "    </tr>\n",
       "  </tbody>\n",
       "</table>\n",
       "</div>"
      ],
      "text/plain": [
       "                     rocket                  payloads  \\\n",
       "0  5e9d0d95eda69955f709d1eb  5eb0e4b5b6c3bb0006eeb1e1   \n",
       "1  5e9d0d95eda69955f709d1eb  5eb0e4b6b6c3bb0006eeb1e2   \n",
       "3  5e9d0d95eda69955f709d1eb  5eb0e4b7b6c3bb0006eeb1e5   \n",
       "4  5e9d0d95eda69955f709d1eb  5eb0e4b7b6c3bb0006eeb1e6   \n",
       "\n",
       "                  launchpad  \\\n",
       "0  5e9e4502f5090995de566f86   \n",
       "1  5e9e4502f5090995de566f86   \n",
       "3  5e9e4502f5090995de566f86   \n",
       "4  5e9e4502f5090995de566f86   \n",
       "\n",
       "                                                                                                                                                                                            cores  \\\n",
       "0  {'core': '5e9e289df35918033d3b2623', 'flight': 1, 'gridfins': False, 'legs': False, 'reused': False, 'landing_attempt': False, 'landing_success': None, 'landing_type': None, 'landpad': None}   \n",
       "1  {'core': '5e9e289ef35918416a3b2624', 'flight': 1, 'gridfins': False, 'legs': False, 'reused': False, 'landing_attempt': False, 'landing_success': None, 'landing_type': None, 'landpad': None}   \n",
       "3  {'core': '5e9e289ef3591855dc3b2626', 'flight': 1, 'gridfins': False, 'legs': False, 'reused': False, 'landing_attempt': False, 'landing_success': None, 'landing_type': None, 'landpad': None}   \n",
       "4  {'core': '5e9e289ef359184f103b2627', 'flight': 1, 'gridfins': False, 'legs': False, 'reused': False, 'landing_attempt': False, 'landing_success': None, 'landing_type': None, 'landpad': None}   \n",
       "\n",
       "   flight_number                  date_utc        date  \n",
       "0              1  2006-03-24T22:30:00.000Z  2006-03-24  \n",
       "1              2  2007-03-21T01:10:00.000Z  2007-03-21  \n",
       "3              4  2008-09-28T23:15:00.000Z  2008-09-28  \n",
       "4              5  2009-07-13T03:35:00.000Z  2009-07-13  "
      ]
     },
     "execution_count": 21,
     "metadata": {},
     "output_type": "execute_result"
    }
   ],
   "source": [
    "data.head(4)"
   ]
  },
  {
   "cell_type": "markdown",
   "id": "8a8ffe9f",
   "metadata": {},
   "source": [
    "## Helper functions\n"
   ]
  },
  {
   "cell_type": "code",
   "execution_count": 22,
   "id": "40d128d2",
   "metadata": {},
   "outputs": [],
   "source": [
    "def extract_booster_version(data) -> list:\n",
    "    \"\"\"Takes the dataset and uses the rocket column to call the API and append the data to the list. OPTIMIZED\"\"\"\n",
    "\n",
    "    unique_rockets = {}\n",
    "    booster_version = []\n",
    "    for rocket_id in data[\"rocket\"]:\n",
    "        rocket_name = unique_rockets.get(rocket_id, None)\n",
    "        if rocket_name is None:\n",
    "            response = requests.get(ROCKETS_URL + str(rocket_id)).json()\n",
    "            rocket_name = response[\"name\"]\n",
    "            unique_rockets[rocket_id] = rocket_name\n",
    "        booster_version.append(rocket_name)\n",
    "\n",
    "    return booster_version"
   ]
  },
  {
   "cell_type": "code",
   "execution_count": 23,
   "id": "ba14aae4",
   "metadata": {},
   "outputs": [],
   "source": [
    "def extract_launch_site(data) -> tuple[list, list, list]:\n",
    "    \"\"\"Takes the dataset and uses the launchpad column to call the API and append the data to the list. OPTIMIZED\"\"\"\n",
    "\n",
    "    unique_launchpads = {}\n",
    "    longitude = []\n",
    "    latitude = []\n",
    "    launch_site = []\n",
    "    for launchpad_id in data[\"launchpad\"]:\n",
    "        launchpad = unique_launchpads.get(launchpad_id, None)\n",
    "        if launchpad is not None:\n",
    "            lon = launchpad[\"lon\"]\n",
    "            lat = launchpad[\"lat\"]\n",
    "            site = launchpad[\"launch_site\"]\n",
    "        else:\n",
    "            response = requests.get(LAUNCH_SITE_URL + str(launchpad_id)).json()\n",
    "            lon = response[\"longitude\"]\n",
    "            lat = response[\"latitude\"]\n",
    "            site = response[\"name\"]\n",
    "            unique_launchpads[launchpad_id] = {\n",
    "                \"lon\": lon,\n",
    "                \"lat\": lat,\n",
    "                \"launch_site\": site,\n",
    "            }\n",
    "        longitude.append(lon)\n",
    "        latitude.append(lat)\n",
    "        launch_site.append(site)\n",
    "    return (longitude, latitude, launch_site)"
   ]
  },
  {
   "cell_type": "code",
   "execution_count": 24,
   "id": "30915f92",
   "metadata": {},
   "outputs": [],
   "source": [
    "def extract_payload_data(data) -> tuple[list, list]:\n",
    "    \"\"\"Takes the dataset and uses the payloads column to call the API and append the data to the lists. OPTIMIZED\"\"\"\n",
    "\n",
    "    unique_payloads = {}\n",
    "    payload_masses = []\n",
    "    orbits = []\n",
    "    for payload_id in data[\"payloads\"]:\n",
    "        payload = unique_payloads.get(payload_id, None)\n",
    "        if payload is not None:\n",
    "            mass = payload[\"mass_kg\"]\n",
    "            orbit = payload[\"orbit\"]\n",
    "        else:\n",
    "            response = requests.get(PAYLOADS_URL + str(payload_id)).json()\n",
    "            mass = response[\"mass_kg\"]\n",
    "            orbit = response[\"orbit\"]\n",
    "            unique_payloads[payload_id] = {\"mass_kg\": mass, \"orbit\": orbit}\n",
    "        payload_masses.append(mass)\n",
    "        orbits.append(orbit)\n",
    "\n",
    "    return payload_masses, orbits"
   ]
  },
  {
   "cell_type": "code",
   "execution_count": 25,
   "id": "6d24ed93",
   "metadata": {},
   "outputs": [],
   "source": [
    "def extract_core_data(data):\n",
    "    \"\"\"Takes the dataset and uses the cores column to call the API and append the data to the lists\"\"\"\n",
    "\n",
    "    block = []\n",
    "    reused_count = []\n",
    "    serial = []\n",
    "    outcome = []\n",
    "    flights = []\n",
    "    grid_fins = []\n",
    "    reused = []\n",
    "    legs = []\n",
    "    landing_pad = []\n",
    "    for core in data[\"cores\"]:\n",
    "        core_id = core.get(\"core\", None)\n",
    "        if core_id is not None:\n",
    "            response = requests.get(CORES_URL + core_id).json()\n",
    "            block.append(response[\"block\"])\n",
    "            reused_count.append(response[\"reuse_count\"])\n",
    "            serial.append(response[\"serial\"])\n",
    "        else:\n",
    "            block.append(None)\n",
    "            reused_count.append(None)\n",
    "            serial.append(None)\n",
    "        outcome.append(str(core[\"landing_success\"]) + \" \" + str(core[\"landing_type\"]))\n",
    "        flights.append(core[\"flight\"])\n",
    "        grid_fins.append(core[\"gridfins\"])\n",
    "        reused.append(core[\"reused\"])\n",
    "        legs.append(core[\"legs\"])\n",
    "        landing_pad.append(core[\"landpad\"])\n",
    "    return (\n",
    "        block,\n",
    "        reused_count,\n",
    "        serial,\n",
    "        outcome,\n",
    "        flights,\n",
    "        grid_fins,\n",
    "        reused,\n",
    "        legs,\n",
    "        landing_pad,\n",
    "    )"
   ]
  },
  {
   "cell_type": "markdown",
   "id": "4cc9ff80",
   "metadata": {},
   "source": [
    "## Get the information into lists\n",
    "\n",
    "For checking purposes, the size of all our lists should be 94.\n"
   ]
  },
  {
   "cell_type": "code",
   "execution_count": 26,
   "id": "e03f999a",
   "metadata": {},
   "outputs": [
    {
     "name": "stdout",
     "output_type": "stream",
     "text": [
      "94 94 94 94\n"
     ]
    }
   ],
   "source": [
    "booster_version = extract_booster_version(data)\n",
    "\n",
    "longitude, latitude, launch_site = extract_launch_site(data)\n",
    "print(len(booster_version), len(longitude), len(latitude), len(launch_site))"
   ]
  },
  {
   "cell_type": "code",
   "execution_count": 27,
   "id": "ba22616b",
   "metadata": {},
   "outputs": [
    {
     "name": "stdout",
     "output_type": "stream",
     "text": [
      "94 94\n"
     ]
    }
   ],
   "source": [
    "payload_mass, orbit = extract_payload_data(data)\n",
    "print(len(payload_mass), len(orbit))"
   ]
  },
  {
   "cell_type": "code",
   "execution_count": 28,
   "id": "9b0da107",
   "metadata": {},
   "outputs": [
    {
     "name": "stdout",
     "output_type": "stream",
     "text": [
      "94 94 94 94 94 94 94 94 94\n"
     ]
    }
   ],
   "source": [
    "block, reused_count, serial, outcome, flights, grid_fins, reused, legs, landing_pad = (\n",
    "    extract_core_data(data)\n",
    ")\n",
    "print(\n",
    "    len(block),\n",
    "    len(reused_count),\n",
    "    len(serial),\n",
    "    len(outcome),\n",
    "    len(flights),\n",
    "    len(grid_fins),\n",
    "    len(reused),\n",
    "    len(legs),\n",
    "    len(landing_pad),\n",
    ")"
   ]
  },
  {
   "cell_type": "markdown",
   "id": "b0f9c9b0",
   "metadata": {},
   "source": [
    "## Create a unified dataframe\n"
   ]
  },
  {
   "cell_type": "code",
   "execution_count": 29,
   "id": "59f7f11b",
   "metadata": {},
   "outputs": [],
   "source": [
    "data_df = pd.DataFrame(\n",
    "    data={\n",
    "        \"flight_number\": data[\"flight_number\"],\n",
    "        \"date\": data[\"date\"],\n",
    "        \"booster_version\": booster_version,\n",
    "        \"payload_mass\": payload_mass,\n",
    "        \"orbit\": orbit,\n",
    "        \"launch_site\": launch_site,\n",
    "        \"outcome\": outcome,\n",
    "        \"flights\": flights,\n",
    "        \"grid_fins\": grid_fins,\n",
    "        \"reused\": reused,\n",
    "        \"legs\": legs,\n",
    "        \"landing_pad\": landing_pad,\n",
    "        \"block\": block,\n",
    "        \"reused_count\": reused_count,\n",
    "        \"serial\": serial,\n",
    "        \"longitude\": longitude,\n",
    "        \"latitude\": latitude,\n",
    "    }\n",
    ")"
   ]
  },
  {
   "cell_type": "markdown",
   "id": "d3bf4b4e",
   "metadata": {},
   "source": [
    "## Save the clean data\n"
   ]
  },
  {
   "cell_type": "code",
   "execution_count": 30,
   "id": "a82fd354",
   "metadata": {},
   "outputs": [],
   "source": [
    "data_df.to_csv(OUTPUT_FILE, encoding=\"utf-8\", mode=\"w\", header=True, index=False)"
   ]
  },
  {
   "cell_type": "code",
   "execution_count": null,
   "id": "86b215f0",
   "metadata": {},
   "outputs": [],
   "source": []
  }
 ],
 "metadata": {
  "kernelspec": {
   "display_name": "ibm-data-science-cert-capstone",
   "language": "python",
   "name": "python3"
  },
  "language_info": {
   "codemirror_mode": {
    "name": "ipython",
    "version": 3
   },
   "file_extension": ".py",
   "mimetype": "text/x-python",
   "name": "python",
   "nbconvert_exporter": "python",
   "pygments_lexer": "ipython3",
   "version": "3.13.0"
  }
 },
 "nbformat": 4,
 "nbformat_minor": 5
}
