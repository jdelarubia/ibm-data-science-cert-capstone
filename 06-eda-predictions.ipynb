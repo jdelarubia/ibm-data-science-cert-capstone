{
 "cells": [
  {
   "cell_type": "markdown",
   "id": "6ca2baac",
   "metadata": {},
   "source": [
    "# 6. EDA: Falcon 9 First Stage Landing Prediction\n"
   ]
  },
  {
   "cell_type": "code",
   "execution_count": 2,
   "id": "9455ef43",
   "metadata": {},
   "outputs": [],
   "source": [
    "import pandas as pd\n",
    "import numpy as np\n",
    "import matplotlib.pyplot as plt\n",
    "import seaborn as sns\n",
    "from pathlib import Path\n",
    "\n",
    "import helpers as hlp"
   ]
  },
  {
   "cell_type": "markdown",
   "id": "88ce02fa",
   "metadata": {},
   "source": [
    "## Setup\n"
   ]
  },
  {
   "cell_type": "code",
   "execution_count": 3,
   "id": "f572fa7c",
   "metadata": {},
   "outputs": [],
   "source": [
    "pd.set_option(\"display.max_columns\", None)\n",
    "pd.set_option(\"display.max_colwidth\", None)\n",
    "\n",
    "sns.set_theme(style=\"whitegrid\", rc={\"figure.figsize\": (12, 4)})  # width=8, height=4\n",
    "\n",
    "\n",
    "INPUT_FILE = hlp.DATA_DIR / Path(\"04_eda_data.csv\")\n",
    "OUTPUT_FILE = hlp.DATA_DIR / Path(\"06_prediction_data.csv\")\n"
   ]
  },
  {
   "cell_type": "code",
   "execution_count": 4,
   "id": "e8fbb41e",
   "metadata": {},
   "outputs": [
    {
     "data": {
      "application/vnd.microsoft.datawrangler.viewer.v0+json": {
       "columns": [
        {
         "name": "index",
         "rawType": "int64",
         "type": "integer"
        },
        {
         "name": "flight_number",
         "rawType": "int64",
         "type": "integer"
        },
        {
         "name": "date",
         "rawType": "object",
         "type": "string"
        },
        {
         "name": "booster_version",
         "rawType": "object",
         "type": "string"
        },
        {
         "name": "payload_mass",
         "rawType": "float64",
         "type": "float"
        },
        {
         "name": "orbit",
         "rawType": "object",
         "type": "string"
        },
        {
         "name": "launch_site",
         "rawType": "object",
         "type": "string"
        },
        {
         "name": "outcome",
         "rawType": "object",
         "type": "string"
        },
        {
         "name": "flights",
         "rawType": "int64",
         "type": "integer"
        },
        {
         "name": "grid_fins",
         "rawType": "bool",
         "type": "boolean"
        },
        {
         "name": "reused",
         "rawType": "bool",
         "type": "boolean"
        },
        {
         "name": "legs",
         "rawType": "bool",
         "type": "boolean"
        },
        {
         "name": "landing_pad",
         "rawType": "object",
         "type": "unknown"
        },
        {
         "name": "block",
         "rawType": "float64",
         "type": "float"
        },
        {
         "name": "reused_count",
         "rawType": "int64",
         "type": "integer"
        },
        {
         "name": "serial",
         "rawType": "object",
         "type": "string"
        },
        {
         "name": "longitude",
         "rawType": "float64",
         "type": "float"
        },
        {
         "name": "latitude",
         "rawType": "float64",
         "type": "float"
        },
        {
         "name": "class",
         "rawType": "int64",
         "type": "integer"
        }
       ],
       "ref": "e1bcf7f4-c3c6-4ab4-90da-1f2c6413e3b0",
       "rows": [
        [
         "0",
         "6",
         "2010-06-04",
         "Falcon 9",
         "6123.547647058824",
         "LEO",
         "CCSFS SLC 40",
         "None None",
         "1",
         "False",
         "False",
         "False",
         null,
         "1.0",
         "0",
         "B0003",
         "-80.577366",
         "28.5618571",
         "0"
        ],
        [
         "1",
         "8",
         "2012-05-22",
         "Falcon 9",
         "525.0",
         "LEO",
         "CCSFS SLC 40",
         "None None",
         "1",
         "False",
         "False",
         "False",
         null,
         "1.0",
         "0",
         "B0005",
         "-80.577366",
         "28.5618571",
         "0"
        ],
        [
         "2",
         "10",
         "2013-03-01",
         "Falcon 9",
         "677.0",
         "ISS",
         "CCSFS SLC 40",
         "None None",
         "1",
         "False",
         "False",
         "False",
         null,
         "1.0",
         "0",
         "B0007",
         "-80.577366",
         "28.5618571",
         "0"
        ],
        [
         "3",
         "11",
         "2013-09-29",
         "Falcon 9",
         "500.0",
         "PO",
         "VAFB SLC 4E",
         "False Ocean",
         "1",
         "False",
         "False",
         "False",
         null,
         "1.0",
         "0",
         "B1003",
         "-120.610829",
         "34.632093",
         "0"
        ],
        [
         "4",
         "12",
         "2013-12-03",
         "Falcon 9",
         "3170.0",
         "GTO",
         "CCSFS SLC 40",
         "None None",
         "1",
         "False",
         "False",
         "False",
         null,
         "1.0",
         "0",
         "B1004",
         "-80.577366",
         "28.5618571",
         "0"
        ]
       ],
       "shape": {
        "columns": 18,
        "rows": 5
       }
      },
      "text/html": [
       "<div>\n",
       "<style scoped>\n",
       "    .dataframe tbody tr th:only-of-type {\n",
       "        vertical-align: middle;\n",
       "    }\n",
       "\n",
       "    .dataframe tbody tr th {\n",
       "        vertical-align: top;\n",
       "    }\n",
       "\n",
       "    .dataframe thead th {\n",
       "        text-align: right;\n",
       "    }\n",
       "</style>\n",
       "<table border=\"1\" class=\"dataframe\">\n",
       "  <thead>\n",
       "    <tr style=\"text-align: right;\">\n",
       "      <th></th>\n",
       "      <th>flight_number</th>\n",
       "      <th>date</th>\n",
       "      <th>booster_version</th>\n",
       "      <th>payload_mass</th>\n",
       "      <th>orbit</th>\n",
       "      <th>launch_site</th>\n",
       "      <th>outcome</th>\n",
       "      <th>flights</th>\n",
       "      <th>grid_fins</th>\n",
       "      <th>reused</th>\n",
       "      <th>legs</th>\n",
       "      <th>landing_pad</th>\n",
       "      <th>block</th>\n",
       "      <th>reused_count</th>\n",
       "      <th>serial</th>\n",
       "      <th>longitude</th>\n",
       "      <th>latitude</th>\n",
       "      <th>class</th>\n",
       "    </tr>\n",
       "  </thead>\n",
       "  <tbody>\n",
       "    <tr>\n",
       "      <th>0</th>\n",
       "      <td>6</td>\n",
       "      <td>2010-06-04</td>\n",
       "      <td>Falcon 9</td>\n",
       "      <td>6123.547647</td>\n",
       "      <td>LEO</td>\n",
       "      <td>CCSFS SLC 40</td>\n",
       "      <td>None None</td>\n",
       "      <td>1</td>\n",
       "      <td>False</td>\n",
       "      <td>False</td>\n",
       "      <td>False</td>\n",
       "      <td>NaN</td>\n",
       "      <td>1.0</td>\n",
       "      <td>0</td>\n",
       "      <td>B0003</td>\n",
       "      <td>-80.577366</td>\n",
       "      <td>28.561857</td>\n",
       "      <td>0</td>\n",
       "    </tr>\n",
       "    <tr>\n",
       "      <th>1</th>\n",
       "      <td>8</td>\n",
       "      <td>2012-05-22</td>\n",
       "      <td>Falcon 9</td>\n",
       "      <td>525.000000</td>\n",
       "      <td>LEO</td>\n",
       "      <td>CCSFS SLC 40</td>\n",
       "      <td>None None</td>\n",
       "      <td>1</td>\n",
       "      <td>False</td>\n",
       "      <td>False</td>\n",
       "      <td>False</td>\n",
       "      <td>NaN</td>\n",
       "      <td>1.0</td>\n",
       "      <td>0</td>\n",
       "      <td>B0005</td>\n",
       "      <td>-80.577366</td>\n",
       "      <td>28.561857</td>\n",
       "      <td>0</td>\n",
       "    </tr>\n",
       "    <tr>\n",
       "      <th>2</th>\n",
       "      <td>10</td>\n",
       "      <td>2013-03-01</td>\n",
       "      <td>Falcon 9</td>\n",
       "      <td>677.000000</td>\n",
       "      <td>ISS</td>\n",
       "      <td>CCSFS SLC 40</td>\n",
       "      <td>None None</td>\n",
       "      <td>1</td>\n",
       "      <td>False</td>\n",
       "      <td>False</td>\n",
       "      <td>False</td>\n",
       "      <td>NaN</td>\n",
       "      <td>1.0</td>\n",
       "      <td>0</td>\n",
       "      <td>B0007</td>\n",
       "      <td>-80.577366</td>\n",
       "      <td>28.561857</td>\n",
       "      <td>0</td>\n",
       "    </tr>\n",
       "    <tr>\n",
       "      <th>3</th>\n",
       "      <td>11</td>\n",
       "      <td>2013-09-29</td>\n",
       "      <td>Falcon 9</td>\n",
       "      <td>500.000000</td>\n",
       "      <td>PO</td>\n",
       "      <td>VAFB SLC 4E</td>\n",
       "      <td>False Ocean</td>\n",
       "      <td>1</td>\n",
       "      <td>False</td>\n",
       "      <td>False</td>\n",
       "      <td>False</td>\n",
       "      <td>NaN</td>\n",
       "      <td>1.0</td>\n",
       "      <td>0</td>\n",
       "      <td>B1003</td>\n",
       "      <td>-120.610829</td>\n",
       "      <td>34.632093</td>\n",
       "      <td>0</td>\n",
       "    </tr>\n",
       "    <tr>\n",
       "      <th>4</th>\n",
       "      <td>12</td>\n",
       "      <td>2013-12-03</td>\n",
       "      <td>Falcon 9</td>\n",
       "      <td>3170.000000</td>\n",
       "      <td>GTO</td>\n",
       "      <td>CCSFS SLC 40</td>\n",
       "      <td>None None</td>\n",
       "      <td>1</td>\n",
       "      <td>False</td>\n",
       "      <td>False</td>\n",
       "      <td>False</td>\n",
       "      <td>NaN</td>\n",
       "      <td>1.0</td>\n",
       "      <td>0</td>\n",
       "      <td>B1004</td>\n",
       "      <td>-80.577366</td>\n",
       "      <td>28.561857</td>\n",
       "      <td>0</td>\n",
       "    </tr>\n",
       "  </tbody>\n",
       "</table>\n",
       "</div>"
      ],
      "text/plain": [
       "   flight_number        date booster_version  payload_mass orbit  \\\n",
       "0              6  2010-06-04        Falcon 9   6123.547647   LEO   \n",
       "1              8  2012-05-22        Falcon 9    525.000000   LEO   \n",
       "2             10  2013-03-01        Falcon 9    677.000000   ISS   \n",
       "3             11  2013-09-29        Falcon 9    500.000000    PO   \n",
       "4             12  2013-12-03        Falcon 9   3170.000000   GTO   \n",
       "\n",
       "    launch_site      outcome  flights  grid_fins  reused   legs landing_pad  \\\n",
       "0  CCSFS SLC 40    None None        1      False   False  False         NaN   \n",
       "1  CCSFS SLC 40    None None        1      False   False  False         NaN   \n",
       "2  CCSFS SLC 40    None None        1      False   False  False         NaN   \n",
       "3   VAFB SLC 4E  False Ocean        1      False   False  False         NaN   \n",
       "4  CCSFS SLC 40    None None        1      False   False  False         NaN   \n",
       "\n",
       "   block  reused_count serial   longitude   latitude  class  \n",
       "0    1.0             0  B0003  -80.577366  28.561857      0  \n",
       "1    1.0             0  B0005  -80.577366  28.561857      0  \n",
       "2    1.0             0  B0007  -80.577366  28.561857      0  \n",
       "3    1.0             0  B1003 -120.610829  34.632093      0  \n",
       "4    1.0             0  B1004  -80.577366  28.561857      0  "
      ]
     },
     "execution_count": 4,
     "metadata": {},
     "output_type": "execute_result"
    }
   ],
   "source": [
    "df = pd.read_csv(INPUT_FILE, encoding=\"utf-8\", header=0, index_col=False)\n",
    "df.head()"
   ]
  },
  {
   "cell_type": "markdown",
   "id": "eb99ac68",
   "metadata": {},
   "source": [
    "## Analysis\n"
   ]
  },
  {
   "cell_type": "markdown",
   "id": "eea37d5e",
   "metadata": {},
   "source": [
    "### Relation between Flight number vs Payload mass\n"
   ]
  },
  {
   "cell_type": "code",
   "execution_count": null,
   "id": "5f34fcf0",
   "metadata": {},
   "outputs": [
    {
     "data": {
      "image/png": "[encoded data removed]",
      "text/plain": [
       "<Figure size 1500x300 with 1 Axes>"
      ]
     },
     "metadata": {},
     "output_type": "display_data"
    }
   ],
   "source": [
    "def graph_flight_number_vs_payload_mass():\n",
    "    xlabel = \"flight_number\"\n",
    "    ylabel = \"payload_mass\"\n",
    "    ax = sns.catplot(\n",
    "        x=xlabel,\n",
    "        y=ylabel,\n",
    "        hue=\"class\",\n",
    "        data=df,\n",
    "        height=3,\n",
    "        aspect=5,\n",
    "        legend_out=False,\n",
    "    )\n",
    "    plt.title(\n",
    "        \"Relation between # of flights vs payload mass\",\n",
    "        loc=\"left\",\n",
    "        fontdict={\"fontsize\": 14, \"color\": \"darkblue\"},\n",
    "    )\n",
    "    plt.legend(\n",
    "        loc=\"upper left\",\n",
    "        fontsize=\"x-small\",\n",
    "        title=\"success\",\n",
    "        title_fontsize=\"x-small\",\n",
    "        frameon=True,\n",
    "        markerfirst=False,\n",
    "        shadow=True,\n",
    "    )\n",
    "    plt.xlabel(\"# of flights\", fontsize=14, color=\"blue\", loc=\"left\")\n",
    "    plt.ylabel(\"payload mass (kg)\", fontsize=14, color=\"blue\", loc=\"bottom\")\n",
    "    plt.xticks(fontsize=\"xx-small\")\n",
    "    plt.yticks(fontsize=\"x-small\")\n",
    "    plt.grid(visible=True, linestyle=\"dashed\")\n",
    "    plt.show()\n",
    "\n",
    "\n",
    "graph_flight_number_vs_payload_mass()"
   ]
  },
  {
   "cell_type": "markdown",
   "id": "265ae3f7",
   "metadata": {},
   "source": [
    "### Relation between Flight number vs Launch Site\n"
   ]
  },
  {
   "cell_type": "code",
   "execution_count": 6,
   "id": "e015ce00",
   "metadata": {},
   "outputs": [
    {
     "data": {
      "image/png": "[encoded data removed]",
      "text/plain": [
       "<Figure size 750x300 with 1 Axes>"
      ]
     },
     "metadata": {},
     "output_type": "display_data"
    }
   ],
   "source": [
    "def graph_flight_number_vs_launch_site():\n",
    "    xlabel = \"flight_number\"\n",
    "    ylabel = \"launch_site\"\n",
    "    sns.catplot(\n",
    "        x=xlabel, y=ylabel, hue=\"class\", data=df, height=3, aspect=2.5, legend_out=False\n",
    "    )\n",
    "    plt.title(\n",
    "        \"Relation between # of flights vs Launch Site\",\n",
    "        loc=\"left\",\n",
    "        fontdict={\"fontsize\": 14, \"color\": \"darkblue\"},\n",
    "    )\n",
    "    plt.legend(\n",
    "        loc=\"lower left\",\n",
    "        fontsize=\"x-small\",\n",
    "        title=\"success\",\n",
    "        title_fontsize=\"x-small\",\n",
    "        frameon=True,\n",
    "        markerfirst=False,\n",
    "        shadow=True,\n",
    "    )\n",
    "    plt.xlabel(\"# of flights\", fontsize=14, color=\"blue\", loc=\"left\")\n",
    "    plt.ylabel(\"launch site\", fontsize=14, color=\"blue\", loc=\"bottom\")\n",
    "    plt.xticks(fontsize=\"x-small\")\n",
    "    plt.yticks(fontsize=\"x-small\")\n",
    "    plt.grid(visible=True, linestyle=\"dashed\")\n",
    "    plt.show()\n",
    "\n",
    "\n",
    "graph_flight_number_vs_launch_site()"
   ]
  },
  {
   "cell_type": "markdown",
   "id": "25f64197",
   "metadata": {},
   "source": [
    "### Relation between Flight number vs Orbit\n"
   ]
  },
  {
   "cell_type": "code",
   "execution_count": null,
   "id": "ba56bb17",
   "metadata": {},
   "outputs": [
    {
     "data": {
      "application/vnd.microsoft.datawrangler.viewer.v0+json": {
       "columns": [
        {
         "name": "orbit",
         "rawType": "object",
         "type": "string"
        },
        {
         "name": "successful_launches",
         "rawType": "int64",
         "type": "integer"
        },
        {
         "name": "#_of_flights",
         "rawType": "int64",
         "type": "integer"
        },
        {
         "name": "success_ratio",
         "rawType": "float64",
         "type": "float"
        }
       ],
       "ref": "a4ad0d29-c84f-4fef-a58f-fbf301b4a23d",
       "rows": [
        [
         "ES-L1",
         "1",
         "1",
         "1.0"
        ],
        [
         "GEO",
         "1",
         "1",
         "1.0"
        ],
        [
         "HEO",
         "1",
         "1",
         "1.0"
        ],
        [
         "SSO",
         "5",
         "5",
         "1.0"
        ],
        [
         "VLEO",
         "12",
         "14",
         "0.86"
        ],
        [
         "LEO",
         "5",
         "7",
         "0.71"
        ],
        [
         "PO",
         "6",
         "9",
         "0.67"
        ],
        [
         "MEO",
         "2",
         "3",
         "0.67"
        ],
        [
         "ISS",
         "13",
         "21",
         "0.62"
        ],
        [
         "GTO",
         "14",
         "27",
         "0.52"
        ],
        [
         "SO",
         "0",
         "1",
         "0.0"
        ]
       ],
       "shape": {
        "columns": 3,
        "rows": 11
       }
      },
      "text/html": [
       "<div>\n",
       "<style scoped>\n",
       "    .dataframe tbody tr th:only-of-type {\n",
       "        vertical-align: middle;\n",
       "    }\n",
       "\n",
       "    .dataframe tbody tr th {\n",
       "        vertical-align: top;\n",
       "    }\n",
       "\n",
       "    .dataframe thead th {\n",
       "        text-align: right;\n",
       "    }\n",
       "</style>\n",
       "<table border=\"1\" class=\"dataframe\">\n",
       "  <thead>\n",
       "    <tr style=\"text-align: right;\">\n",
       "      <th></th>\n",
       "      <th>successful_launches</th>\n",
       "      <th>#_of_flights</th>\n",
       "      <th>success_ratio</th>\n",
       "    </tr>\n",
       "    <tr>\n",
       "      <th>orbit</th>\n",
       "      <th></th>\n",
       "      <th></th>\n",
       "      <th></th>\n",
       "    </tr>\n",
       "  </thead>\n",
       "  <tbody>\n",
       "    <tr>\n",
       "      <th>ES-L1</th>\n",
       "      <td>1</td>\n",
       "      <td>1</td>\n",
       "      <td>1.00</td>\n",
       "    </tr>\n",
       "    <tr>\n",
       "      <th>GEO</th>\n",
       "      <td>1</td>\n",
       "      <td>1</td>\n",
       "      <td>1.00</td>\n",
       "    </tr>\n",
       "    <tr>\n",
       "      <th>HEO</th>\n",
       "      <td>1</td>\n",
       "      <td>1</td>\n",
       "      <td>1.00</td>\n",
       "    </tr>\n",
       "    <tr>\n",
       "      <th>SSO</th>\n",
       "      <td>5</td>\n",
       "      <td>5</td>\n",
       "      <td>1.00</td>\n",
       "    </tr>\n",
       "    <tr>\n",
       "      <th>VLEO</th>\n",
       "      <td>12</td>\n",
       "      <td>14</td>\n",
       "      <td>0.86</td>\n",
       "    </tr>\n",
       "    <tr>\n",
       "      <th>LEO</th>\n",
       "      <td>5</td>\n",
       "      <td>7</td>\n",
       "      <td>0.71</td>\n",
       "    </tr>\n",
       "    <tr>\n",
       "      <th>PO</th>\n",
       "      <td>6</td>\n",
       "      <td>9</td>\n",
       "      <td>0.67</td>\n",
       "    </tr>\n",
       "    <tr>\n",
       "      <th>MEO</th>\n",
       "      <td>2</td>\n",
       "      <td>3</td>\n",
       "      <td>0.67</td>\n",
       "    </tr>\n",
       "    <tr>\n",
       "      <th>ISS</th>\n",
       "      <td>13</td>\n",
       "      <td>21</td>\n",
       "      <td>0.62</td>\n",
       "    </tr>\n",
       "    <tr>\n",
       "      <th>GTO</th>\n",
       "      <td>14</td>\n",
       "      <td>27</td>\n",
       "      <td>0.52</td>\n",
       "    </tr>\n",
       "    <tr>\n",
       "      <th>SO</th>\n",
       "      <td>0</td>\n",
       "      <td>1</td>\n",
       "      <td>0.00</td>\n",
       "    </tr>\n",
       "  </tbody>\n",
       "</table>\n",
       "</div>"
      ],
      "text/plain": [
       "       successful_launches  #_of_flights  success_ratio\n",
       "orbit                                                  \n",
       "ES-L1                    1             1           1.00\n",
       "GEO                      1             1           1.00\n",
       "HEO                      1             1           1.00\n",
       "SSO                      5             5           1.00\n",
       "VLEO                    12            14           0.86\n",
       "LEO                      5             7           0.71\n",
       "PO                       6             9           0.67\n",
       "MEO                      2             3           0.67\n",
       "ISS                     13            21           0.62\n",
       "GTO                     14            27           0.52\n",
       "SO                       0             1           0.00"
      ]
     },
     "execution_count": 58,
     "metadata": {},
     "output_type": "execute_result"
    }
   ],
   "source": [
    "success_count = df.groupby(\"orbit\")[\"class\"].sum()\n",
    "flight_count = df.groupby(\"orbit\")[\"flight_number\"].count()\n",
    "results_df = pd.DataFrame(\n",
    "    {\"successful_launches\": success_count, \"#_of_flights\": flight_count}\n",
    ")\n",
    "results_df[\"success_ratio\"] = round(\n",
    "    results_df[\"successful_launches\"] / results_df[\"#_of_flights\"], 2\n",
    ")\n",
    "results_df.sort_values(by=\"success_ratio\", ascending=False)"
   ]
  },
  {
   "cell_type": "code",
   "execution_count": 59,
   "id": "a3d7ef01",
   "metadata": {},
   "outputs": [
    {
     "data": {
      "image/png": "[encoded data removed]",
      "text/plain": [
       "<Figure size 750x300 with 1 Axes>"
      ]
     },
     "metadata": {},
     "output_type": "display_data"
    }
   ],
   "source": [
    "def graph_flight_number_vs_orbit():\n",
    "    xlabel = \"flight_number\"\n",
    "    ylabel = \"orbit\"\n",
    "    sns.catplot(\n",
    "        x=xlabel, y=ylabel, hue=\"class\", data=df, height=3, aspect=2.5, legend_out=False\n",
    "    )\n",
    "    plt.title(\n",
    "        \"Relation between number of flights vs Orbit\",\n",
    "        loc=\"left\",\n",
    "        fontdict={\"fontsize\": 14, \"color\": \"darkblue\"},\n",
    "    )\n",
    "    plt.legend(\n",
    "        loc=\"lower left\",\n",
    "        fontsize=\"x-small\",\n",
    "        title=\"success\",\n",
    "        title_fontsize=\"x-small\",\n",
    "        frameon=True,\n",
    "        markerfirst=False,\n",
    "        shadow=True,\n",
    "    )\n",
    "    plt.xlabel(\"# of flights\", fontsize=14, color=\"blue\", loc=\"left\")\n",
    "    plt.ylabel(\"orbit\", fontsize=14, color=\"blue\", loc=\"bottom\")\n",
    "    plt.xticks(fontsize=\"x-small\")\n",
    "    plt.yticks(fontsize=\"x-small\")\n",
    "    plt.grid(visible=True, linestyle=\"dashed\")\n",
    "    plt.show()\n",
    "\n",
    "\n",
    "graph_flight_number_vs_orbit()"
   ]
  },
  {
   "cell_type": "markdown",
   "id": "3d751ecc",
   "metadata": {},
   "source": [
    "### Relation between Orbit and success rate\n"
   ]
  },
  {
   "cell_type": "code",
   "execution_count": 37,
   "id": "37df61b1",
   "metadata": {},
   "outputs": [
    {
     "data": {
      "application/vnd.microsoft.datawrangler.viewer.v0+json": {
       "columns": [
        {
         "name": "orbit",
         "rawType": "object",
         "type": "string"
        },
        {
         "name": "succeeded_launches_pct",
         "rawType": "float64",
         "type": "float"
        }
       ],
       "ref": "cbbd55a0-db26-4dfe-b047-3787836c07c9",
       "rows": [
        [
         "ES-L1",
         "1.0"
        ],
        [
         "GEO",
         "1.0"
        ],
        [
         "HEO",
         "1.0"
        ],
        [
         "SSO",
         "1.0"
        ],
        [
         "VLEO",
         "0.86"
        ],
        [
         "LEO",
         "0.71"
        ],
        [
         "PO",
         "0.67"
        ],
        [
         "MEO",
         "0.67"
        ],
        [
         "ISS",
         "0.62"
        ],
        [
         "GTO",
         "0.52"
        ],
        [
         "SO",
         "0.0"
        ]
       ],
       "shape": {
        "columns": 1,
        "rows": 11
       }
      },
      "text/html": [
       "<div>\n",
       "<style scoped>\n",
       "    .dataframe tbody tr th:only-of-type {\n",
       "        vertical-align: middle;\n",
       "    }\n",
       "\n",
       "    .dataframe tbody tr th {\n",
       "        vertical-align: top;\n",
       "    }\n",
       "\n",
       "    .dataframe thead th {\n",
       "        text-align: right;\n",
       "    }\n",
       "</style>\n",
       "<table border=\"1\" class=\"dataframe\">\n",
       "  <thead>\n",
       "    <tr style=\"text-align: right;\">\n",
       "      <th></th>\n",
       "      <th>succeeded_launches_pct</th>\n",
       "    </tr>\n",
       "    <tr>\n",
       "      <th>orbit</th>\n",
       "      <th></th>\n",
       "    </tr>\n",
       "  </thead>\n",
       "  <tbody>\n",
       "    <tr>\n",
       "      <th>ES-L1</th>\n",
       "      <td>1.00</td>\n",
       "    </tr>\n",
       "    <tr>\n",
       "      <th>GEO</th>\n",
       "      <td>1.00</td>\n",
       "    </tr>\n",
       "    <tr>\n",
       "      <th>HEO</th>\n",
       "      <td>1.00</td>\n",
       "    </tr>\n",
       "    <tr>\n",
       "      <th>SSO</th>\n",
       "      <td>1.00</td>\n",
       "    </tr>\n",
       "    <tr>\n",
       "      <th>VLEO</th>\n",
       "      <td>0.86</td>\n",
       "    </tr>\n",
       "    <tr>\n",
       "      <th>LEO</th>\n",
       "      <td>0.71</td>\n",
       "    </tr>\n",
       "    <tr>\n",
       "      <th>PO</th>\n",
       "      <td>0.67</td>\n",
       "    </tr>\n",
       "    <tr>\n",
       "      <th>MEO</th>\n",
       "      <td>0.67</td>\n",
       "    </tr>\n",
       "    <tr>\n",
       "      <th>ISS</th>\n",
       "      <td>0.62</td>\n",
       "    </tr>\n",
       "    <tr>\n",
       "      <th>GTO</th>\n",
       "      <td>0.52</td>\n",
       "    </tr>\n",
       "    <tr>\n",
       "      <th>SO</th>\n",
       "      <td>0.00</td>\n",
       "    </tr>\n",
       "  </tbody>\n",
       "</table>\n",
       "</div>"
      ],
      "text/plain": [
       "       succeeded_launches_pct\n",
       "orbit                        \n",
       "ES-L1                    1.00\n",
       "GEO                      1.00\n",
       "HEO                      1.00\n",
       "SSO                      1.00\n",
       "VLEO                     0.86\n",
       "LEO                      0.71\n",
       "PO                       0.67\n",
       "MEO                      0.67\n",
       "ISS                      0.62\n",
       "GTO                      0.52\n",
       "SO                       0.00"
      ]
     },
     "execution_count": 37,
     "metadata": {},
     "output_type": "execute_result"
    }
   ],
   "source": [
    "results_df = pd.DataFrame(\n",
    "    df.groupby(\"orbit\")[\"class\"].mean().round(2).sort_values(ascending=False)\n",
    ")\n",
    "results_df = results_df.rename(columns={\"class\": \"succeeded_launches_pct\"})\n",
    "results_df"
   ]
  },
  {
   "cell_type": "code",
   "execution_count": 9,
   "id": "5e7abda0",
   "metadata": {},
   "outputs": [
    {
     "data": {
      "image/png": "[encoded data removed]",
      "text/plain": [
       "<Figure size 800x300 with 1 Axes>"
      ]
     },
     "metadata": {},
     "output_type": "display_data"
    }
   ],
   "source": [
    "def graph_orbit_vs_success():\n",
    "    ylabel = \"orbit\"\n",
    "    success_rate = df.groupby(ylabel)[\"class\"].mean()\n",
    "    plt.figure(figsize=(8, 3))\n",
    "    sns.barplot(success_rate, alpha=0.5)\n",
    "    plt.title(\n",
    "        \"Relation between Success rate (class) vs Orbit\",\n",
    "        loc=\"left\",\n",
    "        fontdict={\"fontsize\": 14, \"color\": \"darkblue\"},\n",
    "    )\n",
    "    plt.xlabel(\"orbit\", fontsize=14, color=\"blue\", loc=\"left\")\n",
    "    plt.ylabel(\"% of success rate\", fontsize=14, color=\"blue\", loc=\"bottom\")\n",
    "    plt.xticks(fontsize=\"x-small\")\n",
    "    plt.yticks(fontsize=\"x-small\")\n",
    "    plt.grid(visible=True, axis=\"y\", linestyle=\"dashed\")\n",
    "    plt.show()\n",
    "\n",
    "\n",
    "graph_orbit_vs_success()"
   ]
  },
  {
   "cell_type": "markdown",
   "id": "af5df601",
   "metadata": {},
   "source": [
    "### Relation between Payload vs Orbit\n"
   ]
  },
  {
   "cell_type": "code",
   "execution_count": 65,
   "id": "0a5f12af",
   "metadata": {},
   "outputs": [
    {
     "data": {
      "application/vnd.microsoft.datawrangler.viewer.v0+json": {
       "columns": [
        {
         "name": "orbit",
         "rawType": "object",
         "type": "string"
        },
        {
         "name": "payload",
         "rawType": "float64",
         "type": "float"
        },
        {
         "name": "launches",
         "rawType": "int64",
         "type": "integer"
        },
        {
         "name": "successful_launches",
         "rawType": "int64",
         "type": "integer"
        },
        {
         "name": "success_ratio",
         "rawType": "float64",
         "type": "float"
        }
       ],
       "ref": "aa9809f8-83df-41c6-85f4-4e8ae813e018",
       "rows": [
        [
         "VLEO",
         "216000.0",
         "14",
         "12",
         "0.86"
        ],
        [
         "GTO",
         "135323.85",
         "27",
         "14",
         "0.52"
        ],
        [
         "ISS",
         "68878.7",
         "21",
         "13",
         "0.62"
        ],
        [
         "PO",
         "68253.0",
         "9",
         "6",
         "0.67"
        ],
        [
         "LEO",
         "27235.64",
         "7",
         "5",
         "0.71"
        ],
        [
         "MEO",
         "11961.0",
         "3",
         "2",
         "0.67"
        ],
        [
         "SSO",
         "10300.0",
         "5",
         "5",
         "1.0"
        ],
        [
         "SO",
         "6123.55",
         "1",
         "0",
         "0.0"
        ],
        [
         "GEO",
         "6123.55",
         "1",
         "1",
         "1.0"
        ],
        [
         "ES-L1",
         "570.0",
         "1",
         "1",
         "1.0"
        ],
        [
         "HEO",
         "350.0",
         "1",
         "1",
         "1.0"
        ]
       ],
       "shape": {
        "columns": 4,
        "rows": 11
       }
      },
      "text/html": [
       "<div>\n",
       "<style scoped>\n",
       "    .dataframe tbody tr th:only-of-type {\n",
       "        vertical-align: middle;\n",
       "    }\n",
       "\n",
       "    .dataframe tbody tr th {\n",
       "        vertical-align: top;\n",
       "    }\n",
       "\n",
       "    .dataframe thead th {\n",
       "        text-align: right;\n",
       "    }\n",
       "</style>\n",
       "<table border=\"1\" class=\"dataframe\">\n",
       "  <thead>\n",
       "    <tr style=\"text-align: right;\">\n",
       "      <th></th>\n",
       "      <th>payload</th>\n",
       "      <th>launches</th>\n",
       "      <th>successful_launches</th>\n",
       "      <th>success_ratio</th>\n",
       "    </tr>\n",
       "    <tr>\n",
       "      <th>orbit</th>\n",
       "      <th></th>\n",
       "      <th></th>\n",
       "      <th></th>\n",
       "      <th></th>\n",
       "    </tr>\n",
       "  </thead>\n",
       "  <tbody>\n",
       "    <tr>\n",
       "      <th>VLEO</th>\n",
       "      <td>216000.00</td>\n",
       "      <td>14</td>\n",
       "      <td>12</td>\n",
       "      <td>0.86</td>\n",
       "    </tr>\n",
       "    <tr>\n",
       "      <th>GTO</th>\n",
       "      <td>135323.85</td>\n",
       "      <td>27</td>\n",
       "      <td>14</td>\n",
       "      <td>0.52</td>\n",
       "    </tr>\n",
       "    <tr>\n",
       "      <th>ISS</th>\n",
       "      <td>68878.70</td>\n",
       "      <td>21</td>\n",
       "      <td>13</td>\n",
       "      <td>0.62</td>\n",
       "    </tr>\n",
       "    <tr>\n",
       "      <th>PO</th>\n",
       "      <td>68253.00</td>\n",
       "      <td>9</td>\n",
       "      <td>6</td>\n",
       "      <td>0.67</td>\n",
       "    </tr>\n",
       "    <tr>\n",
       "      <th>LEO</th>\n",
       "      <td>27235.64</td>\n",
       "      <td>7</td>\n",
       "      <td>5</td>\n",
       "      <td>0.71</td>\n",
       "    </tr>\n",
       "    <tr>\n",
       "      <th>MEO</th>\n",
       "      <td>11961.00</td>\n",
       "      <td>3</td>\n",
       "      <td>2</td>\n",
       "      <td>0.67</td>\n",
       "    </tr>\n",
       "    <tr>\n",
       "      <th>SSO</th>\n",
       "      <td>10300.00</td>\n",
       "      <td>5</td>\n",
       "      <td>5</td>\n",
       "      <td>1.00</td>\n",
       "    </tr>\n",
       "    <tr>\n",
       "      <th>SO</th>\n",
       "      <td>6123.55</td>\n",
       "      <td>1</td>\n",
       "      <td>0</td>\n",
       "      <td>0.00</td>\n",
       "    </tr>\n",
       "    <tr>\n",
       "      <th>GEO</th>\n",
       "      <td>6123.55</td>\n",
       "      <td>1</td>\n",
       "      <td>1</td>\n",
       "      <td>1.00</td>\n",
       "    </tr>\n",
       "    <tr>\n",
       "      <th>ES-L1</th>\n",
       "      <td>570.00</td>\n",
       "      <td>1</td>\n",
       "      <td>1</td>\n",
       "      <td>1.00</td>\n",
       "    </tr>\n",
       "    <tr>\n",
       "      <th>HEO</th>\n",
       "      <td>350.00</td>\n",
       "      <td>1</td>\n",
       "      <td>1</td>\n",
       "      <td>1.00</td>\n",
       "    </tr>\n",
       "  </tbody>\n",
       "</table>\n",
       "</div>"
      ],
      "text/plain": [
       "         payload  launches  successful_launches  success_ratio\n",
       "orbit                                                         \n",
       "VLEO   216000.00        14                   12           0.86\n",
       "GTO    135323.85        27                   14           0.52\n",
       "ISS     68878.70        21                   13           0.62\n",
       "PO      68253.00         9                    6           0.67\n",
       "LEO     27235.64         7                    5           0.71\n",
       "MEO     11961.00         3                    2           0.67\n",
       "SSO     10300.00         5                    5           1.00\n",
       "SO       6123.55         1                    0           0.00\n",
       "GEO      6123.55         1                    1           1.00\n",
       "ES-L1     570.00         1                    1           1.00\n",
       "HEO       350.00         1                    1           1.00"
      ]
     },
     "execution_count": 65,
     "metadata": {},
     "output_type": "execute_result"
    }
   ],
   "source": [
    "payload = df.groupby(\"orbit\")[\"payload_mass\"].sum().round(2)\n",
    "launches = df.groupby(\"orbit\")[\"flight_number\"].count()\n",
    "success_count = df.groupby(\"orbit\")[\"class\"].sum()\n",
    "results_df = pd.DataFrame(\n",
    "    {\n",
    "        \"payload\": payload,\n",
    "        \"launches\": launches,\n",
    "        \"successful_launches\": success_count,\n",
    "    }\n",
    ")\n",
    "results_df[\"success_ratio\"] = round(\n",
    "    results_df[\"successful_launches\"] / results_df[\"launches\"], 2\n",
    ")\n",
    "results_df.sort_values(by=\"payload\", ascending=False)"
   ]
  },
  {
   "cell_type": "code",
   "execution_count": 10,
   "id": "6c148943",
   "metadata": {},
   "outputs": [
    {
     "data": {
      "image/png": "[encoded data removed]",
      "text/plain": [
       "<Figure size 750x300 with 1 Axes>"
      ]
     },
     "metadata": {},
     "output_type": "display_data"
    }
   ],
   "source": [
    "def graph_payload_mass_vs_orbit():\n",
    "    xlabel = \"payload_mass\"\n",
    "    ylabel = \"orbit\"\n",
    "    sns.catplot(\n",
    "        x=xlabel, y=ylabel, hue=\"class\", data=df, height=3, aspect=2.5, legend_out=False\n",
    "    )\n",
    "    plt.title(\n",
    "        \"Relation between payload vs orbit\",\n",
    "        loc=\"left\",\n",
    "        fontdict={\"fontsize\": 14, \"color\": \"darkblue\"},\n",
    "    )\n",
    "    plt.legend(\n",
    "        loc=\"lower left\",\n",
    "        fontsize=\"x-small\",\n",
    "        title=\"success\",\n",
    "        title_fontsize=\"x-small\",\n",
    "        frameon=True,\n",
    "        markerfirst=False,\n",
    "        shadow=True,\n",
    "    )\n",
    "    plt.xlabel(\"payload\", fontsize=14, color=\"blue\", loc=\"left\")\n",
    "    plt.ylabel(\"orbit\", fontsize=14, color=\"blue\", loc=\"bottom\")\n",
    "    plt.xticks(fontsize=\"x-small\")\n",
    "    plt.yticks(fontsize=\"x-small\")\n",
    "    plt.grid(visible=True, linestyle=\"dashed\")\n",
    "    plt.show()\n",
    "\n",
    "\n",
    "graph_payload_mass_vs_orbit()"
   ]
  },
  {
   "cell_type": "markdown",
   "id": "b0501c97",
   "metadata": {},
   "source": [
    "### Payload vs Launch Site\n"
   ]
  },
  {
   "cell_type": "code",
   "execution_count": 11,
   "id": "0f530714",
   "metadata": {},
   "outputs": [
    {
     "data": {
      "image/png": "[encoded data removed]",
      "text/plain": [
       "<Figure size 750x300 with 1 Axes>"
      ]
     },
     "metadata": {},
     "output_type": "display_data"
    }
   ],
   "source": [
    "def graph_payload_mass_vs_launch_site():\n",
    "    xlabel = \"payload_mass\"\n",
    "    ylabel = \"launch_site\"\n",
    "    sns.catplot(\n",
    "        x=xlabel, y=ylabel, hue=\"class\", data=df, height=3, aspect=2.5, legend_out=False\n",
    "    )\n",
    "    plt.title(\n",
    "        \"Relation between payload vs launch site\",\n",
    "        loc=\"left\",\n",
    "        fontdict={\"fontsize\": 14, \"color\": \"darkblue\"},\n",
    "    )\n",
    "    plt.legend(\n",
    "        loc=\"lower left\",\n",
    "        fontsize=\"x-small\",\n",
    "        title=\"success\",\n",
    "        title_fontsize=\"x-small\",\n",
    "        frameon=True,\n",
    "        markerfirst=False,\n",
    "        shadow=True,\n",
    "    )\n",
    "    plt.xlabel(\"payload\", fontsize=14, color=\"blue\", loc=\"left\")\n",
    "    plt.ylabel(\"launch site\", fontsize=14, color=\"blue\", loc=\"bottom\")\n",
    "    plt.xticks(fontsize=\"x-small\")\n",
    "    plt.yticks(fontsize=\"x-small\")\n",
    "    plt.grid(visible=True, linestyle=\"dashed\")\n",
    "    plt.show()\n",
    "\n",
    "\n",
    "graph_payload_mass_vs_launch_site()"
   ]
  },
  {
   "cell_type": "markdown",
   "id": "1bc82d45",
   "metadata": {},
   "source": [
    "### Launch success yearly trend\n"
   ]
  },
  {
   "cell_type": "code",
   "execution_count": 12,
   "id": "16bc0ca6",
   "metadata": {},
   "outputs": [
    {
     "data": {
      "image/png": "[encoded data removed]",
      "text/plain": [
       "<Figure size 720x300 with 1 Axes>"
      ]
     },
     "metadata": {},
     "output_type": "display_data"
    }
   ],
   "source": [
    "df[\"year\"] = pd.to_datetime(df[\"date\"]).dt.year.astype(\"int\")\n",
    "\n",
    "\n",
    "def graph_success_rate_trend():\n",
    "    success_rate = df.groupby(\"year\")[\"class\"].mean()\n",
    "    plt.figure(figsize=(7.2, 3))\n",
    "    plt.plot(success_rate.index, success_rate.values)\n",
    "    plt.title(\n",
    "        \"Launch success yearly trend\",\n",
    "        loc=\"left\",\n",
    "        fontdict={\"fontsize\": 14, \"color\": \"darkblue\"},\n",
    "    )\n",
    "    plt.xlabel(\"year\", fontsize=14, color=\"blue\", loc=\"left\")\n",
    "    plt.ylabel(\"success rate\", fontsize=14, color=\"blue\", loc=\"bottom\")\n",
    "    plt.xticks(ticks=success_rate.index, fontsize=\"x-small\")\n",
    "    plt.yticks(fontsize=\"x-small\")\n",
    "    plt.tight_layout()\n",
    "    plt.show()\n",
    "\n",
    "\n",
    "graph_success_rate_trend()"
   ]
  },
  {
   "cell_type": "code",
   "execution_count": 13,
   "id": "e309e1d9",
   "metadata": {},
   "outputs": [
    {
     "data": {
      "application/vnd.microsoft.datawrangler.viewer.v0+json": {
       "columns": [
        {
         "name": "index",
         "rawType": "object",
         "type": "string"
        },
        {
         "name": "flight_number",
         "rawType": "float64",
         "type": "float"
        },
        {
         "name": "payload_mass",
         "rawType": "float64",
         "type": "float"
        },
        {
         "name": "flights",
         "rawType": "float64",
         "type": "float"
        },
        {
         "name": "grid_fins",
         "rawType": "float64",
         "type": "float"
        },
        {
         "name": "reused",
         "rawType": "float64",
         "type": "float"
        },
        {
         "name": "legs",
         "rawType": "float64",
         "type": "float"
        },
        {
         "name": "block",
         "rawType": "float64",
         "type": "float"
        },
        {
         "name": "reused_count",
         "rawType": "float64",
         "type": "float"
        },
        {
         "name": "longitude",
         "rawType": "float64",
         "type": "float"
        },
        {
         "name": "latitude",
         "rawType": "float64",
         "type": "float"
        },
        {
         "name": "class",
         "rawType": "float64",
         "type": "float"
        },
        {
         "name": "year",
         "rawType": "float64",
         "type": "float"
        }
       ],
       "ref": "c6943a05-4d00-426f-a06a-505434a9a0e1",
       "rows": [
        [
         "flight_number",
         "1.0",
         "0.598666721305577",
         "0.6571125596950367",
         "0.436291003517617",
         "0.6364571225887146",
         "0.3700239552450085",
         "0.9301252033925919",
         "0.7770607056957147",
         "0.05993333808467306",
         "-0.05892614373989604",
         "0.3959436032624555",
         "0.9490712665133972"
        ],
        [
         "payload_mass",
         "0.598666721305577",
         "1.0",
         "0.6676159758607046",
         "0.2578701688785073",
         "0.46914636545051946",
         "0.19262419916815787",
         "0.5176059510440931",
         "0.6213010691820754",
         "0.017674196908647143",
         "-0.01614398918973227",
         "0.20001428287194772",
         "0.5661100140001454"
        ],
        [
         "flights",
         "0.6571125596950367",
         "0.6676159758607046",
         "1.0",
         "0.19445745144610022",
         "0.7826308041765935",
         "0.157727052201048",
         "0.5196030635831157",
         "0.5069522251978742",
         "0.0852280743777965",
         "-0.08454700907534447",
         "0.14978707991804258",
         "0.593285897544196"
        ],
        [
         "grid_fins",
         "0.436291003517617",
         "0.2578701688785073",
         "0.19445745144610022",
         "1.0",
         "0.2293405142250188",
         "0.9023015273021358",
         "0.43802256263085276",
         "0.3638053020477535",
         "-0.14367654446776165",
         "0.144426937892103",
         "0.6425396041156862",
         "0.533010750935311"
        ],
        [
         "reused",
         "0.6364571225887146",
         "0.46914636545051946",
         "0.7826308041765935",
         "0.2293405142250188",
         "1.0",
         "0.15555205376571216",
         "0.5480359954295646",
         "0.45483364518288727",
         "-0.0421598171358237",
         "0.04266928794539691",
         "0.2075819358022084",
         "0.5969021113463745"
        ],
        [
         "legs",
         "0.3700239552450085",
         "0.19262419916815787",
         "0.157727052201048",
         "0.9023015273021358",
         "0.15555205376571216",
         "1.0",
         "0.36899428226935127",
         "0.3432753917625735",
         "-0.05770104936427905",
         "0.05816094572650544",
         "0.6738249250744544",
         "0.46321456412283146"
        ],
        [
         "block",
         "0.9301252033925919",
         "0.5176059510440931",
         "0.5196030635831157",
         "0.43802256263085276",
         "0.5480359954295646",
         "0.36899428226935127",
         "1.0",
         "0.6506853071326524",
         "-0.030036813112173613",
         "0.03162108758759721",
         "0.41601494284590523",
         "0.9074045037187315"
        ],
        [
         "reused_count",
         "0.7770607056957147",
         "0.6213010691820754",
         "0.5069522251978742",
         "0.3638053020477535",
         "0.45483364518288727",
         "0.3432753917625735",
         "0.6506853071326524",
         "1.0",
         "0.026070105037541563",
         "-0.024862996357954418",
         "0.4501891718449261",
         "0.6936292318972312"
        ],
        [
         "longitude",
         "0.05993333808467306",
         "0.017674196908647143",
         "0.0852280743777965",
         "-0.14367654446776165",
         "-0.0421598171358237",
         "-0.05770104936427905",
         "-0.030036813112173613",
         "0.026070105037541563",
         "1.0",
         "-0.9999657478050324",
         "-0.08951890134426044",
         "0.025540189352068178"
        ],
        [
         "latitude",
         "-0.05892614373989604",
         "-0.01614398918973227",
         "-0.08454700907534447",
         "0.144426937892103",
         "0.04266928794539691",
         "0.05816094572650544",
         "0.03162108758759721",
         "-0.024862996357954418",
         "-0.9999657478050324",
         "1.0",
         "0.09078246085061895",
         "-0.02387510391421401"
        ],
        [
         "class",
         "0.3959436032624555",
         "0.20001428287194772",
         "0.14978707991804258",
         "0.6425396041156862",
         "0.2075819358022084",
         "0.6738249250744544",
         "0.41601494284590523",
         "0.4501891718449261",
         "-0.08951890134426044",
         "0.09078246085061895",
         "1.0",
         "0.4339119671072571"
        ],
        [
         "year",
         "0.9490712665133972",
         "0.5661100140001454",
         "0.593285897544196",
         "0.533010750935311",
         "0.5969021113463745",
         "0.46321456412283146",
         "0.9074045037187315",
         "0.6936292318972312",
         "0.025540189352068178",
         "-0.02387510391421401",
         "0.4339119671072571",
         "1.0"
        ]
       ],
       "shape": {
        "columns": 12,
        "rows": 12
       }
      },
      "text/html": [
       "<div>\n",
       "<style scoped>\n",
       "    .dataframe tbody tr th:only-of-type {\n",
       "        vertical-align: middle;\n",
       "    }\n",
       "\n",
       "    .dataframe tbody tr th {\n",
       "        vertical-align: top;\n",
       "    }\n",
       "\n",
       "    .dataframe thead th {\n",
       "        text-align: right;\n",
       "    }\n",
       "</style>\n",
       "<table border=\"1\" class=\"dataframe\">\n",
       "  <thead>\n",
       "    <tr style=\"text-align: right;\">\n",
       "      <th></th>\n",
       "      <th>flight_number</th>\n",
       "      <th>payload_mass</th>\n",
       "      <th>flights</th>\n",
       "      <th>grid_fins</th>\n",
       "      <th>reused</th>\n",
       "      <th>legs</th>\n",
       "      <th>block</th>\n",
       "      <th>reused_count</th>\n",
       "      <th>longitude</th>\n",
       "      <th>latitude</th>\n",
       "      <th>class</th>\n",
       "      <th>year</th>\n",
       "    </tr>\n",
       "  </thead>\n",
       "  <tbody>\n",
       "    <tr>\n",
       "      <th>flight_number</th>\n",
       "      <td>1.000000</td>\n",
       "      <td>0.598667</td>\n",
       "      <td>0.657113</td>\n",
       "      <td>0.436291</td>\n",
       "      <td>0.636457</td>\n",
       "      <td>0.370024</td>\n",
       "      <td>0.930125</td>\n",
       "      <td>0.777061</td>\n",
       "      <td>0.059933</td>\n",
       "      <td>-0.058926</td>\n",
       "      <td>0.395944</td>\n",
       "      <td>0.949071</td>\n",
       "    </tr>\n",
       "    <tr>\n",
       "      <th>payload_mass</th>\n",
       "      <td>0.598667</td>\n",
       "      <td>1.000000</td>\n",
       "      <td>0.667616</td>\n",
       "      <td>0.257870</td>\n",
       "      <td>0.469146</td>\n",
       "      <td>0.192624</td>\n",
       "      <td>0.517606</td>\n",
       "      <td>0.621301</td>\n",
       "      <td>0.017674</td>\n",
       "      <td>-0.016144</td>\n",
       "      <td>0.200014</td>\n",
       "      <td>0.566110</td>\n",
       "    </tr>\n",
       "    <tr>\n",
       "      <th>flights</th>\n",
       "      <td>0.657113</td>\n",
       "      <td>0.667616</td>\n",
       "      <td>1.000000</td>\n",
       "      <td>0.194457</td>\n",
       "      <td>0.782631</td>\n",
       "      <td>0.157727</td>\n",
       "      <td>0.519603</td>\n",
       "      <td>0.506952</td>\n",
       "      <td>0.085228</td>\n",
       "      <td>-0.084547</td>\n",
       "      <td>0.149787</td>\n",
       "      <td>0.593286</td>\n",
       "    </tr>\n",
       "    <tr>\n",
       "      <th>grid_fins</th>\n",
       "      <td>0.436291</td>\n",
       "      <td>0.257870</td>\n",
       "      <td>0.194457</td>\n",
       "      <td>1.000000</td>\n",
       "      <td>0.229341</td>\n",
       "      <td>0.902302</td>\n",
       "      <td>0.438023</td>\n",
       "      <td>0.363805</td>\n",
       "      <td>-0.143677</td>\n",
       "      <td>0.144427</td>\n",
       "      <td>0.642540</td>\n",
       "      <td>0.533011</td>\n",
       "    </tr>\n",
       "    <tr>\n",
       "      <th>reused</th>\n",
       "      <td>0.636457</td>\n",
       "      <td>0.469146</td>\n",
       "      <td>0.782631</td>\n",
       "      <td>0.229341</td>\n",
       "      <td>1.000000</td>\n",
       "      <td>0.155552</td>\n",
       "      <td>0.548036</td>\n",
       "      <td>0.454834</td>\n",
       "      <td>-0.042160</td>\n",
       "      <td>0.042669</td>\n",
       "      <td>0.207582</td>\n",
       "      <td>0.596902</td>\n",
       "    </tr>\n",
       "    <tr>\n",
       "      <th>legs</th>\n",
       "      <td>0.370024</td>\n",
       "      <td>0.192624</td>\n",
       "      <td>0.157727</td>\n",
       "      <td>0.902302</td>\n",
       "      <td>0.155552</td>\n",
       "      <td>1.000000</td>\n",
       "      <td>0.368994</td>\n",
       "      <td>0.343275</td>\n",
       "      <td>-0.057701</td>\n",
       "      <td>0.058161</td>\n",
       "      <td>0.673825</td>\n",
       "      <td>0.463215</td>\n",
       "    </tr>\n",
       "    <tr>\n",
       "      <th>block</th>\n",
       "      <td>0.930125</td>\n",
       "      <td>0.517606</td>\n",
       "      <td>0.519603</td>\n",
       "      <td>0.438023</td>\n",
       "      <td>0.548036</td>\n",
       "      <td>0.368994</td>\n",
       "      <td>1.000000</td>\n",
       "      <td>0.650685</td>\n",
       "      <td>-0.030037</td>\n",
       "      <td>0.031621</td>\n",
       "      <td>0.416015</td>\n",
       "      <td>0.907405</td>\n",
       "    </tr>\n",
       "    <tr>\n",
       "      <th>reused_count</th>\n",
       "      <td>0.777061</td>\n",
       "      <td>0.621301</td>\n",
       "      <td>0.506952</td>\n",
       "      <td>0.363805</td>\n",
       "      <td>0.454834</td>\n",
       "      <td>0.343275</td>\n",
       "      <td>0.650685</td>\n",
       "      <td>1.000000</td>\n",
       "      <td>0.026070</td>\n",
       "      <td>-0.024863</td>\n",
       "      <td>0.450189</td>\n",
       "      <td>0.693629</td>\n",
       "    </tr>\n",
       "    <tr>\n",
       "      <th>longitude</th>\n",
       "      <td>0.059933</td>\n",
       "      <td>0.017674</td>\n",
       "      <td>0.085228</td>\n",
       "      <td>-0.143677</td>\n",
       "      <td>-0.042160</td>\n",
       "      <td>-0.057701</td>\n",
       "      <td>-0.030037</td>\n",
       "      <td>0.026070</td>\n",
       "      <td>1.000000</td>\n",
       "      <td>-0.999966</td>\n",
       "      <td>-0.089519</td>\n",
       "      <td>0.025540</td>\n",
       "    </tr>\n",
       "    <tr>\n",
       "      <th>latitude</th>\n",
       "      <td>-0.058926</td>\n",
       "      <td>-0.016144</td>\n",
       "      <td>-0.084547</td>\n",
       "      <td>0.144427</td>\n",
       "      <td>0.042669</td>\n",
       "      <td>0.058161</td>\n",
       "      <td>0.031621</td>\n",
       "      <td>-0.024863</td>\n",
       "      <td>-0.999966</td>\n",
       "      <td>1.000000</td>\n",
       "      <td>0.090782</td>\n",
       "      <td>-0.023875</td>\n",
       "    </tr>\n",
       "    <tr>\n",
       "      <th>class</th>\n",
       "      <td>0.395944</td>\n",
       "      <td>0.200014</td>\n",
       "      <td>0.149787</td>\n",
       "      <td>0.642540</td>\n",
       "      <td>0.207582</td>\n",
       "      <td>0.673825</td>\n",
       "      <td>0.416015</td>\n",
       "      <td>0.450189</td>\n",
       "      <td>-0.089519</td>\n",
       "      <td>0.090782</td>\n",
       "      <td>1.000000</td>\n",
       "      <td>0.433912</td>\n",
       "    </tr>\n",
       "    <tr>\n",
       "      <th>year</th>\n",
       "      <td>0.949071</td>\n",
       "      <td>0.566110</td>\n",
       "      <td>0.593286</td>\n",
       "      <td>0.533011</td>\n",
       "      <td>0.596902</td>\n",
       "      <td>0.463215</td>\n",
       "      <td>0.907405</td>\n",
       "      <td>0.693629</td>\n",
       "      <td>0.025540</td>\n",
       "      <td>-0.023875</td>\n",
       "      <td>0.433912</td>\n",
       "      <td>1.000000</td>\n",
       "    </tr>\n",
       "  </tbody>\n",
       "</table>\n",
       "</div>"
      ],
      "text/plain": [
       "               flight_number  payload_mass   flights  grid_fins    reused  \\\n",
       "flight_number       1.000000      0.598667  0.657113   0.436291  0.636457   \n",
       "payload_mass        0.598667      1.000000  0.667616   0.257870  0.469146   \n",
       "flights             0.657113      0.667616  1.000000   0.194457  0.782631   \n",
       "grid_fins           0.436291      0.257870  0.194457   1.000000  0.229341   \n",
       "reused              0.636457      0.469146  0.782631   0.229341  1.000000   \n",
       "legs                0.370024      0.192624  0.157727   0.902302  0.155552   \n",
       "block               0.930125      0.517606  0.519603   0.438023  0.548036   \n",
       "reused_count        0.777061      0.621301  0.506952   0.363805  0.454834   \n",
       "longitude           0.059933      0.017674  0.085228  -0.143677 -0.042160   \n",
       "latitude           -0.058926     -0.016144 -0.084547   0.144427  0.042669   \n",
       "class               0.395944      0.200014  0.149787   0.642540  0.207582   \n",
       "year                0.949071      0.566110  0.593286   0.533011  0.596902   \n",
       "\n",
       "                   legs     block  reused_count  longitude  latitude  \\\n",
       "flight_number  0.370024  0.930125      0.777061   0.059933 -0.058926   \n",
       "payload_mass   0.192624  0.517606      0.621301   0.017674 -0.016144   \n",
       "flights        0.157727  0.519603      0.506952   0.085228 -0.084547   \n",
       "grid_fins      0.902302  0.438023      0.363805  -0.143677  0.144427   \n",
       "reused         0.155552  0.548036      0.454834  -0.042160  0.042669   \n",
       "legs           1.000000  0.368994      0.343275  -0.057701  0.058161   \n",
       "block          0.368994  1.000000      0.650685  -0.030037  0.031621   \n",
       "reused_count   0.343275  0.650685      1.000000   0.026070 -0.024863   \n",
       "longitude     -0.057701 -0.030037      0.026070   1.000000 -0.999966   \n",
       "latitude       0.058161  0.031621     -0.024863  -0.999966  1.000000   \n",
       "class          0.673825  0.416015      0.450189  -0.089519  0.090782   \n",
       "year           0.463215  0.907405      0.693629   0.025540 -0.023875   \n",
       "\n",
       "                  class      year  \n",
       "flight_number  0.395944  0.949071  \n",
       "payload_mass   0.200014  0.566110  \n",
       "flights        0.149787  0.593286  \n",
       "grid_fins      0.642540  0.533011  \n",
       "reused         0.207582  0.596902  \n",
       "legs           0.673825  0.463215  \n",
       "block          0.416015  0.907405  \n",
       "reused_count   0.450189  0.693629  \n",
       "longitude     -0.089519  0.025540  \n",
       "latitude       0.090782 -0.023875  \n",
       "class          1.000000  0.433912  \n",
       "year           0.433912  1.000000  "
      ]
     },
     "execution_count": 13,
     "metadata": {},
     "output_type": "execute_result"
    }
   ],
   "source": [
    "df.corr(method=\"pearson\", numeric_only=True)"
   ]
  },
  {
   "cell_type": "code",
   "execution_count": 14,
   "id": "7022bed0",
   "metadata": {},
   "outputs": [
    {
     "data": {
      "application/vnd.microsoft.datawrangler.viewer.v0+json": {
       "columns": [
        {
         "name": "index",
         "rawType": "object",
         "type": "string"
        },
        {
         "name": "payload_mass",
         "rawType": "float64",
         "type": "float"
        },
        {
         "name": "grid_fins",
         "rawType": "float64",
         "type": "float"
        },
        {
         "name": "legs",
         "rawType": "float64",
         "type": "float"
        },
        {
         "name": "block",
         "rawType": "float64",
         "type": "float"
        },
        {
         "name": "class",
         "rawType": "float64",
         "type": "float"
        },
        {
         "name": "year",
         "rawType": "float64",
         "type": "float"
        }
       ],
       "ref": "546d8dde-524b-4e14-bd8e-0e78c270582a",
       "rows": [
        [
         "payload_mass",
         "1.0",
         "0.2578701688785073",
         "0.19262419916815787",
         "0.5176059510440931",
         "0.20001428287194772",
         "0.5661100140001454"
        ],
        [
         "grid_fins",
         "0.2578701688785073",
         "1.0",
         "0.9023015273021358",
         "0.43802256263085276",
         "0.6425396041156862",
         "0.533010750935311"
        ],
        [
         "legs",
         "0.19262419916815787",
         "0.9023015273021358",
         "1.0",
         "0.36899428226935127",
         "0.6738249250744544",
         "0.46321456412283146"
        ],
        [
         "block",
         "0.5176059510440931",
         "0.43802256263085276",
         "0.36899428226935127",
         "1.0",
         "0.41601494284590523",
         "0.9074045037187315"
        ],
        [
         "class",
         "0.20001428287194772",
         "0.6425396041156862",
         "0.6738249250744544",
         "0.41601494284590523",
         "1.0",
         "0.4339119671072571"
        ],
        [
         "year",
         "0.5661100140001454",
         "0.533010750935311",
         "0.46321456412283146",
         "0.9074045037187315",
         "0.4339119671072571",
         "1.0"
        ]
       ],
       "shape": {
        "columns": 6,
        "rows": 6
       }
      },
      "text/html": [
       "<div>\n",
       "<style scoped>\n",
       "    .dataframe tbody tr th:only-of-type {\n",
       "        vertical-align: middle;\n",
       "    }\n",
       "\n",
       "    .dataframe tbody tr th {\n",
       "        vertical-align: top;\n",
       "    }\n",
       "\n",
       "    .dataframe thead th {\n",
       "        text-align: right;\n",
       "    }\n",
       "</style>\n",
       "<table border=\"1\" class=\"dataframe\">\n",
       "  <thead>\n",
       "    <tr style=\"text-align: right;\">\n",
       "      <th></th>\n",
       "      <th>payload_mass</th>\n",
       "      <th>grid_fins</th>\n",
       "      <th>legs</th>\n",
       "      <th>block</th>\n",
       "      <th>class</th>\n",
       "      <th>year</th>\n",
       "    </tr>\n",
       "  </thead>\n",
       "  <tbody>\n",
       "    <tr>\n",
       "      <th>payload_mass</th>\n",
       "      <td>1.000000</td>\n",
       "      <td>0.257870</td>\n",
       "      <td>0.192624</td>\n",
       "      <td>0.517606</td>\n",
       "      <td>0.200014</td>\n",
       "      <td>0.566110</td>\n",
       "    </tr>\n",
       "    <tr>\n",
       "      <th>grid_fins</th>\n",
       "      <td>0.257870</td>\n",
       "      <td>1.000000</td>\n",
       "      <td>0.902302</td>\n",
       "      <td>0.438023</td>\n",
       "      <td>0.642540</td>\n",
       "      <td>0.533011</td>\n",
       "    </tr>\n",
       "    <tr>\n",
       "      <th>legs</th>\n",
       "      <td>0.192624</td>\n",
       "      <td>0.902302</td>\n",
       "      <td>1.000000</td>\n",
       "      <td>0.368994</td>\n",
       "      <td>0.673825</td>\n",
       "      <td>0.463215</td>\n",
       "    </tr>\n",
       "    <tr>\n",
       "      <th>block</th>\n",
       "      <td>0.517606</td>\n",
       "      <td>0.438023</td>\n",
       "      <td>0.368994</td>\n",
       "      <td>1.000000</td>\n",
       "      <td>0.416015</td>\n",
       "      <td>0.907405</td>\n",
       "    </tr>\n",
       "    <tr>\n",
       "      <th>class</th>\n",
       "      <td>0.200014</td>\n",
       "      <td>0.642540</td>\n",
       "      <td>0.673825</td>\n",
       "      <td>0.416015</td>\n",
       "      <td>1.000000</td>\n",
       "      <td>0.433912</td>\n",
       "    </tr>\n",
       "    <tr>\n",
       "      <th>year</th>\n",
       "      <td>0.566110</td>\n",
       "      <td>0.533011</td>\n",
       "      <td>0.463215</td>\n",
       "      <td>0.907405</td>\n",
       "      <td>0.433912</td>\n",
       "      <td>1.000000</td>\n",
       "    </tr>\n",
       "  </tbody>\n",
       "</table>\n",
       "</div>"
      ],
      "text/plain": [
       "              payload_mass  grid_fins      legs     block     class      year\n",
       "payload_mass      1.000000   0.257870  0.192624  0.517606  0.200014  0.566110\n",
       "grid_fins         0.257870   1.000000  0.902302  0.438023  0.642540  0.533011\n",
       "legs              0.192624   0.902302  1.000000  0.368994  0.673825  0.463215\n",
       "block             0.517606   0.438023  0.368994  1.000000  0.416015  0.907405\n",
       "class             0.200014   0.642540  0.673825  0.416015  1.000000  0.433912\n",
       "year              0.566110   0.533011  0.463215  0.907405  0.433912  1.000000"
      ]
     },
     "execution_count": 14,
     "metadata": {},
     "output_type": "execute_result"
    }
   ],
   "source": [
    "df[\n",
    "    [\n",
    "        \"payload_mass\",\n",
    "        \"grid_fins\",\n",
    "        \"legs\",\n",
    "        \"block\",\n",
    "        \"class\",\n",
    "        \"year\",\n",
    "    ]\n",
    "].corr(method=\"pearson\")\n",
    "# block - year: 0.91\n",
    "# legs - grid_fins: 0.90"
   ]
  },
  {
   "cell_type": "markdown",
   "id": "6c0dd8fd",
   "metadata": {},
   "source": [
    "### dummy variables to categorical columns\n"
   ]
  },
  {
   "cell_type": "code",
   "execution_count": 15,
   "id": "1513361a",
   "metadata": {},
   "outputs": [
    {
     "data": {
      "application/vnd.microsoft.datawrangler.viewer.v0+json": {
       "columns": [
        {
         "name": "index",
         "rawType": "int64",
         "type": "integer"
        },
        {
         "name": "flight_number",
         "rawType": "int64",
         "type": "integer"
        },
        {
         "name": "payload_mass",
         "rawType": "float64",
         "type": "float"
        },
        {
         "name": "orbit",
         "rawType": "object",
         "type": "string"
        },
        {
         "name": "launch_site",
         "rawType": "object",
         "type": "string"
        },
        {
         "name": "flights",
         "rawType": "int64",
         "type": "integer"
        },
        {
         "name": "grid_fins",
         "rawType": "bool",
         "type": "boolean"
        },
        {
         "name": "reused",
         "rawType": "bool",
         "type": "boolean"
        },
        {
         "name": "legs",
         "rawType": "bool",
         "type": "boolean"
        },
        {
         "name": "landing_pad",
         "rawType": "object",
         "type": "unknown"
        },
        {
         "name": "block",
         "rawType": "float64",
         "type": "float"
        },
        {
         "name": "reused_count",
         "rawType": "int64",
         "type": "integer"
        },
        {
         "name": "serial",
         "rawType": "object",
         "type": "string"
        }
       ],
       "ref": "52d19e4f-b867-43df-a0c8-5d62398397c5",
       "rows": [
        [
         "0",
         "6",
         "6123.547647058824",
         "LEO",
         "CCSFS SLC 40",
         "1",
         "False",
         "False",
         "False",
         null,
         "1.0",
         "0",
         "B0003"
        ],
        [
         "1",
         "8",
         "525.0",
         "LEO",
         "CCSFS SLC 40",
         "1",
         "False",
         "False",
         "False",
         null,
         "1.0",
         "0",
         "B0005"
        ],
        [
         "2",
         "10",
         "677.0",
         "ISS",
         "CCSFS SLC 40",
         "1",
         "False",
         "False",
         "False",
         null,
         "1.0",
         "0",
         "B0007"
        ],
        [
         "3",
         "11",
         "500.0",
         "PO",
         "VAFB SLC 4E",
         "1",
         "False",
         "False",
         "False",
         null,
         "1.0",
         "0",
         "B1003"
        ],
        [
         "4",
         "12",
         "3170.0",
         "GTO",
         "CCSFS SLC 40",
         "1",
         "False",
         "False",
         "False",
         null,
         "1.0",
         "0",
         "B1004"
        ]
       ],
       "shape": {
        "columns": 12,
        "rows": 5
       }
      },
      "text/html": [
       "<div>\n",
       "<style scoped>\n",
       "    .dataframe tbody tr th:only-of-type {\n",
       "        vertical-align: middle;\n",
       "    }\n",
       "\n",
       "    .dataframe tbody tr th {\n",
       "        vertical-align: top;\n",
       "    }\n",
       "\n",
       "    .dataframe thead th {\n",
       "        text-align: right;\n",
       "    }\n",
       "</style>\n",
       "<table border=\"1\" class=\"dataframe\">\n",
       "  <thead>\n",
       "    <tr style=\"text-align: right;\">\n",
       "      <th></th>\n",
       "      <th>flight_number</th>\n",
       "      <th>payload_mass</th>\n",
       "      <th>orbit</th>\n",
       "      <th>launch_site</th>\n",
       "      <th>flights</th>\n",
       "      <th>grid_fins</th>\n",
       "      <th>reused</th>\n",
       "      <th>legs</th>\n",
       "      <th>landing_pad</th>\n",
       "      <th>block</th>\n",
       "      <th>reused_count</th>\n",
       "      <th>serial</th>\n",
       "    </tr>\n",
       "  </thead>\n",
       "  <tbody>\n",
       "    <tr>\n",
       "      <th>0</th>\n",
       "      <td>6</td>\n",
       "      <td>6123.547647</td>\n",
       "      <td>LEO</td>\n",
       "      <td>CCSFS SLC 40</td>\n",
       "      <td>1</td>\n",
       "      <td>False</td>\n",
       "      <td>False</td>\n",
       "      <td>False</td>\n",
       "      <td>NaN</td>\n",
       "      <td>1.0</td>\n",
       "      <td>0</td>\n",
       "      <td>B0003</td>\n",
       "    </tr>\n",
       "    <tr>\n",
       "      <th>1</th>\n",
       "      <td>8</td>\n",
       "      <td>525.000000</td>\n",
       "      <td>LEO</td>\n",
       "      <td>CCSFS SLC 40</td>\n",
       "      <td>1</td>\n",
       "      <td>False</td>\n",
       "      <td>False</td>\n",
       "      <td>False</td>\n",
       "      <td>NaN</td>\n",
       "      <td>1.0</td>\n",
       "      <td>0</td>\n",
       "      <td>B0005</td>\n",
       "    </tr>\n",
       "    <tr>\n",
       "      <th>2</th>\n",
       "      <td>10</td>\n",
       "      <td>677.000000</td>\n",
       "      <td>ISS</td>\n",
       "      <td>CCSFS SLC 40</td>\n",
       "      <td>1</td>\n",
       "      <td>False</td>\n",
       "      <td>False</td>\n",
       "      <td>False</td>\n",
       "      <td>NaN</td>\n",
       "      <td>1.0</td>\n",
       "      <td>0</td>\n",
       "      <td>B0007</td>\n",
       "    </tr>\n",
       "    <tr>\n",
       "      <th>3</th>\n",
       "      <td>11</td>\n",
       "      <td>500.000000</td>\n",
       "      <td>PO</td>\n",
       "      <td>VAFB SLC 4E</td>\n",
       "      <td>1</td>\n",
       "      <td>False</td>\n",
       "      <td>False</td>\n",
       "      <td>False</td>\n",
       "      <td>NaN</td>\n",
       "      <td>1.0</td>\n",
       "      <td>0</td>\n",
       "      <td>B1003</td>\n",
       "    </tr>\n",
       "    <tr>\n",
       "      <th>4</th>\n",
       "      <td>12</td>\n",
       "      <td>3170.000000</td>\n",
       "      <td>GTO</td>\n",
       "      <td>CCSFS SLC 40</td>\n",
       "      <td>1</td>\n",
       "      <td>False</td>\n",
       "      <td>False</td>\n",
       "      <td>False</td>\n",
       "      <td>NaN</td>\n",
       "      <td>1.0</td>\n",
       "      <td>0</td>\n",
       "      <td>B1004</td>\n",
       "    </tr>\n",
       "  </tbody>\n",
       "</table>\n",
       "</div>"
      ],
      "text/plain": [
       "   flight_number  payload_mass orbit   launch_site  flights  grid_fins  \\\n",
       "0              6   6123.547647   LEO  CCSFS SLC 40        1      False   \n",
       "1              8    525.000000   LEO  CCSFS SLC 40        1      False   \n",
       "2             10    677.000000   ISS  CCSFS SLC 40        1      False   \n",
       "3             11    500.000000    PO   VAFB SLC 4E        1      False   \n",
       "4             12   3170.000000   GTO  CCSFS SLC 40        1      False   \n",
       "\n",
       "   reused   legs landing_pad  block  reused_count serial  \n",
       "0   False  False         NaN    1.0             0  B0003  \n",
       "1   False  False         NaN    1.0             0  B0005  \n",
       "2   False  False         NaN    1.0             0  B0007  \n",
       "3   False  False         NaN    1.0             0  B1003  \n",
       "4   False  False         NaN    1.0             0  B1004  "
      ]
     },
     "execution_count": 15,
     "metadata": {},
     "output_type": "execute_result"
    }
   ],
   "source": [
    "features = df[\n",
    "    [\n",
    "        \"flight_number\",\n",
    "        \"payload_mass\",\n",
    "        \"orbit\",\n",
    "        \"launch_site\",\n",
    "        \"flights\",\n",
    "        \"grid_fins\",\n",
    "        \"reused\",\n",
    "        \"legs\",\n",
    "        \"landing_pad\",\n",
    "        \"block\",\n",
    "        \"reused_count\",\n",
    "        \"serial\",\n",
    "    ]\n",
    "]\n",
    "features.head()"
   ]
  },
  {
   "cell_type": "code",
   "execution_count": 16,
   "id": "1742c2ad",
   "metadata": {},
   "outputs": [
    {
     "data": {
      "application/vnd.microsoft.datawrangler.viewer.v0+json": {
       "columns": [
        {
         "name": "index",
         "rawType": "object",
         "type": "string"
        },
        {
         "name": "0",
         "rawType": "object",
         "type": "unknown"
        }
       ],
       "ref": "770156f3-25cd-48a0-b55d-cb650d08b53c",
       "rows": [
        [
         "flight_number",
         "int64"
        ],
        [
         "payload_mass",
         "float64"
        ],
        [
         "flights",
         "int64"
        ],
        [
         "grid_fins",
         "bool"
        ],
        [
         "reused",
         "bool"
        ],
        [
         "legs",
         "bool"
        ],
        [
         "block",
         "float64"
        ],
        [
         "reused_count",
         "int64"
        ],
        [
         "orbit_ES-L1",
         "bool"
        ],
        [
         "orbit_GEO",
         "bool"
        ],
        [
         "orbit_GTO",
         "bool"
        ],
        [
         "orbit_HEO",
         "bool"
        ],
        [
         "orbit_ISS",
         "bool"
        ],
        [
         "orbit_LEO",
         "bool"
        ],
        [
         "orbit_MEO",
         "bool"
        ],
        [
         "orbit_PO",
         "bool"
        ],
        [
         "orbit_SO",
         "bool"
        ],
        [
         "orbit_SSO",
         "bool"
        ],
        [
         "orbit_VLEO",
         "bool"
        ],
        [
         "launch_site_CCSFS SLC 40",
         "bool"
        ],
        [
         "launch_site_KSC LC 39A",
         "bool"
        ],
        [
         "launch_site_VAFB SLC 4E",
         "bool"
        ],
        [
         "landing_pad_5e9e3032383ecb267a34e7c7",
         "bool"
        ],
        [
         "landing_pad_5e9e3032383ecb554034e7c9",
         "bool"
        ],
        [
         "landing_pad_5e9e3032383ecb6bb234e7ca",
         "bool"
        ],
        [
         "landing_pad_5e9e3032383ecb761634e7cb",
         "bool"
        ],
        [
         "landing_pad_5e9e3033383ecbb9e534e7cc",
         "bool"
        ],
        [
         "serial_B0003",
         "bool"
        ],
        [
         "serial_B0005",
         "bool"
        ],
        [
         "serial_B0007",
         "bool"
        ],
        [
         "serial_B1003",
         "bool"
        ],
        [
         "serial_B1004",
         "bool"
        ],
        [
         "serial_B1005",
         "bool"
        ],
        [
         "serial_B1006",
         "bool"
        ],
        [
         "serial_B1007",
         "bool"
        ],
        [
         "serial_B1008",
         "bool"
        ],
        [
         "serial_B1010",
         "bool"
        ],
        [
         "serial_B1011",
         "bool"
        ],
        [
         "serial_B1012",
         "bool"
        ],
        [
         "serial_B1013",
         "bool"
        ],
        [
         "serial_B1015",
         "bool"
        ],
        [
         "serial_B1016",
         "bool"
        ],
        [
         "serial_B1017",
         "bool"
        ],
        [
         "serial_B1018",
         "bool"
        ],
        [
         "serial_B1019",
         "bool"
        ],
        [
         "serial_B1020",
         "bool"
        ],
        [
         "serial_B1021",
         "bool"
        ],
        [
         "serial_B1022",
         "bool"
        ],
        [
         "serial_B1023",
         "bool"
        ],
        [
         "serial_B1025",
         "bool"
        ]
       ],
       "shape": {
        "columns": 1,
        "rows": 80
       }
      },
      "text/plain": [
       "flight_number      int64\n",
       "payload_mass     float64\n",
       "flights            int64\n",
       "grid_fins           bool\n",
       "reused              bool\n",
       "                  ...   \n",
       "serial_B1056        bool\n",
       "serial_B1058        bool\n",
       "serial_B1059        bool\n",
       "serial_B1060        bool\n",
       "serial_B1062        bool\n",
       "Length: 80, dtype: object"
      ]
     },
     "execution_count": 16,
     "metadata": {},
     "output_type": "execute_result"
    }
   ],
   "source": [
    "features_one_hot = pd.get_dummies(\n",
    "    data=features, columns=[\"orbit\", \"launch_site\", \"landing_pad\", \"serial\"]\n",
    ")\n",
    "features_one_hot.dtypes"
   ]
  },
  {
   "cell_type": "code",
   "execution_count": 17,
   "id": "f0ea49c5",
   "metadata": {},
   "outputs": [
    {
     "data": {
      "application/vnd.microsoft.datawrangler.viewer.v0+json": {
       "columns": [
        {
         "name": "index",
         "rawType": "object",
         "type": "string"
        },
        {
         "name": "0",
         "rawType": "object",
         "type": "unknown"
        }
       ],
       "ref": "028294a4-8019-4071-9726-b6348e0768dc",
       "rows": [
        [
         "flight_number",
         "float64"
        ],
        [
         "payload_mass",
         "float64"
        ],
        [
         "flights",
         "float64"
        ],
        [
         "grid_fins",
         "float64"
        ],
        [
         "reused",
         "float64"
        ],
        [
         "legs",
         "float64"
        ],
        [
         "block",
         "float64"
        ],
        [
         "reused_count",
         "float64"
        ],
        [
         "orbit_ES-L1",
         "float64"
        ],
        [
         "orbit_GEO",
         "float64"
        ],
        [
         "orbit_GTO",
         "float64"
        ],
        [
         "orbit_HEO",
         "float64"
        ],
        [
         "orbit_ISS",
         "float64"
        ],
        [
         "orbit_LEO",
         "float64"
        ],
        [
         "orbit_MEO",
         "float64"
        ],
        [
         "orbit_PO",
         "float64"
        ],
        [
         "orbit_SO",
         "float64"
        ],
        [
         "orbit_SSO",
         "float64"
        ],
        [
         "orbit_VLEO",
         "float64"
        ],
        [
         "launch_site_CCSFS SLC 40",
         "float64"
        ],
        [
         "launch_site_KSC LC 39A",
         "float64"
        ],
        [
         "launch_site_VAFB SLC 4E",
         "float64"
        ],
        [
         "landing_pad_5e9e3032383ecb267a34e7c7",
         "float64"
        ],
        [
         "landing_pad_5e9e3032383ecb554034e7c9",
         "float64"
        ],
        [
         "landing_pad_5e9e3032383ecb6bb234e7ca",
         "float64"
        ],
        [
         "landing_pad_5e9e3032383ecb761634e7cb",
         "float64"
        ],
        [
         "landing_pad_5e9e3033383ecbb9e534e7cc",
         "float64"
        ],
        [
         "serial_B0003",
         "float64"
        ],
        [
         "serial_B0005",
         "float64"
        ],
        [
         "serial_B0007",
         "float64"
        ],
        [
         "serial_B1003",
         "float64"
        ],
        [
         "serial_B1004",
         "float64"
        ],
        [
         "serial_B1005",
         "float64"
        ],
        [
         "serial_B1006",
         "float64"
        ],
        [
         "serial_B1007",
         "float64"
        ],
        [
         "serial_B1008",
         "float64"
        ],
        [
         "serial_B1010",
         "float64"
        ],
        [
         "serial_B1011",
         "float64"
        ],
        [
         "serial_B1012",
         "float64"
        ],
        [
         "serial_B1013",
         "float64"
        ],
        [
         "serial_B1015",
         "float64"
        ],
        [
         "serial_B1016",
         "float64"
        ],
        [
         "serial_B1017",
         "float64"
        ],
        [
         "serial_B1018",
         "float64"
        ],
        [
         "serial_B1019",
         "float64"
        ],
        [
         "serial_B1020",
         "float64"
        ],
        [
         "serial_B1021",
         "float64"
        ],
        [
         "serial_B1022",
         "float64"
        ],
        [
         "serial_B1023",
         "float64"
        ],
        [
         "serial_B1025",
         "float64"
        ]
       ],
       "shape": {
        "columns": 1,
        "rows": 80
       }
      },
      "text/plain": [
       "flight_number    float64\n",
       "payload_mass     float64\n",
       "flights          float64\n",
       "grid_fins        float64\n",
       "reused           float64\n",
       "                  ...   \n",
       "serial_B1056     float64\n",
       "serial_B1058     float64\n",
       "serial_B1059     float64\n",
       "serial_B1060     float64\n",
       "serial_B1062     float64\n",
       "Length: 80, dtype: object"
      ]
     },
     "execution_count": 17,
     "metadata": {},
     "output_type": "execute_result"
    }
   ],
   "source": [
    "for col in features_one_hot.columns:\n",
    "    features_one_hot[col] = features_one_hot[col].astype(\"float\")\n",
    "features_one_hot.dtypes"
   ]
  },
  {
   "cell_type": "code",
   "execution_count": 18,
   "id": "df0d28d9",
   "metadata": {},
   "outputs": [],
   "source": [
    "features_one_hot.to_csv(\n",
    "    OUTPUT_FILE, encoding=\"utf-8\", mode=\"w\", header=True, index=False\n",
    ")"
   ]
  },
  {
   "cell_type": "markdown",
   "id": "6b72a9d2",
   "metadata": {},
   "source": [
    "## Find the variables with best correlation\n",
    "\n",
    "Removed the variables related with the outcome of the launch.\n"
   ]
  },
  {
   "cell_type": "code",
   "execution_count": 19,
   "id": "b66049af",
   "metadata": {},
   "outputs": [
    {
     "data": {
      "application/vnd.microsoft.datawrangler.viewer.v0+json": {
       "columns": [
        {
         "name": "index",
         "rawType": "object",
         "type": "string"
        },
        {
         "name": "0",
         "rawType": "object",
         "type": "unknown"
        }
       ],
       "ref": "0e108aac-59f7-4aef-b9f8-094f873aa771",
       "rows": [
        [
         "payload_mass",
         "float64"
        ],
        [
         "grid_fins",
         "bool"
        ],
        [
         "reused",
         "bool"
        ],
        [
         "legs",
         "bool"
        ],
        [
         "reused_count",
         "int64"
        ],
        [
         "year",
         "int64"
        ],
        [
         "orbit_ES-L1",
         "bool"
        ],
        [
         "orbit_GEO",
         "bool"
        ],
        [
         "orbit_GTO",
         "bool"
        ],
        [
         "orbit_HEO",
         "bool"
        ],
        [
         "orbit_ISS",
         "bool"
        ],
        [
         "orbit_LEO",
         "bool"
        ],
        [
         "orbit_MEO",
         "bool"
        ],
        [
         "orbit_PO",
         "bool"
        ],
        [
         "orbit_SO",
         "bool"
        ],
        [
         "orbit_SSO",
         "bool"
        ],
        [
         "orbit_VLEO",
         "bool"
        ],
        [
         "launch_site_CCSFS SLC 40",
         "bool"
        ],
        [
         "launch_site_KSC LC 39A",
         "bool"
        ],
        [
         "launch_site_VAFB SLC 4E",
         "bool"
        ]
       ],
       "shape": {
        "columns": 1,
        "rows": 20
       }
      },
      "text/plain": [
       "payload_mass                float64\n",
       "grid_fins                      bool\n",
       "reused                         bool\n",
       "legs                           bool\n",
       "reused_count                  int64\n",
       "year                          int64\n",
       "orbit_ES-L1                    bool\n",
       "orbit_GEO                      bool\n",
       "orbit_GTO                      bool\n",
       "orbit_HEO                      bool\n",
       "orbit_ISS                      bool\n",
       "orbit_LEO                      bool\n",
       "orbit_MEO                      bool\n",
       "orbit_PO                       bool\n",
       "orbit_SO                       bool\n",
       "orbit_SSO                      bool\n",
       "orbit_VLEO                     bool\n",
       "launch_site_CCSFS SLC 40       bool\n",
       "launch_site_KSC LC 39A         bool\n",
       "launch_site_VAFB SLC 4E        bool\n",
       "dtype: object"
      ]
     },
     "execution_count": 19,
     "metadata": {},
     "output_type": "execute_result"
    }
   ],
   "source": [
    "temp_df = df[\n",
    "    [\n",
    "        \"payload_mass\",\n",
    "        \"orbit\",\n",
    "        \"launch_site\",\n",
    "        \"grid_fins\",\n",
    "        \"reused\",\n",
    "        \"legs\",\n",
    "        \"reused_count\",\n",
    "        \"year\",\n",
    "    ]\n",
    "]\n",
    "\n",
    "features = temp_df\n",
    "\n",
    "features_one_hot = pd.get_dummies(\n",
    "    data=features,\n",
    "    columns=[\"orbit\", \"launch_site\"],\n",
    ")\n",
    "features_one_hot.dtypes\n"
   ]
  },
  {
   "cell_type": "code",
   "execution_count": 20,
   "id": "ec7db777",
   "metadata": {},
   "outputs": [],
   "source": [
    "correlation_matrix = features_one_hot.corr(method=\"pearson\")\n"
   ]
  },
  {
   "cell_type": "code",
   "execution_count": 21,
   "id": "f15ed988",
   "metadata": {},
   "outputs": [
    {
     "data": {
      "image/png": "[encoded data removed]",
      "text/plain": [
       "<Figure size 1000x600 with 2 Axes>"
      ]
     },
     "metadata": {},
     "output_type": "display_data"
    }
   ],
   "source": [
    "# Plot the correlation matrix as a heatmap\n",
    "plt.figure(figsize=(10, 6))\n",
    "sns.heatmap(\n",
    "    correlation_matrix,\n",
    "    annot=True,\n",
    "    cmap=\"coolwarm\",\n",
    "    fmt=\".2f\",\n",
    "    linewidths=0.5,\n",
    "    annot_kws={\"fontsize\": 8},\n",
    ")\n",
    "\n",
    "plt.title(\"Correlation Matrix Heatmap\")\n",
    "plt.xticks(fontsize=8)\n",
    "plt.yticks(fontsize=8)\n",
    "plt.show()\n",
    "\n",
    "# we can see that the following variables show a higher correlation:\n",
    "#   reused, legs, reused_count, year, orbit (VLEO), launch_site (KSC LC 39A, CCSFS SLC 40, VAFB SLC 4E)"
   ]
  },
  {
   "cell_type": "code",
   "execution_count": 22,
   "id": "0b4756b0",
   "metadata": {},
   "outputs": [
    {
     "data": {
      "application/vnd.microsoft.datawrangler.viewer.v0+json": {
       "columns": [
        {
         "name": "index",
         "rawType": "object",
         "type": "string"
        },
        {
         "name": "reused",
         "rawType": "float64",
         "type": "float"
        },
        {
         "name": "legs",
         "rawType": "float64",
         "type": "float"
        },
        {
         "name": "reused_count",
         "rawType": "float64",
         "type": "float"
        },
        {
         "name": "year",
         "rawType": "float64",
         "type": "float"
        },
        {
         "name": "orbit_VLEO",
         "rawType": "float64",
         "type": "float"
        },
        {
         "name": "launch_site_KSC LC 39A",
         "rawType": "float64",
         "type": "float"
        },
        {
         "name": "launch_site_CCSFS SLC 40",
         "rawType": "float64",
         "type": "float"
        },
        {
         "name": "launch_site_VAFB SLC 4E",
         "rawType": "float64",
         "type": "float"
        }
       ],
       "ref": "c58c3d15-1c49-43a0-9632-b12559f3ca66",
       "rows": [
        [
         "reused",
         "1.0",
         "0.15555205376571216",
         "0.45483364518288727",
         "0.5969021113463745",
         "0.51368193689304",
         "0.05021042040123516",
         "-0.07463006819694734",
         "0.04211106025716882"
        ],
        [
         "legs",
         "0.15555205376571216",
         "1.0",
         "0.3432753917625735",
         "0.46321456412283146",
         "0.22202651789344297",
         "0.040827822872851034",
         "-0.07756908547966802",
         "0.05765696649502174"
        ],
        [
         "reused_count",
         "0.45483364518288727",
         "0.3432753917625735",
         "1.0",
         "0.6936292318972312",
         "0.5906085711246905",
         "0.14780055426050812",
         "-0.11141222395644579",
         "-0.026185175687404333"
        ],
        [
         "year",
         "0.5969021113463745",
         "0.46321456412283146",
         "0.6936292318972312",
         "1.0",
         "0.4919460807911329",
         "0.20149048858815785",
         "-0.159093583494544",
         "-0.02569895508282265"
        ],
        [
         "orbit_ES-L1",
         "-0.088566182169751",
         "0.0548343402822442",
         "-0.08103992589769474",
         "-0.11545692320140327",
         "-0.04549484800017948",
         "-0.0602923040689317",
         "0.08455857861606321",
         "-0.043554327282938385"
        ],
        [
         "orbit_GEO",
         "0.12686507175667022",
         "0.05483434028224429",
         "0.24933189744830805",
         "0.1284661539846493",
         "-0.04549484800017947",
         "-0.0602923040689317",
         "0.08455857861606328",
         "-0.043554327282938406"
        ],
        [
         "orbit_GTO",
         "-0.1034834384313585",
         "-0.25547760335763364",
         "-0.3261109305727048",
         "-0.19974630917127942",
         "-0.2809757434745082",
         "0.13540534173325913",
         "0.07460470969529906",
         "-0.2689911061975062"
        ],
        [
         "orbit_HEO",
         "-0.08856618216975091",
         "0.05483434028224424",
         "-0.05562670871723295",
         "0.030896923110237614",
         "-0.045494848000179465",
         "-0.060292304068931685",
         "0.08455857861606324",
         "-0.04355432728293839"
        ],
        [
         "orbit_ISS",
         "-0.1939879542461492",
         "0.09226766767354944",
         "-0.11315870507658027",
         "-0.10518721316839176",
         "-0.23677853202210825",
         "-0.008150443788464228",
         "0.17064568079680997",
         "-0.22667906654450057"
        ],
        [
         "orbit_LEO",
         "-0.24264586850795178",
         "-0.05308891100608948",
         "-0.19218684513801218",
         "-0.35450614157210325",
         "-0.12464279971425848",
         "0.027888135829749194",
         "0.061462457858424455",
         "-0.11932633102093537"
        ],
        [
         "orbit_MEO",
         "-0.1551543400158838",
         "-0.05561445829248337",
         "0.15483084372870587",
         "0.16807752609917984",
         "-0.07969998189672046",
         "-0.10562285080689722",
         "0.1481336344916698",
         "-0.07630048782579373"
        ],
        [
         "orbit_PO",
         "-0.05269118775400034",
         "-0.009075546168622236",
         "-0.09501116969715055",
         "-0.07329638921286567",
         "-0.14306584587982543",
         "-0.1895988196648403",
         "-0.41785544701867205",
         "0.8112457445926343"
        ],
        [
         "orbit_SO",
         "0.12686507175667017",
         "-0.20490727158101793",
         "-0.004800274356309436",
         "0.1284661539846404",
         "-0.04549484800017946",
         "0.1863580307585161",
         "-0.13287776639667073",
         "-0.043554327282938406"
        ],
        [
         "orbit_SSO",
         "0.1916923523373483",
         "0.1254651659655138",
         "0.10531137557250933",
         "0.11534369707469923",
         "-0.10409569305544537",
         "-0.13795340470068906",
         "-0.20453229734442918",
         "0.45228325829795685"
        ],
        [
         "orbit_VLEO",
         "0.51368193689304",
         "0.22202651789344297",
         "0.5906085711246905",
         "0.4919460807911329",
         "1.0",
         "0.11255161566827022",
         "0.027949485031115467",
         "-0.17635327745437426"
        ],
        [
         "launch_site_CCSFS SLC 40",
         "-0.07463006819694734",
         "-0.07756908547966802",
         "-0.11141222395644579",
         "-0.159093583494544",
         "0.027949485031115467",
         "-0.7130240959073808",
         "1.0",
         "-0.5150787536377125"
        ],
        [
         "launch_site_KSC LC 39A",
         "0.05021042040123516",
         "0.040827822872851034",
         "0.14780055426050812",
         "0.20149048858815785",
         "0.11255161566827022",
         "1.0",
         "-0.7130240959073808",
         "-0.23371317622140134"
        ],
        [
         "launch_site_VAFB SLC 4E",
         "0.04211106025716882",
         "0.05765696649502174",
         "-0.026185175687404333",
         "-0.02569895508282265",
         "-0.17635327745437426",
         "-0.23371317622140134",
         "-0.5150787536377125",
         "1.0"
        ]
       ],
       "shape": {
        "columns": 8,
        "rows": 18
       }
      },
      "text/html": [
       "<div>\n",
       "<style scoped>\n",
       "    .dataframe tbody tr th:only-of-type {\n",
       "        vertical-align: middle;\n",
       "    }\n",
       "\n",
       "    .dataframe tbody tr th {\n",
       "        vertical-align: top;\n",
       "    }\n",
       "\n",
       "    .dataframe thead th {\n",
       "        text-align: right;\n",
       "    }\n",
       "</style>\n",
       "<table border=\"1\" class=\"dataframe\">\n",
       "  <thead>\n",
       "    <tr style=\"text-align: right;\">\n",
       "      <th></th>\n",
       "      <th>reused</th>\n",
       "      <th>legs</th>\n",
       "      <th>reused_count</th>\n",
       "      <th>year</th>\n",
       "      <th>orbit_VLEO</th>\n",
       "      <th>launch_site_KSC LC 39A</th>\n",
       "      <th>launch_site_CCSFS SLC 40</th>\n",
       "      <th>launch_site_VAFB SLC 4E</th>\n",
       "    </tr>\n",
       "  </thead>\n",
       "  <tbody>\n",
       "    <tr>\n",
       "      <th>reused</th>\n",
       "      <td>1.000000</td>\n",
       "      <td>0.155552</td>\n",
       "      <td>0.454834</td>\n",
       "      <td>0.596902</td>\n",
       "      <td>0.513682</td>\n",
       "      <td>0.050210</td>\n",
       "      <td>-0.074630</td>\n",
       "      <td>0.042111</td>\n",
       "    </tr>\n",
       "    <tr>\n",
       "      <th>legs</th>\n",
       "      <td>0.155552</td>\n",
       "      <td>1.000000</td>\n",
       "      <td>0.343275</td>\n",
       "      <td>0.463215</td>\n",
       "      <td>0.222027</td>\n",
       "      <td>0.040828</td>\n",
       "      <td>-0.077569</td>\n",
       "      <td>0.057657</td>\n",
       "    </tr>\n",
       "    <tr>\n",
       "      <th>reused_count</th>\n",
       "      <td>0.454834</td>\n",
       "      <td>0.343275</td>\n",
       "      <td>1.000000</td>\n",
       "      <td>0.693629</td>\n",
       "      <td>0.590609</td>\n",
       "      <td>0.147801</td>\n",
       "      <td>-0.111412</td>\n",
       "      <td>-0.026185</td>\n",
       "    </tr>\n",
       "    <tr>\n",
       "      <th>year</th>\n",
       "      <td>0.596902</td>\n",
       "      <td>0.463215</td>\n",
       "      <td>0.693629</td>\n",
       "      <td>1.000000</td>\n",
       "      <td>0.491946</td>\n",
       "      <td>0.201490</td>\n",
       "      <td>-0.159094</td>\n",
       "      <td>-0.025699</td>\n",
       "    </tr>\n",
       "    <tr>\n",
       "      <th>orbit_ES-L1</th>\n",
       "      <td>-0.088566</td>\n",
       "      <td>0.054834</td>\n",
       "      <td>-0.081040</td>\n",
       "      <td>-0.115457</td>\n",
       "      <td>-0.045495</td>\n",
       "      <td>-0.060292</td>\n",
       "      <td>0.084559</td>\n",
       "      <td>-0.043554</td>\n",
       "    </tr>\n",
       "    <tr>\n",
       "      <th>orbit_GEO</th>\n",
       "      <td>0.126865</td>\n",
       "      <td>0.054834</td>\n",
       "      <td>0.249332</td>\n",
       "      <td>0.128466</td>\n",
       "      <td>-0.045495</td>\n",
       "      <td>-0.060292</td>\n",
       "      <td>0.084559</td>\n",
       "      <td>-0.043554</td>\n",
       "    </tr>\n",
       "    <tr>\n",
       "      <th>orbit_GTO</th>\n",
       "      <td>-0.103483</td>\n",
       "      <td>-0.255478</td>\n",
       "      <td>-0.326111</td>\n",
       "      <td>-0.199746</td>\n",
       "      <td>-0.280976</td>\n",
       "      <td>0.135405</td>\n",
       "      <td>0.074605</td>\n",
       "      <td>-0.268991</td>\n",
       "    </tr>\n",
       "    <tr>\n",
       "      <th>orbit_HEO</th>\n",
       "      <td>-0.088566</td>\n",
       "      <td>0.054834</td>\n",
       "      <td>-0.055627</td>\n",
       "      <td>0.030897</td>\n",
       "      <td>-0.045495</td>\n",
       "      <td>-0.060292</td>\n",
       "      <td>0.084559</td>\n",
       "      <td>-0.043554</td>\n",
       "    </tr>\n",
       "    <tr>\n",
       "      <th>orbit_ISS</th>\n",
       "      <td>-0.193988</td>\n",
       "      <td>0.092268</td>\n",
       "      <td>-0.113159</td>\n",
       "      <td>-0.105187</td>\n",
       "      <td>-0.236779</td>\n",
       "      <td>-0.008150</td>\n",
       "      <td>0.170646</td>\n",
       "      <td>-0.226679</td>\n",
       "    </tr>\n",
       "    <tr>\n",
       "      <th>orbit_LEO</th>\n",
       "      <td>-0.242646</td>\n",
       "      <td>-0.053089</td>\n",
       "      <td>-0.192187</td>\n",
       "      <td>-0.354506</td>\n",
       "      <td>-0.124643</td>\n",
       "      <td>0.027888</td>\n",
       "      <td>0.061462</td>\n",
       "      <td>-0.119326</td>\n",
       "    </tr>\n",
       "    <tr>\n",
       "      <th>orbit_MEO</th>\n",
       "      <td>-0.155154</td>\n",
       "      <td>-0.055614</td>\n",
       "      <td>0.154831</td>\n",
       "      <td>0.168078</td>\n",
       "      <td>-0.079700</td>\n",
       "      <td>-0.105623</td>\n",
       "      <td>0.148134</td>\n",
       "      <td>-0.076300</td>\n",
       "    </tr>\n",
       "    <tr>\n",
       "      <th>orbit_PO</th>\n",
       "      <td>-0.052691</td>\n",
       "      <td>-0.009076</td>\n",
       "      <td>-0.095011</td>\n",
       "      <td>-0.073296</td>\n",
       "      <td>-0.143066</td>\n",
       "      <td>-0.189599</td>\n",
       "      <td>-0.417855</td>\n",
       "      <td>0.811246</td>\n",
       "    </tr>\n",
       "    <tr>\n",
       "      <th>orbit_SO</th>\n",
       "      <td>0.126865</td>\n",
       "      <td>-0.204907</td>\n",
       "      <td>-0.004800</td>\n",
       "      <td>0.128466</td>\n",
       "      <td>-0.045495</td>\n",
       "      <td>0.186358</td>\n",
       "      <td>-0.132878</td>\n",
       "      <td>-0.043554</td>\n",
       "    </tr>\n",
       "    <tr>\n",
       "      <th>orbit_SSO</th>\n",
       "      <td>0.191692</td>\n",
       "      <td>0.125465</td>\n",
       "      <td>0.105311</td>\n",
       "      <td>0.115344</td>\n",
       "      <td>-0.104096</td>\n",
       "      <td>-0.137953</td>\n",
       "      <td>-0.204532</td>\n",
       "      <td>0.452283</td>\n",
       "    </tr>\n",
       "    <tr>\n",
       "      <th>orbit_VLEO</th>\n",
       "      <td>0.513682</td>\n",
       "      <td>0.222027</td>\n",
       "      <td>0.590609</td>\n",
       "      <td>0.491946</td>\n",
       "      <td>1.000000</td>\n",
       "      <td>0.112552</td>\n",
       "      <td>0.027949</td>\n",
       "      <td>-0.176353</td>\n",
       "    </tr>\n",
       "    <tr>\n",
       "      <th>launch_site_CCSFS SLC 40</th>\n",
       "      <td>-0.074630</td>\n",
       "      <td>-0.077569</td>\n",
       "      <td>-0.111412</td>\n",
       "      <td>-0.159094</td>\n",
       "      <td>0.027949</td>\n",
       "      <td>-0.713024</td>\n",
       "      <td>1.000000</td>\n",
       "      <td>-0.515079</td>\n",
       "    </tr>\n",
       "    <tr>\n",
       "      <th>launch_site_KSC LC 39A</th>\n",
       "      <td>0.050210</td>\n",
       "      <td>0.040828</td>\n",
       "      <td>0.147801</td>\n",
       "      <td>0.201490</td>\n",
       "      <td>0.112552</td>\n",
       "      <td>1.000000</td>\n",
       "      <td>-0.713024</td>\n",
       "      <td>-0.233713</td>\n",
       "    </tr>\n",
       "    <tr>\n",
       "      <th>launch_site_VAFB SLC 4E</th>\n",
       "      <td>0.042111</td>\n",
       "      <td>0.057657</td>\n",
       "      <td>-0.026185</td>\n",
       "      <td>-0.025699</td>\n",
       "      <td>-0.176353</td>\n",
       "      <td>-0.233713</td>\n",
       "      <td>-0.515079</td>\n",
       "      <td>1.000000</td>\n",
       "    </tr>\n",
       "  </tbody>\n",
       "</table>\n",
       "</div>"
      ],
      "text/plain": [
       "                            reused      legs  reused_count      year  \\\n",
       "reused                    1.000000  0.155552      0.454834  0.596902   \n",
       "legs                      0.155552  1.000000      0.343275  0.463215   \n",
       "reused_count              0.454834  0.343275      1.000000  0.693629   \n",
       "year                      0.596902  0.463215      0.693629  1.000000   \n",
       "orbit_ES-L1              -0.088566  0.054834     -0.081040 -0.115457   \n",
       "orbit_GEO                 0.126865  0.054834      0.249332  0.128466   \n",
       "orbit_GTO                -0.103483 -0.255478     -0.326111 -0.199746   \n",
       "orbit_HEO                -0.088566  0.054834     -0.055627  0.030897   \n",
       "orbit_ISS                -0.193988  0.092268     -0.113159 -0.105187   \n",
       "orbit_LEO                -0.242646 -0.053089     -0.192187 -0.354506   \n",
       "orbit_MEO                -0.155154 -0.055614      0.154831  0.168078   \n",
       "orbit_PO                 -0.052691 -0.009076     -0.095011 -0.073296   \n",
       "orbit_SO                  0.126865 -0.204907     -0.004800  0.128466   \n",
       "orbit_SSO                 0.191692  0.125465      0.105311  0.115344   \n",
       "orbit_VLEO                0.513682  0.222027      0.590609  0.491946   \n",
       "launch_site_CCSFS SLC 40 -0.074630 -0.077569     -0.111412 -0.159094   \n",
       "launch_site_KSC LC 39A    0.050210  0.040828      0.147801  0.201490   \n",
       "launch_site_VAFB SLC 4E   0.042111  0.057657     -0.026185 -0.025699   \n",
       "\n",
       "                          orbit_VLEO  launch_site_KSC LC 39A  \\\n",
       "reused                      0.513682                0.050210   \n",
       "legs                        0.222027                0.040828   \n",
       "reused_count                0.590609                0.147801   \n",
       "year                        0.491946                0.201490   \n",
       "orbit_ES-L1                -0.045495               -0.060292   \n",
       "orbit_GEO                  -0.045495               -0.060292   \n",
       "orbit_GTO                  -0.280976                0.135405   \n",
       "orbit_HEO                  -0.045495               -0.060292   \n",
       "orbit_ISS                  -0.236779               -0.008150   \n",
       "orbit_LEO                  -0.124643                0.027888   \n",
       "orbit_MEO                  -0.079700               -0.105623   \n",
       "orbit_PO                   -0.143066               -0.189599   \n",
       "orbit_SO                   -0.045495                0.186358   \n",
       "orbit_SSO                  -0.104096               -0.137953   \n",
       "orbit_VLEO                  1.000000                0.112552   \n",
       "launch_site_CCSFS SLC 40    0.027949               -0.713024   \n",
       "launch_site_KSC LC 39A      0.112552                1.000000   \n",
       "launch_site_VAFB SLC 4E    -0.176353               -0.233713   \n",
       "\n",
       "                          launch_site_CCSFS SLC 40  launch_site_VAFB SLC 4E  \n",
       "reused                                   -0.074630                 0.042111  \n",
       "legs                                     -0.077569                 0.057657  \n",
       "reused_count                             -0.111412                -0.026185  \n",
       "year                                     -0.159094                -0.025699  \n",
       "orbit_ES-L1                               0.084559                -0.043554  \n",
       "orbit_GEO                                 0.084559                -0.043554  \n",
       "orbit_GTO                                 0.074605                -0.268991  \n",
       "orbit_HEO                                 0.084559                -0.043554  \n",
       "orbit_ISS                                 0.170646                -0.226679  \n",
       "orbit_LEO                                 0.061462                -0.119326  \n",
       "orbit_MEO                                 0.148134                -0.076300  \n",
       "orbit_PO                                 -0.417855                 0.811246  \n",
       "orbit_SO                                 -0.132878                -0.043554  \n",
       "orbit_SSO                                -0.204532                 0.452283  \n",
       "orbit_VLEO                                0.027949                -0.176353  \n",
       "launch_site_CCSFS SLC 40                  1.000000                -0.515079  \n",
       "launch_site_KSC LC 39A                   -0.713024                -0.233713  \n",
       "launch_site_VAFB SLC 4E                  -0.515079                 1.000000  "
      ]
     },
     "execution_count": 22,
     "metadata": {},
     "output_type": "execute_result"
    }
   ],
   "source": [
    "temp_df = df[[\"reused\", \"legs\", \"reused_count\", \"year\", \"orbit\", \"launch_site\"]]\n",
    "\n",
    "features = temp_df\n",
    "\n",
    "features_one_hot = pd.get_dummies(\n",
    "    data=features,\n",
    "    columns=[\"orbit\", \"launch_site\"],\n",
    ")\n",
    "correlation_matrix = features_one_hot.corr(method=\"pearson\")\n",
    "#   reused, legs, reused_count, year, orbit (VLEO), launch_site (KSC LC 39A, CCSFS SLC 40, VAFB SLC 4E)\n",
    "min_corr_matrix = correlation_matrix[\n",
    "    [\n",
    "        \"reused\",\n",
    "        \"legs\",\n",
    "        \"reused_count\",\n",
    "        \"year\",\n",
    "        \"orbit_VLEO\",\n",
    "        \"launch_site_KSC LC 39A\",\n",
    "        \"launch_site_CCSFS SLC 40\",\n",
    "        \"launch_site_VAFB SLC 4E\",\n",
    "    ]\n",
    "]\n",
    "min_corr_matrix"
   ]
  },
  {
   "cell_type": "code",
   "execution_count": 23,
   "id": "df5a0876",
   "metadata": {},
   "outputs": [
    {
     "data": {
      "image/png": "[encoded data removed]",
      "text/plain": [
       "<Figure size 1000x600 with 2 Axes>"
      ]
     },
     "metadata": {},
     "output_type": "display_data"
    }
   ],
   "source": [
    "# Plot the correlation matrix as a heatmap\n",
    "plt.figure(figsize=(10, 6))\n",
    "sns.heatmap(\n",
    "    min_corr_matrix,\n",
    "    annot=True,\n",
    "    cmap=\"coolwarm\",\n",
    "    fmt=\".2f\",\n",
    "    linewidths=0.5,\n",
    "    annot_kws={\"fontsize\": 8},\n",
    ")\n",
    "\n",
    "plt.title(\"Correlation Matrix Heatmap\")\n",
    "plt.xticks(fontsize=8)\n",
    "plt.yticks(fontsize=8)\n",
    "plt.show()"
   ]
  },
  {
   "cell_type": "markdown",
   "id": "de1e0844",
   "metadata": {},
   "source": [
    "## Questions\n"
   ]
  },
  {
   "cell_type": "code",
   "execution_count": 24,
   "id": "346a29cc",
   "metadata": {},
   "outputs": [
    {
     "data": {
      "text/plain": [
       "Index(['flight_number', 'date', 'booster_version', 'payload_mass', 'orbit',\n",
       "       'launch_site', 'outcome', 'flights', 'grid_fins', 'reused', 'legs',\n",
       "       'landing_pad', 'block', 'reused_count', 'serial', 'longitude',\n",
       "       'latitude', 'class', 'year'],\n",
       "      dtype='object')"
      ]
     },
     "execution_count": 24,
     "metadata": {},
     "output_type": "execute_result"
    }
   ],
   "source": [
    "df.columns"
   ]
  },
  {
   "cell_type": "code",
   "execution_count": 25,
   "id": "bab739c9",
   "metadata": {},
   "outputs": [
    {
     "data": {
      "text/plain": [
       "array(['CCSFS SLC 40', 'VAFB SLC 4E', 'KSC LC 39A'], dtype=object)"
      ]
     },
     "execution_count": 25,
     "metadata": {},
     "output_type": "execute_result"
    }
   ],
   "source": [
    "df[\"launch_site\"].unique()"
   ]
  },
  {
   "cell_type": "markdown",
   "id": "1dab6947",
   "metadata": {},
   "source": [
    "### Success rate from each launch site\n"
   ]
  },
  {
   "cell_type": "code",
   "execution_count": 26,
   "id": "457ff98f",
   "metadata": {},
   "outputs": [
    {
     "name": "stdout",
     "output_type": "stream",
     "text": [
      "['CCSFS SLC 40' 'VAFB SLC 4E' 'KSC LC 39A']\n",
      "[33, 17, 10]\n",
      "[55, 22, 13]\n"
     ]
    },
    {
     "data": {
      "application/vnd.microsoft.datawrangler.viewer.v0+json": {
       "columns": [
        {
         "name": "index",
         "rawType": "int64",
         "type": "integer"
        },
        {
         "name": "site",
         "rawType": "object",
         "type": "string"
        },
        {
         "name": "success",
         "rawType": "int64",
         "type": "integer"
        },
        {
         "name": "count",
         "rawType": "int64",
         "type": "integer"
        },
        {
         "name": "success_rate",
         "rawType": "float64",
         "type": "float"
        }
       ],
       "ref": "d32182eb-b8b7-4f44-a643-3926a6a80dd5",
       "rows": [
        [
         "0",
         "CCSFS SLC 40",
         "33",
         "55",
         "0.6"
        ],
        [
         "1",
         "VAFB SLC 4E",
         "17",
         "22",
         "0.7727"
        ],
        [
         "2",
         "KSC LC 39A",
         "10",
         "13",
         "0.7692"
        ]
       ],
       "shape": {
        "columns": 4,
        "rows": 3
       }
      },
      "text/html": [
       "<div>\n",
       "<style scoped>\n",
       "    .dataframe tbody tr th:only-of-type {\n",
       "        vertical-align: middle;\n",
       "    }\n",
       "\n",
       "    .dataframe tbody tr th {\n",
       "        vertical-align: top;\n",
       "    }\n",
       "\n",
       "    .dataframe thead th {\n",
       "        text-align: right;\n",
       "    }\n",
       "</style>\n",
       "<table border=\"1\" class=\"dataframe\">\n",
       "  <thead>\n",
       "    <tr style=\"text-align: right;\">\n",
       "      <th></th>\n",
       "      <th>site</th>\n",
       "      <th>success</th>\n",
       "      <th>count</th>\n",
       "      <th>success_rate</th>\n",
       "    </tr>\n",
       "  </thead>\n",
       "  <tbody>\n",
       "    <tr>\n",
       "      <th>0</th>\n",
       "      <td>CCSFS SLC 40</td>\n",
       "      <td>33</td>\n",
       "      <td>55</td>\n",
       "      <td>0.6000</td>\n",
       "    </tr>\n",
       "    <tr>\n",
       "      <th>1</th>\n",
       "      <td>VAFB SLC 4E</td>\n",
       "      <td>17</td>\n",
       "      <td>22</td>\n",
       "      <td>0.7727</td>\n",
       "    </tr>\n",
       "    <tr>\n",
       "      <th>2</th>\n",
       "      <td>KSC LC 39A</td>\n",
       "      <td>10</td>\n",
       "      <td>13</td>\n",
       "      <td>0.7692</td>\n",
       "    </tr>\n",
       "  </tbody>\n",
       "</table>\n",
       "</div>"
      ],
      "text/plain": [
       "           site  success  count  success_rate\n",
       "0  CCSFS SLC 40       33     55        0.6000\n",
       "1   VAFB SLC 4E       17     22        0.7727\n",
       "2    KSC LC 39A       10     13        0.7692"
      ]
     },
     "execution_count": 26,
     "metadata": {},
     "output_type": "execute_result"
    }
   ],
   "source": [
    "launch_sites = df[\"launch_site\"].unique()\n",
    "launch_success = list(df.groupby([\"launch_site\"])[\"class\"].sum())\n",
    "launch_count = list(df.groupby([\"launch_site\"])[\"class\"].count())\n",
    "print(launch_sites)\n",
    "print(launch_success)\n",
    "print(launch_count)\n",
    "\n",
    "success_df = pd.DataFrame(\n",
    "    data={\"site\": launch_sites, \"success\": launch_success, \"count\": launch_count}\n",
    ")\n",
    "success_df[\"success_rate\"] = round(success_df[\"success\"] / success_df[\"count\"], 4)\n",
    "success_df"
   ]
  },
  {
   "cell_type": "markdown",
   "id": "543c1c87",
   "metadata": {},
   "source": [
    "### Success rate for each payload\n"
   ]
  },
  {
   "cell_type": "code",
   "execution_count": 27,
   "id": "a1a4ffe0",
   "metadata": {},
   "outputs": [
    {
     "name": "stdout",
     "output_type": "stream",
     "text": [
      "[Interval(0.0, 3120.0, closed='right'), Interval(3120.0, 6240.0, closed='right'), Interval(6240.0, 9360.0, closed='right'), Interval(9360.0, 12480.0, closed='right'), Interval(12480.0, 15600.0, closed='right')]\n",
      "[30, 32, 5, 9, 14]\n",
      "[30, 32, 5, 9, 14]\n"
     ]
    }
   ],
   "source": [
    "bins = np.linspace(0, df[\"payload_mass\"].max(), 6)\n",
    "\n",
    "binned_intervals = list(\n",
    "    pd.cut(df[\"payload_mass\"], bins).value_counts().sort_index().index\n",
    ")\n",
    "binned_counts = list(pd.cut(df[\"payload_mass\"], bins).value_counts().sort_index())\n",
    "binned_success = list(pd.cut(df[\"payload_mass\"], bins).value_counts().sort_index())\n",
    "print(binned_intervals)\n",
    "print(binned_counts)\n",
    "print(binned_success)"
   ]
  },
  {
   "cell_type": "code",
   "execution_count": 28,
   "id": "811127c7",
   "metadata": {},
   "outputs": [
    {
     "data": {
      "application/vnd.microsoft.datawrangler.viewer.v0+json": {
       "columns": [
        {
         "name": "payload_mass",
         "rawType": "object",
         "type": "unknown"
        },
        {
         "name": "count",
         "rawType": "object",
         "type": "unknown"
        }
       ],
       "ref": "75d7fdc4-e398-4195-a491-1941b341c72c",
       "rows": [
        [
         "(0.0, 3120.0]",
         "30"
        ],
        [
         "(3120.0, 6240.0]",
         "32"
        ],
        [
         "(6240.0, 9360.0]",
         "5"
        ],
        [
         "(9360.0, 12480.0]",
         "9"
        ],
        [
         "(12480.0, 15600.0]",
         "14"
        ],
        [
         "success_pct",
         "0     0\n1     0\n2     0\n3     0\n4     0\n     ..\n85    1\n86    1\n87    1\n88    1\n89    1\nName: class, Length: 90, dtype: int64"
        ]
       ],
       "shape": {
        "columns": 1,
        "rows": 6
       }
      },
      "text/plain": [
       "payload_mass\n",
       "(0.0, 3120.0]                                                                                                                                    30\n",
       "(3120.0, 6240.0]                                                                                                                                 32\n",
       "(6240.0, 9360.0]                                                                                                                                  5\n",
       "(9360.0, 12480.0]                                                                                                                                 9\n",
       "(12480.0, 15600.0]                                                                                                                               14\n",
       "success_pct           0     0\n",
       "1     0\n",
       "2     0\n",
       "3     0\n",
       "4     0\n",
       "     ..\n",
       "85    1\n",
       "86    1\n",
       "87    1\n",
       "88    1\n",
       "89    1\n",
       "Name: class, Length: 90, dtype: int64\n",
       "Name: count, dtype: object"
      ]
     },
     "execution_count": 28,
     "metadata": {},
     "output_type": "execute_result"
    }
   ],
   "source": [
    "binned_payload_df = pd.cut(df[\"payload_mass\"], bins).value_counts().sort_index()\n",
    "binned_payload_df[\"success_pct\"] = df[\"class\"]\n",
    "binned_payload_df"
   ]
  },
  {
   "cell_type": "code",
   "execution_count": null,
   "id": "dc30d35c",
   "metadata": {},
   "outputs": [],
   "source": []
  }
 ],
 "metadata": {
  "kernelspec": {
   "display_name": "ibm-data-science-cert-capstone",
   "language": "python",
   "name": "python3"
  },
  "language_info": {
   "codemirror_mode": {
    "name": "ipython",
    "version": 3
   },
   "file_extension": ".py",
   "mimetype": "text/x-python",
   "name": "python",
   "nbconvert_exporter": "python",
   "pygments_lexer": "ipython3",
   "version": "3.13.0"
  }
 },
 "nbformat": 4,
 "nbformat_minor": 5
}
